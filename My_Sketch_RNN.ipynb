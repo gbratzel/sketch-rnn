{
  "nbformat": 4,
  "nbformat_minor": 0,
  "metadata": {
    "colab": {
      "name": "My_Sketch_RNN.ipynb",
      "provenance": [],
      "include_colab_link": true
    },
    "kernelspec": {
      "name": "python3",
      "display_name": "Python 3"
    },
    "accelerator": "GPU"
  },
  "cells": [
    {
      "cell_type": "markdown",
      "metadata": {
        "id": "view-in-github",
        "colab_type": "text"
      },
      "source": [
        "<a href=\"https://colab.research.google.com/github/gbratzel/sketch-rnn/blob/master/My_Sketch_RNN.ipynb\" target=\"_parent\"><img src=\"https://colab.research.google.com/assets/colab-badge.svg\" alt=\"Open In Colab\"/></a>"
      ]
    },
    {
      "cell_type": "markdown",
      "metadata": {
        "id": "m-YOqZR1nGHk",
        "colab_type": "text"
      },
      "source": [
        "# Setting up"
      ]
    },
    {
      "cell_type": "markdown",
      "metadata": {
        "id": "OX9EveXtnLMe",
        "colab_type": "text"
      },
      "source": [
        "The following section is revised from the Jupyter notebook found here: https://github.com/magenta/magenta-demos/blob/master/jupyter-notebooks/Sketch_RNN.ipynb. This notebook describes how to load pre-trained models and draw things with sketch-rnn."
      ]
    },
    {
      "cell_type": "code",
      "metadata": {
        "id": "k0GqvYgB9JLC",
        "colab_type": "code",
        "colab": {
          "base_uri": "https://localhost:8080/",
          "height": 411
        },
        "outputId": "811947e3-2aeb-41a5-a11c-c7dbf694bad5"
      },
      "source": [
        "# import numpy\n",
        "!pip install numpy==1.16.2 # a specific version of numpy in which allow_pickle is initialized to True\n",
        "import numpy as np\n",
        "print(np.__version__)\n",
        "\n",
        "#import tensorflow \n",
        "!pip install tensorflow==1.15 # a specific version of tensorflow is needed\n",
        "#!pip install tensorflow==1.8\n",
        "#!pip install --upgrade tensorflow\n",
        "import tensorflow as tf\n",
        "from tensorflow import keras\n",
        "tf.logging.info(\"TensorFlow Version: %s\", tf.__version__)\n",
        "\n",
        "#import other libraries\n",
        "import time\n",
        "import random\n",
        "import pickle\n",
        "import codecs\n",
        "import collections\n",
        "import os\n",
        "import math\n",
        "import json\n",
        "from six.moves import xrange"
      ],
      "execution_count": 2,
      "outputs": [
        {
          "output_type": "stream",
          "text": [
            "Requirement already satisfied: numpy==1.16.2 in /usr/local/lib/python3.6/dist-packages (1.16.2)\n",
            "1.16.2\n",
            "Requirement already satisfied: tensorflow==1.15 in /usr/local/lib/python3.6/dist-packages (1.15.0)\n",
            "Requirement already satisfied: protobuf>=3.6.1 in /usr/local/lib/python3.6/dist-packages (from tensorflow==1.15) (3.10.0)\n",
            "Requirement already satisfied: six>=1.10.0 in /usr/local/lib/python3.6/dist-packages (from tensorflow==1.15) (1.12.0)\n",
            "Requirement already satisfied: wrapt>=1.11.1 in /usr/local/lib/python3.6/dist-packages (from tensorflow==1.15) (1.12.1)\n",
            "Requirement already satisfied: absl-py>=0.7.0 in /usr/local/lib/python3.6/dist-packages (from tensorflow==1.15) (0.9.0)\n",
            "Requirement already satisfied: tensorflow-estimator==1.15.1 in /usr/local/lib/python3.6/dist-packages (from tensorflow==1.15) (1.15.1)\n",
            "Requirement already satisfied: tensorboard<1.16.0,>=1.15.0 in /usr/local/lib/python3.6/dist-packages (from tensorflow==1.15) (1.15.0)\n",
            "Requirement already satisfied: opt-einsum>=2.3.2 in /usr/local/lib/python3.6/dist-packages (from tensorflow==1.15) (3.2.1)\n",
            "Requirement already satisfied: grpcio>=1.8.6 in /usr/local/lib/python3.6/dist-packages (from tensorflow==1.15) (1.28.1)\n",
            "Requirement already satisfied: astor>=0.6.0 in /usr/local/lib/python3.6/dist-packages (from tensorflow==1.15) (0.8.1)\n",
            "Requirement already satisfied: numpy<2.0,>=1.16.0 in /usr/local/lib/python3.6/dist-packages (from tensorflow==1.15) (1.16.2)\n",
            "Requirement already satisfied: keras-preprocessing>=1.0.5 in /usr/local/lib/python3.6/dist-packages (from tensorflow==1.15) (1.1.0)\n",
            "Requirement already satisfied: termcolor>=1.1.0 in /usr/local/lib/python3.6/dist-packages (from tensorflow==1.15) (1.1.0)\n",
            "Requirement already satisfied: keras-applications>=1.0.8 in /usr/local/lib/python3.6/dist-packages (from tensorflow==1.15) (1.0.8)\n",
            "Requirement already satisfied: wheel>=0.26 in /usr/local/lib/python3.6/dist-packages (from tensorflow==1.15) (0.34.2)\n",
            "Requirement already satisfied: gast==0.2.2 in /usr/local/lib/python3.6/dist-packages (from tensorflow==1.15) (0.2.2)\n",
            "Requirement already satisfied: google-pasta>=0.1.6 in /usr/local/lib/python3.6/dist-packages (from tensorflow==1.15) (0.2.0)\n",
            "Requirement already satisfied: setuptools in /usr/local/lib/python3.6/dist-packages (from protobuf>=3.6.1->tensorflow==1.15) (46.1.3)\n",
            "Requirement already satisfied: markdown>=2.6.8 in /usr/local/lib/python3.6/dist-packages (from tensorboard<1.16.0,>=1.15.0->tensorflow==1.15) (3.2.1)\n",
            "Requirement already satisfied: werkzeug>=0.11.15 in /usr/local/lib/python3.6/dist-packages (from tensorboard<1.16.0,>=1.15.0->tensorflow==1.15) (1.0.1)\n",
            "Requirement already satisfied: h5py in /usr/local/lib/python3.6/dist-packages (from keras-applications>=1.0.8->tensorflow==1.15) (2.10.0)\n"
          ],
          "name": "stdout"
        }
      ]
    },
    {
      "cell_type": "code",
      "metadata": {
        "id": "UI4ZC__4FQuL",
        "colab_type": "code",
        "colab": {}
      },
      "source": [
        "# libraries for visualisation:\n",
        "from IPython.display import SVG, display\n",
        "import PIL\n",
        "from PIL import Image\n",
        "import matplotlib.pyplot as plt\n",
        "\n",
        "# set numpy output to something sensible\n",
        "np.set_printoptions(precision=8, edgeitems=6, linewidth=200, suppress=True)"
      ],
      "execution_count": 0,
      "outputs": []
    },
    {
      "cell_type": "code",
      "metadata": {
        "id": "D7ObpAUh9jrk",
        "colab_type": "code",
        "colab": {}
      },
      "source": [
        "!pip install -qU svgwrite\n",
        "import svgwrite # conda install -c omnia svgwrite=1.1.6"
      ],
      "execution_count": 0,
      "outputs": []
    },
    {
      "cell_type": "code",
      "metadata": {
        "id": "LebxcF4p90OR",
        "colab_type": "code",
        "outputId": "d7a3ddb5-7089-4e96-f56f-2231e1dcf9bf",
        "colab": {
          "base_uri": "https://localhost:8080/",
          "height": 82
        }
      },
      "source": [
        "!pip install -q magenta"
      ],
      "execution_count": 6,
      "outputs": [
        {
          "output_type": "stream",
          "text": [
            "\u001b[?25l\r\u001b[K     |████▎                           | 10kB 31.7MB/s eta 0:00:01\r\u001b[K     |████████▌                       | 20kB 32.2MB/s eta 0:00:01\r\u001b[K     |████████████▊                   | 30kB 37.0MB/s eta 0:00:01\r\u001b[K     |█████████████████               | 40kB 24.5MB/s eta 0:00:01\r\u001b[K     |█████████████████████▏          | 51kB 15.2MB/s eta 0:00:01\r\u001b[K     |█████████████████████████▌      | 61kB 12.1MB/s eta 0:00:01\r\u001b[K     |█████████████████████████████▊  | 71kB 11.5MB/s eta 0:00:01\r\u001b[K     |████████████████████████████████| 81kB 6.6MB/s \n",
            "\u001b[?25h  Building wheel for oauth2client (setup.py) ... \u001b[?25l\u001b[?25hdone\n",
            "\u001b[31mERROR: tensor2tensor 1.15.5 has requirement gym==0.14.0, but you'll have gym 0.15.7 which is incompatible.\u001b[0m\n",
            "\u001b[31mERROR: pydrive 1.3.1 has requirement oauth2client>=4.0.0, but you'll have oauth2client 3.0.0 which is incompatible.\u001b[0m\n"
          ],
          "name": "stdout"
        }
      ]
    },
    {
      "cell_type": "code",
      "metadata": {
        "id": "NkFS0E1zFQuU",
        "colab_type": "code",
        "colab": {}
      },
      "source": [
        "# import magenta tools\n",
        "from magenta.models.sketch_rnn.sketch_rnn_train import *\n",
        "from magenta.models.sketch_rnn.model import *\n",
        "from magenta.models.sketch_rnn.utils import *\n",
        "from magenta.models.sketch_rnn.rnn import *"
      ],
      "execution_count": 0,
      "outputs": []
    },
    {
      "cell_type": "code",
      "metadata": {
        "id": "GBde4xkEFQuX",
        "colab_type": "code",
        "colab": {}
      },
      "source": [
        "# function that displays vector images and saves them to .svg\n",
        "def draw_strokes(data, factor=0.2, svg_filename = '/tmp/sketch_rnn/svg/sample.svg'):\n",
        "  tf.gfile.MakeDirs(os.path.dirname(svg_filename))\n",
        "  min_x, max_x, min_y, max_y = get_bounds(data, factor)\n",
        "  dims = (50 + max_x - min_x, 50 + max_y - min_y)\n",
        "  dwg = svgwrite.Drawing(svg_filename, size=dims)\n",
        "  dwg.add(dwg.rect(insert=(0, 0), size=dims,fill='white'))\n",
        "  lift_pen = 1\n",
        "  abs_x = 25 - min_x \n",
        "  abs_y = 25 - min_y\n",
        "  p = \"M%s,%s \" % (abs_x, abs_y)\n",
        "  command = \"m\"\n",
        "  for i in xrange(len(data)):\n",
        "    if (lift_pen == 1):\n",
        "      command = \"m\"\n",
        "    elif (command != \"l\"):\n",
        "      command = \"l\"\n",
        "    else:\n",
        "      command = \"\"\n",
        "    x = float(data[i,0])/factor\n",
        "    y = float(data[i,1])/factor\n",
        "    lift_pen = data[i, 2]\n",
        "    p += command+str(x)+\",\"+str(y)+\" \"\n",
        "  the_color = \"black\"\n",
        "  stroke_width = 1\n",
        "  dwg.add(dwg.path(p).stroke(the_color,stroke_width).fill(\"none\"))\n",
        "  dwg.save()\n",
        "  display(SVG(dwg.tostring()))\n",
        "\n",
        "# generate a 2D grid of many vector drawings\n",
        "def make_grid_svg(s_list, grid_space=10.0, grid_space_x=16.0):\n",
        "  def get_start_and_end(x):\n",
        "    x = np.array(x)\n",
        "    x = x[:, 0:2]\n",
        "    x_start = x[0]\n",
        "    x_end = x.sum(axis=0)\n",
        "    x = x.cumsum(axis=0)\n",
        "    x_max = x.max(axis=0)\n",
        "    x_min = x.min(axis=0)\n",
        "    center_loc = (x_max+x_min)*0.5\n",
        "    return x_start-center_loc, x_end\n",
        "  x_pos = 0.0\n",
        "  y_pos = 0.0\n",
        "  result = [[x_pos, y_pos, 1]]\n",
        "  for sample in s_list:\n",
        "    s = sample[0]\n",
        "    grid_loc = sample[1]\n",
        "    grid_y = grid_loc[0]*grid_space+grid_space*0.5\n",
        "    grid_x = grid_loc[1]*grid_space_x+grid_space_x*0.5\n",
        "    start_loc, delta_pos = get_start_and_end(s)\n",
        "\n",
        "    loc_x = start_loc[0]\n",
        "    loc_y = start_loc[1]\n",
        "    new_x_pos = grid_x+loc_x\n",
        "    new_y_pos = grid_y+loc_y\n",
        "    result.append([new_x_pos-x_pos, new_y_pos-y_pos, 0])\n",
        "\n",
        "    result += s.tolist()\n",
        "    result[-1][2] = 1\n",
        "    x_pos = new_x_pos+delta_pos[0]\n",
        "    y_pos = new_y_pos+delta_pos[1]\n",
        "  return np.array(result)"
      ],
      "execution_count": 0,
      "outputs": []
    },
    {
      "cell_type": "markdown",
      "metadata": {
        "id": "cQIIilWxoTaE",
        "colab_type": "text"
      },
      "source": [
        "# Defining model and dataset"
      ]
    },
    {
      "cell_type": "markdown",
      "metadata": {
        "id": "if7-UyxzFQuY",
        "colab_type": "text"
      },
      "source": [
        "define the path of the model you want to load, and also the path of the dataset.\n",
        "\n",
        "I am using the Omniglot dataset taken from https://github.com/hardmaru/sketch-rnn-datasets/tree/master/omniglot. \n",
        "\n",
        "Since the above code came from a notebook whose purpose was to use pretrained models, I needed to adjust the code to allow us to build a new model to train on a new dataset! For this, I revised the code from the following github: https://github.com/magenta/magenta-demos/blob/master/jupyter-notebooks/Sketch_RNN_TF_To_JS_Tutorial.ipynb."
      ]
    },
    {
      "cell_type": "markdown",
      "metadata": {
        "id": "4Ps6K-fxqNh3",
        "colab_type": "text"
      },
      "source": [
        "Using dataset from Lake, B. M., Salakhutdinov, R., and Tenenbaum, J. B. (2015). Human-level concept learning through probabilistic program induction. Science, 350(6266), 1332-1338."
      ]
    },
    {
      "cell_type": "code",
      "metadata": {
        "id": "Dipv1EbsFQuZ",
        "colab_type": "code",
        "colab": {}
      },
      "source": [
        "#data_dir = 'https://github.com/hardmaru/sketch-rnn-datasets/blob/master/omniglot'\n",
        "#data_dir = 'https://github.com/gbratzel/sketch-rnn/blob/master/'\n",
        "data_set = np.load('/content/omniglot.npz', encoding='latin1', allow_pickle=True)\n",
        "data_dir = '/content'\n",
        "#data_set = 'omniglot.npz'\n",
        "models_root_dir = '/content'\n",
        "#models_root_dir = '/tmp/sketch-rnn'\n",
        "model_dir = '/content'\n",
        "#model_dir = '/tmp/sketch-rnn/models'\n",
        "log_root = '/content'\n",
        "#!git clone 'https://github.com/gbratzel/sketch-rnn/blob/master/model_config.json'"
      ],
      "execution_count": 0,
      "outputs": []
    },
    {
      "cell_type": "code",
      "metadata": {
        "id": "Fh3VLoP2IlWW",
        "colab_type": "code",
        "colab": {
          "base_uri": "https://localhost:8080/",
          "height": 131
        },
        "outputId": "d64ce92c-b257-4594-ab55-7bb4405b714c"
      },
      "source": [
        "[train_set, valid_set, test_set, hps_model, eval_hps_model, sample_hps_model] = load_env(data_dir, model_dir)"
      ],
      "execution_count": 70,
      "outputs": [
        {
          "output_type": "stream",
          "text": [
            "INFO:tensorflow:Loaded 30000/1000/1000 from omniglot.npz\n",
            "INFO:tensorflow:Dataset combined: 32000 (30000/1000/1000), avg len 31\n",
            "INFO:tensorflow:model_params.max_seq_len 157.\n",
            "total images <= max_seq_len is 30000\n",
            "total images <= max_seq_len is 1000\n",
            "total images <= max_seq_len is 1000\n",
            "INFO:tensorflow:normalizing_scale_factor 53.4370.\n"
          ],
          "name": "stdout"
        }
      ]
    },
    {
      "cell_type": "code",
      "metadata": {
        "id": "aakBwCPgWhDC",
        "colab_type": "code",
        "colab": {}
      },
      "source": [
        "[hps_model, eval_hps_model, sample_hps_model] = load_model(model_dir)"
      ],
      "execution_count": 0,
      "outputs": []
    },
    {
      "cell_type": "code",
      "metadata": {
        "id": "7ek1kAtLW2Rr",
        "colab_type": "code",
        "colab": {
          "base_uri": "https://localhost:8080/",
          "height": 212
        },
        "outputId": "2ac5e136-83fd-4cbe-b26d-409e7a04c18a"
      },
      "source": [
        "# construct the sketch-rnn model here:\n",
        "reset_graph()\n",
        "model = Model(hps_model)\n",
        "eval_model = Model(eval_hps_model, reuse=True)\n",
        "sample_model = Model(sample_hps_model, reuse=True)"
      ],
      "execution_count": 68,
      "outputs": [
        {
          "output_type": "stream",
          "text": [
            "INFO:tensorflow:Model using gpu.\n",
            "INFO:tensorflow:Input dropout mode = False.\n",
            "INFO:tensorflow:Output dropout mode = False.\n",
            "INFO:tensorflow:Recurrent dropout mode = True.\n",
            "INFO:tensorflow:Model using gpu.\n",
            "INFO:tensorflow:Input dropout mode = 0.\n",
            "INFO:tensorflow:Output dropout mode = 0.\n",
            "INFO:tensorflow:Recurrent dropout mode = 0.\n",
            "INFO:tensorflow:Model using gpu.\n",
            "INFO:tensorflow:Input dropout mode = 0.\n",
            "INFO:tensorflow:Output dropout mode = 0.\n",
            "INFO:tensorflow:Recurrent dropout mode = 0.\n"
          ],
          "name": "stdout"
        }
      ]
    },
    {
      "cell_type": "code",
      "metadata": {
        "id": "Pw64rqWF4UwR",
        "colab_type": "code",
        "colab": {}
      },
      "source": [
        "tf.InteractiveSession.close(sess)"
      ],
      "execution_count": 0,
      "outputs": []
    },
    {
      "cell_type": "code",
      "metadata": {
        "id": "dOnZvCEnW-uN",
        "colab_type": "code",
        "colab": {
          "base_uri": "https://localhost:8080/",
          "height": 70
        },
        "outputId": "67c04d4b-51a0-4e86-d7a9-f9d9ff040b97"
      },
      "source": [
        "#sess.close();\n",
        "sess = tf.InteractiveSession()\n",
        "sess.run(tf.global_variables_initializer())"
      ],
      "execution_count": 80,
      "outputs": [
        {
          "output_type": "stream",
          "text": [
            "/usr/local/lib/python3.6/dist-packages/tensorflow_core/python/client/session.py:1750: UserWarning: An interactive session is already active. This can cause out-of-memory errors in some cases. You must explicitly call `InteractiveSession.close()` to release resources held by the other session(s).\n",
            "  warnings.warn('An interactive session is already active. This can '\n"
          ],
          "name": "stderr"
        }
      ]
    },
    {
      "cell_type": "code",
      "metadata": {
        "id": "F9m7z0v6XFSB",
        "colab_type": "code",
        "colab": {}
      },
      "source": [
        "def decode(z_input=None, draw_mode=True, temperature=0.1, factor=0.2):\n",
        "  z = None\n",
        "  if z_input is not None:\n",
        "    z = [z_input]\n",
        "  sample_strokes, m = sample(sess, sample_model, seq_len=eval_model.hps.max_seq_len, temperature=temperature, z=z)\n",
        "  strokes = to_normal_strokes(sample_strokes)\n",
        "  if draw_mode:\n",
        "    draw_strokes(strokes, factor)\n",
        "  return strokes"
      ],
      "execution_count": 0,
      "outputs": []
    },
    {
      "cell_type": "code",
      "metadata": {
        "id": "T2OMoI1AG6EL",
        "colab_type": "code",
        "colab": {
          "base_uri": "https://localhost:8080/",
          "height": 755
        },
        "outputId": "2b4c1c2b-cd69-4f79-a8a1-5a141708745c"
      },
      "source": [
        "#tf.app.flags.DEFINE_string('f', '', 'kernel')\n",
        "train(sess, model, eval_model, train_set, valid_set, test_set)"
      ],
      "execution_count": 81,
      "outputs": [
        {
          "output_type": "stream",
          "text": [
            "INFO:tensorflow:vector_rnn/ENC_RNN/fw/LayerNormLSTMCell/W_xh:0 (5, 1024) 5120\n",
            "INFO:tensorflow:vector_rnn/ENC_RNN/fw/LayerNormLSTMCell/W_hh:0 (256, 1024) 262144\n",
            "INFO:tensorflow:vector_rnn/ENC_RNN/fw/LayerNormLSTMCell/ln_all/ln_gamma:0 (1024,) 1024\n",
            "INFO:tensorflow:vector_rnn/ENC_RNN/fw/LayerNormLSTMCell/ln_all/ln_beta:0 (1024,) 1024\n",
            "INFO:tensorflow:vector_rnn/ENC_RNN/fw/LayerNormLSTMCell/ln_c/ln_gamma:0 (256,) 256\n",
            "INFO:tensorflow:vector_rnn/ENC_RNN/fw/LayerNormLSTMCell/ln_c/ln_beta:0 (256,) 256\n",
            "INFO:tensorflow:vector_rnn/ENC_RNN/bw/LayerNormLSTMCell/W_xh:0 (5, 1024) 5120\n",
            "INFO:tensorflow:vector_rnn/ENC_RNN/bw/LayerNormLSTMCell/W_hh:0 (256, 1024) 262144\n",
            "INFO:tensorflow:vector_rnn/ENC_RNN/bw/LayerNormLSTMCell/ln_all/ln_gamma:0 (1024,) 1024\n",
            "INFO:tensorflow:vector_rnn/ENC_RNN/bw/LayerNormLSTMCell/ln_all/ln_beta:0 (1024,) 1024\n",
            "INFO:tensorflow:vector_rnn/ENC_RNN/bw/LayerNormLSTMCell/ln_c/ln_gamma:0 (256,) 256\n",
            "INFO:tensorflow:vector_rnn/ENC_RNN/bw/LayerNormLSTMCell/ln_c/ln_beta:0 (256,) 256\n",
            "INFO:tensorflow:vector_rnn/ENC_RNN_mu/super_linear_w:0 (512, 128) 65536\n",
            "INFO:tensorflow:vector_rnn/ENC_RNN_mu/super_linear_b:0 (128,) 128\n",
            "INFO:tensorflow:vector_rnn/ENC_RNN_sigma/super_linear_w:0 (512, 128) 65536\n",
            "INFO:tensorflow:vector_rnn/ENC_RNN_sigma/super_linear_b:0 (128,) 128\n",
            "INFO:tensorflow:vector_rnn/linear/super_linear_w:0 (128, 1024) 131072\n",
            "INFO:tensorflow:vector_rnn/linear/super_linear_b:0 (1024,) 1024\n",
            "INFO:tensorflow:vector_rnn/RNN/output_w:0 (512, 123) 62976\n",
            "INFO:tensorflow:vector_rnn/RNN/output_b:0 (123,) 123\n",
            "INFO:tensorflow:vector_rnn/RNN/LayerNormLSTMCell/W_xh:0 (133, 2048) 272384\n",
            "INFO:tensorflow:vector_rnn/RNN/LayerNormLSTMCell/W_hh:0 (512, 2048) 1048576\n",
            "INFO:tensorflow:vector_rnn/RNN/LayerNormLSTMCell/ln_all/ln_gamma:0 (2048,) 2048\n",
            "INFO:tensorflow:vector_rnn/RNN/LayerNormLSTMCell/ln_all/ln_beta:0 (2048,) 2048\n",
            "INFO:tensorflow:vector_rnn/RNN/LayerNormLSTMCell/ln_c/ln_gamma:0 (512,) 512\n",
            "INFO:tensorflow:vector_rnn/RNN/LayerNormLSTMCell/ln_c/ln_beta:0 (512,) 512\n",
            "INFO:tensorflow:Total trainable variables 2192251.\n"
          ],
          "name": "stdout"
        },
        {
          "output_type": "error",
          "ename": "ValueError",
          "evalue": "ignored",
          "traceback": [
            "\u001b[0;31m---------------------------------------------------------------------------\u001b[0m",
            "\u001b[0;31mValueError\u001b[0m                                Traceback (most recent call last)",
            "\u001b[0;32m<ipython-input-81-f616af869dd4>\u001b[0m in \u001b[0;36m<module>\u001b[0;34m()\u001b[0m\n\u001b[0;32m----> 1\u001b[0;31m \u001b[0mtrain\u001b[0m\u001b[0;34m(\u001b[0m\u001b[0msess\u001b[0m\u001b[0;34m,\u001b[0m \u001b[0mmodel\u001b[0m\u001b[0;34m,\u001b[0m \u001b[0meval_model\u001b[0m\u001b[0;34m,\u001b[0m \u001b[0mtrain_set\u001b[0m\u001b[0;34m,\u001b[0m \u001b[0mvalid_set\u001b[0m\u001b[0;34m,\u001b[0m \u001b[0mtest_set\u001b[0m\u001b[0;34m)\u001b[0m\u001b[0;34m\u001b[0m\u001b[0;34m\u001b[0m\u001b[0m\n\u001b[0m",
            "\u001b[0;32m/usr/local/lib/python3.6/dist-packages/magenta/models/sketch_rnn/sketch_rnn_train.py\u001b[0m in \u001b[0;36mtrain\u001b[0;34m(sess, model, eval_model, train_set, valid_set, test_set)\u001b[0m\n\u001b[1;32m    296\u001b[0m         \u001b[0mmodel\u001b[0m\u001b[0;34m.\u001b[0m\u001b[0mcost\u001b[0m\u001b[0;34m,\u001b[0m \u001b[0mmodel\u001b[0m\u001b[0;34m.\u001b[0m\u001b[0mr_cost\u001b[0m\u001b[0;34m,\u001b[0m \u001b[0mmodel\u001b[0m\u001b[0;34m.\u001b[0m\u001b[0mkl_cost\u001b[0m\u001b[0;34m,\u001b[0m \u001b[0mmodel\u001b[0m\u001b[0;34m.\u001b[0m\u001b[0mfinal_state\u001b[0m\u001b[0;34m,\u001b[0m\u001b[0;34m\u001b[0m\u001b[0;34m\u001b[0m\u001b[0m\n\u001b[1;32m    297\u001b[0m         \u001b[0mmodel\u001b[0m\u001b[0;34m.\u001b[0m\u001b[0mglobal_step\u001b[0m\u001b[0;34m,\u001b[0m \u001b[0mmodel\u001b[0m\u001b[0;34m.\u001b[0m\u001b[0mtrain_op\u001b[0m\u001b[0;34m\u001b[0m\u001b[0;34m\u001b[0m\u001b[0m\n\u001b[0;32m--> 298\u001b[0;31m     ], feed)\n\u001b[0m\u001b[1;32m    299\u001b[0m \u001b[0;34m\u001b[0m\u001b[0m\n\u001b[1;32m    300\u001b[0m     \u001b[0;32mif\u001b[0m \u001b[0mstep\u001b[0m \u001b[0;34m%\u001b[0m \u001b[0;36m20\u001b[0m \u001b[0;34m==\u001b[0m \u001b[0;36m0\u001b[0m \u001b[0;32mand\u001b[0m \u001b[0mstep\u001b[0m \u001b[0;34m>\u001b[0m \u001b[0;36m0\u001b[0m\u001b[0;34m:\u001b[0m\u001b[0;34m\u001b[0m\u001b[0;34m\u001b[0m\u001b[0m\n",
            "\u001b[0;32m/usr/local/lib/python3.6/dist-packages/tensorflow_core/python/client/session.py\u001b[0m in \u001b[0;36mrun\u001b[0;34m(self, fetches, feed_dict, options, run_metadata)\u001b[0m\n\u001b[1;32m    954\u001b[0m     \u001b[0;32mtry\u001b[0m\u001b[0;34m:\u001b[0m\u001b[0;34m\u001b[0m\u001b[0;34m\u001b[0m\u001b[0m\n\u001b[1;32m    955\u001b[0m       result = self._run(None, fetches, feed_dict, options_ptr,\n\u001b[0;32m--> 956\u001b[0;31m                          run_metadata_ptr)\n\u001b[0m\u001b[1;32m    957\u001b[0m       \u001b[0;32mif\u001b[0m \u001b[0mrun_metadata\u001b[0m\u001b[0;34m:\u001b[0m\u001b[0;34m\u001b[0m\u001b[0;34m\u001b[0m\u001b[0m\n\u001b[1;32m    958\u001b[0m         \u001b[0mproto_data\u001b[0m \u001b[0;34m=\u001b[0m \u001b[0mtf_session\u001b[0m\u001b[0;34m.\u001b[0m\u001b[0mTF_GetBuffer\u001b[0m\u001b[0;34m(\u001b[0m\u001b[0mrun_metadata_ptr\u001b[0m\u001b[0;34m)\u001b[0m\u001b[0;34m\u001b[0m\u001b[0;34m\u001b[0m\u001b[0m\n",
            "\u001b[0;32m/usr/local/lib/python3.6/dist-packages/tensorflow_core/python/client/session.py\u001b[0m in \u001b[0;36m_run\u001b[0;34m(self, handle, fetches, feed_dict, options, run_metadata)\u001b[0m\n\u001b[1;32m   1154\u001b[0m                 \u001b[0;34m'Cannot feed value of shape %r for Tensor %r, '\u001b[0m\u001b[0;34m\u001b[0m\u001b[0;34m\u001b[0m\u001b[0m\n\u001b[1;32m   1155\u001b[0m                 \u001b[0;34m'which has shape %r'\u001b[0m \u001b[0;34m%\u001b[0m\u001b[0;34m\u001b[0m\u001b[0;34m\u001b[0m\u001b[0m\n\u001b[0;32m-> 1156\u001b[0;31m                 (np_val.shape, subfeed_t.name, str(subfeed_t.get_shape())))\n\u001b[0m\u001b[1;32m   1157\u001b[0m           \u001b[0;32mif\u001b[0m \u001b[0;32mnot\u001b[0m \u001b[0mself\u001b[0m\u001b[0;34m.\u001b[0m\u001b[0mgraph\u001b[0m\u001b[0;34m.\u001b[0m\u001b[0mis_feedable\u001b[0m\u001b[0;34m(\u001b[0m\u001b[0msubfeed_t\u001b[0m\u001b[0;34m)\u001b[0m\u001b[0;34m:\u001b[0m\u001b[0;34m\u001b[0m\u001b[0;34m\u001b[0m\u001b[0m\n\u001b[1;32m   1158\u001b[0m             \u001b[0;32mraise\u001b[0m \u001b[0mValueError\u001b[0m\u001b[0;34m(\u001b[0m\u001b[0;34m'Tensor %s may not be fed.'\u001b[0m \u001b[0;34m%\u001b[0m \u001b[0msubfeed_t\u001b[0m\u001b[0;34m)\u001b[0m\u001b[0;34m\u001b[0m\u001b[0;34m\u001b[0m\u001b[0m\n",
            "\u001b[0;31mValueError\u001b[0m: Cannot feed value of shape (100, 158, 5) for Tensor 'vector_rnn/Placeholder_1:0', which has shape '(1, 251, 5)'"
          ]
        }
      ]
    },
    {
      "cell_type": "code",
      "metadata": {
        "id": "xMJtCKbBXJd-",
        "colab_type": "code",
        "colab": {
          "base_uri": "https://localhost:8080/",
          "height": 1000
        },
        "outputId": "d7f88bbb-cbd9-4efc-b2d0-cc175d03b2b3"
      },
      "source": [
        "# loads the weights from checkpoint into our model\n",
        "load_checkpoint(sess, model_dir)"
      ],
      "execution_count": 82,
      "outputs": [
        {
          "output_type": "stream",
          "text": [
            "INFO:tensorflow:Loading model /content/vector.\n",
            "INFO:tensorflow:Restoring parameters from /content/vector\n"
          ],
          "name": "stdout"
        },
        {
          "output_type": "error",
          "ename": "DataLossError",
          "evalue": "ignored",
          "traceback": [
            "\u001b[0;31m---------------------------------------------------------------------------\u001b[0m",
            "\u001b[0;31mDataLossError\u001b[0m                             Traceback (most recent call last)",
            "\u001b[0;32m/usr/local/lib/python3.6/dist-packages/tensorflow_core/python/client/session.py\u001b[0m in \u001b[0;36m_do_call\u001b[0;34m(self, fn, *args)\u001b[0m\n\u001b[1;32m   1364\u001b[0m     \u001b[0;32mtry\u001b[0m\u001b[0;34m:\u001b[0m\u001b[0;34m\u001b[0m\u001b[0;34m\u001b[0m\u001b[0m\n\u001b[0;32m-> 1365\u001b[0;31m       \u001b[0;32mreturn\u001b[0m \u001b[0mfn\u001b[0m\u001b[0;34m(\u001b[0m\u001b[0;34m*\u001b[0m\u001b[0margs\u001b[0m\u001b[0;34m)\u001b[0m\u001b[0;34m\u001b[0m\u001b[0;34m\u001b[0m\u001b[0m\n\u001b[0m\u001b[1;32m   1366\u001b[0m     \u001b[0;32mexcept\u001b[0m \u001b[0merrors\u001b[0m\u001b[0;34m.\u001b[0m\u001b[0mOpError\u001b[0m \u001b[0;32mas\u001b[0m \u001b[0me\u001b[0m\u001b[0;34m:\u001b[0m\u001b[0;34m\u001b[0m\u001b[0;34m\u001b[0m\u001b[0m\n",
            "\u001b[0;32m/usr/local/lib/python3.6/dist-packages/tensorflow_core/python/client/session.py\u001b[0m in \u001b[0;36m_run_fn\u001b[0;34m(feed_dict, fetch_list, target_list, options, run_metadata)\u001b[0m\n\u001b[1;32m   1349\u001b[0m       return self._call_tf_sessionrun(options, feed_dict, fetch_list,\n\u001b[0;32m-> 1350\u001b[0;31m                                       target_list, run_metadata)\n\u001b[0m\u001b[1;32m   1351\u001b[0m \u001b[0;34m\u001b[0m\u001b[0m\n",
            "\u001b[0;32m/usr/local/lib/python3.6/dist-packages/tensorflow_core/python/client/session.py\u001b[0m in \u001b[0;36m_call_tf_sessionrun\u001b[0;34m(self, options, feed_dict, fetch_list, target_list, run_metadata)\u001b[0m\n\u001b[1;32m   1442\u001b[0m                                             \u001b[0mfetch_list\u001b[0m\u001b[0;34m,\u001b[0m \u001b[0mtarget_list\u001b[0m\u001b[0;34m,\u001b[0m\u001b[0;34m\u001b[0m\u001b[0;34m\u001b[0m\u001b[0m\n\u001b[0;32m-> 1443\u001b[0;31m                                             run_metadata)\n\u001b[0m\u001b[1;32m   1444\u001b[0m \u001b[0;34m\u001b[0m\u001b[0m\n",
            "\u001b[0;31mDataLossError\u001b[0m: 2 root error(s) found.\n  (0) Data loss: Unable to open table file /content/vector: Data loss: file is too short to be an sstable: perhaps your file is in a different file format and you need to use a different restore operator?\n\t [[{{node save_1/RestoreV2}}]]\n\t [[save_1/RestoreV2/_167]]\n  (1) Data loss: Unable to open table file /content/vector: Data loss: file is too short to be an sstable: perhaps your file is in a different file format and you need to use a different restore operator?\n\t [[{{node save_1/RestoreV2}}]]\n0 successful operations.\n0 derived errors ignored.",
            "\nDuring handling of the above exception, another exception occurred:\n",
            "\u001b[0;31mDataLossError\u001b[0m                             Traceback (most recent call last)",
            "\u001b[0;32m<ipython-input-82-54ebc5e3f0c3>\u001b[0m in \u001b[0;36m<module>\u001b[0;34m()\u001b[0m\n\u001b[0;32m----> 1\u001b[0;31m \u001b[0mload_checkpoint\u001b[0m\u001b[0;34m(\u001b[0m\u001b[0msess\u001b[0m\u001b[0;34m,\u001b[0m \u001b[0mmodel_dir\u001b[0m\u001b[0;34m)\u001b[0m\u001b[0;34m\u001b[0m\u001b[0;34m\u001b[0m\u001b[0m\n\u001b[0m",
            "\u001b[0;32m/usr/local/lib/python3.6/dist-packages/magenta/models/sketch_rnn/sketch_rnn_train.py\u001b[0m in \u001b[0;36mload_checkpoint\u001b[0;34m(sess, checkpoint_path)\u001b[0m\n\u001b[1;32m    237\u001b[0m   \u001b[0mckpt\u001b[0m \u001b[0;34m=\u001b[0m \u001b[0mtf\u001b[0m\u001b[0;34m.\u001b[0m\u001b[0mtrain\u001b[0m\u001b[0;34m.\u001b[0m\u001b[0mget_checkpoint_state\u001b[0m\u001b[0;34m(\u001b[0m\u001b[0mcheckpoint_path\u001b[0m\u001b[0;34m)\u001b[0m\u001b[0;34m\u001b[0m\u001b[0;34m\u001b[0m\u001b[0m\n\u001b[1;32m    238\u001b[0m   \u001b[0mtf\u001b[0m\u001b[0;34m.\u001b[0m\u001b[0mlogging\u001b[0m\u001b[0;34m.\u001b[0m\u001b[0minfo\u001b[0m\u001b[0;34m(\u001b[0m\u001b[0;34m'Loading model %s.'\u001b[0m\u001b[0;34m,\u001b[0m \u001b[0mckpt\u001b[0m\u001b[0;34m.\u001b[0m\u001b[0mmodel_checkpoint_path\u001b[0m\u001b[0;34m)\u001b[0m\u001b[0;34m\u001b[0m\u001b[0;34m\u001b[0m\u001b[0m\n\u001b[0;32m--> 239\u001b[0;31m   \u001b[0msaver\u001b[0m\u001b[0;34m.\u001b[0m\u001b[0mrestore\u001b[0m\u001b[0;34m(\u001b[0m\u001b[0msess\u001b[0m\u001b[0;34m,\u001b[0m \u001b[0mckpt\u001b[0m\u001b[0;34m.\u001b[0m\u001b[0mmodel_checkpoint_path\u001b[0m\u001b[0;34m)\u001b[0m\u001b[0;34m\u001b[0m\u001b[0;34m\u001b[0m\u001b[0m\n\u001b[0m\u001b[1;32m    240\u001b[0m \u001b[0;34m\u001b[0m\u001b[0m\n\u001b[1;32m    241\u001b[0m \u001b[0;34m\u001b[0m\u001b[0m\n",
            "\u001b[0;32m/usr/local/lib/python3.6/dist-packages/tensorflow_core/python/training/saver.py\u001b[0m in \u001b[0;36mrestore\u001b[0;34m(self, sess, save_path)\u001b[0m\n\u001b[1;32m   1288\u001b[0m       \u001b[0;32melse\u001b[0m\u001b[0;34m:\u001b[0m\u001b[0;34m\u001b[0m\u001b[0;34m\u001b[0m\u001b[0m\n\u001b[1;32m   1289\u001b[0m         sess.run(self.saver_def.restore_op_name,\n\u001b[0;32m-> 1290\u001b[0;31m                  {self.saver_def.filename_tensor_name: save_path})\n\u001b[0m\u001b[1;32m   1291\u001b[0m     \u001b[0;32mexcept\u001b[0m \u001b[0merrors\u001b[0m\u001b[0;34m.\u001b[0m\u001b[0mNotFoundError\u001b[0m \u001b[0;32mas\u001b[0m \u001b[0merr\u001b[0m\u001b[0;34m:\u001b[0m\u001b[0;34m\u001b[0m\u001b[0;34m\u001b[0m\u001b[0m\n\u001b[1;32m   1292\u001b[0m       \u001b[0;31m# There are three common conditions that might cause this error:\u001b[0m\u001b[0;34m\u001b[0m\u001b[0;34m\u001b[0m\u001b[0;34m\u001b[0m\u001b[0m\n",
            "\u001b[0;32m/usr/local/lib/python3.6/dist-packages/tensorflow_core/python/client/session.py\u001b[0m in \u001b[0;36mrun\u001b[0;34m(self, fetches, feed_dict, options, run_metadata)\u001b[0m\n\u001b[1;32m    954\u001b[0m     \u001b[0;32mtry\u001b[0m\u001b[0;34m:\u001b[0m\u001b[0;34m\u001b[0m\u001b[0;34m\u001b[0m\u001b[0m\n\u001b[1;32m    955\u001b[0m       result = self._run(None, fetches, feed_dict, options_ptr,\n\u001b[0;32m--> 956\u001b[0;31m                          run_metadata_ptr)\n\u001b[0m\u001b[1;32m    957\u001b[0m       \u001b[0;32mif\u001b[0m \u001b[0mrun_metadata\u001b[0m\u001b[0;34m:\u001b[0m\u001b[0;34m\u001b[0m\u001b[0;34m\u001b[0m\u001b[0m\n\u001b[1;32m    958\u001b[0m         \u001b[0mproto_data\u001b[0m \u001b[0;34m=\u001b[0m \u001b[0mtf_session\u001b[0m\u001b[0;34m.\u001b[0m\u001b[0mTF_GetBuffer\u001b[0m\u001b[0;34m(\u001b[0m\u001b[0mrun_metadata_ptr\u001b[0m\u001b[0;34m)\u001b[0m\u001b[0;34m\u001b[0m\u001b[0;34m\u001b[0m\u001b[0m\n",
            "\u001b[0;32m/usr/local/lib/python3.6/dist-packages/tensorflow_core/python/client/session.py\u001b[0m in \u001b[0;36m_run\u001b[0;34m(self, handle, fetches, feed_dict, options, run_metadata)\u001b[0m\n\u001b[1;32m   1178\u001b[0m     \u001b[0;32mif\u001b[0m \u001b[0mfinal_fetches\u001b[0m \u001b[0;32mor\u001b[0m \u001b[0mfinal_targets\u001b[0m \u001b[0;32mor\u001b[0m \u001b[0;34m(\u001b[0m\u001b[0mhandle\u001b[0m \u001b[0;32mand\u001b[0m \u001b[0mfeed_dict_tensor\u001b[0m\u001b[0;34m)\u001b[0m\u001b[0;34m:\u001b[0m\u001b[0;34m\u001b[0m\u001b[0;34m\u001b[0m\u001b[0m\n\u001b[1;32m   1179\u001b[0m       results = self._do_run(handle, final_targets, final_fetches,\n\u001b[0;32m-> 1180\u001b[0;31m                              feed_dict_tensor, options, run_metadata)\n\u001b[0m\u001b[1;32m   1181\u001b[0m     \u001b[0;32melse\u001b[0m\u001b[0;34m:\u001b[0m\u001b[0;34m\u001b[0m\u001b[0;34m\u001b[0m\u001b[0m\n\u001b[1;32m   1182\u001b[0m       \u001b[0mresults\u001b[0m \u001b[0;34m=\u001b[0m \u001b[0;34m[\u001b[0m\u001b[0;34m]\u001b[0m\u001b[0;34m\u001b[0m\u001b[0;34m\u001b[0m\u001b[0m\n",
            "\u001b[0;32m/usr/local/lib/python3.6/dist-packages/tensorflow_core/python/client/session.py\u001b[0m in \u001b[0;36m_do_run\u001b[0;34m(self, handle, target_list, fetch_list, feed_dict, options, run_metadata)\u001b[0m\n\u001b[1;32m   1357\u001b[0m     \u001b[0;32mif\u001b[0m \u001b[0mhandle\u001b[0m \u001b[0;32mis\u001b[0m \u001b[0;32mNone\u001b[0m\u001b[0;34m:\u001b[0m\u001b[0;34m\u001b[0m\u001b[0;34m\u001b[0m\u001b[0m\n\u001b[1;32m   1358\u001b[0m       return self._do_call(_run_fn, feeds, fetches, targets, options,\n\u001b[0;32m-> 1359\u001b[0;31m                            run_metadata)\n\u001b[0m\u001b[1;32m   1360\u001b[0m     \u001b[0;32melse\u001b[0m\u001b[0;34m:\u001b[0m\u001b[0;34m\u001b[0m\u001b[0;34m\u001b[0m\u001b[0m\n\u001b[1;32m   1361\u001b[0m       \u001b[0;32mreturn\u001b[0m \u001b[0mself\u001b[0m\u001b[0;34m.\u001b[0m\u001b[0m_do_call\u001b[0m\u001b[0;34m(\u001b[0m\u001b[0m_prun_fn\u001b[0m\u001b[0;34m,\u001b[0m \u001b[0mhandle\u001b[0m\u001b[0;34m,\u001b[0m \u001b[0mfeeds\u001b[0m\u001b[0;34m,\u001b[0m \u001b[0mfetches\u001b[0m\u001b[0;34m)\u001b[0m\u001b[0;34m\u001b[0m\u001b[0;34m\u001b[0m\u001b[0m\n",
            "\u001b[0;32m/usr/local/lib/python3.6/dist-packages/tensorflow_core/python/client/session.py\u001b[0m in \u001b[0;36m_do_call\u001b[0;34m(self, fn, *args)\u001b[0m\n\u001b[1;32m   1382\u001b[0m                     \u001b[0;34m'\\nsession_config.graph_options.rewrite_options.'\u001b[0m\u001b[0;34m\u001b[0m\u001b[0;34m\u001b[0m\u001b[0m\n\u001b[1;32m   1383\u001b[0m                     'disable_meta_optimizer = True')\n\u001b[0;32m-> 1384\u001b[0;31m       \u001b[0;32mraise\u001b[0m \u001b[0mtype\u001b[0m\u001b[0;34m(\u001b[0m\u001b[0me\u001b[0m\u001b[0;34m)\u001b[0m\u001b[0;34m(\u001b[0m\u001b[0mnode_def\u001b[0m\u001b[0;34m,\u001b[0m \u001b[0mop\u001b[0m\u001b[0;34m,\u001b[0m \u001b[0mmessage\u001b[0m\u001b[0;34m)\u001b[0m\u001b[0;34m\u001b[0m\u001b[0;34m\u001b[0m\u001b[0m\n\u001b[0m\u001b[1;32m   1385\u001b[0m \u001b[0;34m\u001b[0m\u001b[0m\n\u001b[1;32m   1386\u001b[0m   \u001b[0;32mdef\u001b[0m \u001b[0m_extend_graph\u001b[0m\u001b[0;34m(\u001b[0m\u001b[0mself\u001b[0m\u001b[0;34m)\u001b[0m\u001b[0;34m:\u001b[0m\u001b[0;34m\u001b[0m\u001b[0;34m\u001b[0m\u001b[0m\n",
            "\u001b[0;31mDataLossError\u001b[0m: 2 root error(s) found.\n  (0) Data loss: Unable to open table file /content/vector: Data loss: file is too short to be an sstable: perhaps your file is in a different file format and you need to use a different restore operator?\n\t [[node save_1/RestoreV2 (defined at /usr/local/lib/python3.6/dist-packages/tensorflow_core/python/framework/ops.py:1748) ]]\n\t [[save_1/RestoreV2/_167]]\n  (1) Data loss: Unable to open table file /content/vector: Data loss: file is too short to be an sstable: perhaps your file is in a different file format and you need to use a different restore operator?\n\t [[node save_1/RestoreV2 (defined at /usr/local/lib/python3.6/dist-packages/tensorflow_core/python/framework/ops.py:1748) ]]\n0 successful operations.\n0 derived errors ignored.\n\nOriginal stack trace for 'save_1/RestoreV2':\n  File \"/usr/lib/python3.6/runpy.py\", line 193, in _run_module_as_main\n    \"__main__\", mod_spec)\n  File \"/usr/lib/python3.6/runpy.py\", line 85, in _run_code\n    exec(code, run_globals)\n  File \"/usr/local/lib/python3.6/dist-packages/ipykernel_launcher.py\", line 16, in <module>\n    app.launch_new_instance()\n  File \"/usr/local/lib/python3.6/dist-packages/traitlets/config/application.py\", line 664, in launch_instance\n    app.start()\n  File \"/usr/local/lib/python3.6/dist-packages/ipykernel/kernelapp.py\", line 499, in start\n    self.io_loop.start()\n  File \"/usr/local/lib/python3.6/dist-packages/tornado/ioloop.py\", line 888, in start\n    handler_func(fd_obj, events)\n  File \"/usr/local/lib/python3.6/dist-packages/tornado/stack_context.py\", line 277, in null_wrapper\n    return fn(*args, **kwargs)\n  File \"/usr/local/lib/python3.6/dist-packages/zmq/eventloop/zmqstream.py\", line 456, in _handle_events\n    self._handle_recv()\n  File \"/usr/local/lib/python3.6/dist-packages/zmq/eventloop/zmqstream.py\", line 486, in _handle_recv\n    self._run_callback(callback, msg)\n  File \"/usr/local/lib/python3.6/dist-packages/zmq/eventloop/zmqstream.py\", line 438, in _run_callback\n    callback(*args, **kwargs)\n  File \"/usr/local/lib/python3.6/dist-packages/tornado/stack_context.py\", line 277, in null_wrapper\n    return fn(*args, **kwargs)\n  File \"/usr/local/lib/python3.6/dist-packages/ipykernel/kernelbase.py\", line 283, in dispatcher\n    return self.dispatch_shell(stream, msg)\n  File \"/usr/local/lib/python3.6/dist-packages/ipykernel/kernelbase.py\", line 233, in dispatch_shell\n    handler(stream, idents, msg)\n  File \"/usr/local/lib/python3.6/dist-packages/ipykernel/kernelbase.py\", line 399, in execute_request\n    user_expressions, allow_stdin)\n  File \"/usr/local/lib/python3.6/dist-packages/ipykernel/ipkernel.py\", line 208, in do_execute\n    res = shell.run_cell(code, store_history=store_history, silent=silent)\n  File \"/usr/local/lib/python3.6/dist-packages/ipykernel/zmqshell.py\", line 537, in run_cell\n    return super(ZMQInteractiveShell, self).run_cell(*args, **kwargs)\n  File \"/usr/local/lib/python3.6/dist-packages/IPython/core/interactiveshell.py\", line 2718, in run_cell\n    interactivity=interactivity, compiler=compiler, result=result)\n  File \"/usr/local/lib/python3.6/dist-packages/IPython/core/interactiveshell.py\", line 2828, in run_ast_nodes\n    if self.run_code(code, result):\n  File \"/usr/local/lib/python3.6/dist-packages/IPython/core/interactiveshell.py\", line 2882, in run_code\n    exec(code_obj, self.user_global_ns, self.user_ns)\n  File \"<ipython-input-82-54ebc5e3f0c3>\", line 1, in <module>\n    load_checkpoint(sess, model_dir)\n  File \"/usr/local/lib/python3.6/dist-packages/magenta/models/sketch_rnn/sketch_rnn_train.py\", line 236, in load_checkpoint\n    saver = tf.train.Saver(tf.global_variables())\n  File \"/usr/local/lib/python3.6/dist-packages/tensorflow_core/python/training/saver.py\", line 828, in __init__\n    self.build()\n  File \"/usr/local/lib/python3.6/dist-packages/tensorflow_core/python/training/saver.py\", line 840, in build\n    self._build(self._filename, build_save=True, build_restore=True)\n  File \"/usr/local/lib/python3.6/dist-packages/tensorflow_core/python/training/saver.py\", line 878, in _build\n    build_restore=build_restore)\n  File \"/usr/local/lib/python3.6/dist-packages/tensorflow_core/python/training/saver.py\", line 508, in _build_internal\n    restore_sequentially, reshape)\n  File \"/usr/local/lib/python3.6/dist-packages/tensorflow_core/python/training/saver.py\", line 328, in _AddRestoreOps\n    restore_sequentially)\n  File \"/usr/local/lib/python3.6/dist-packages/tensorflow_core/python/training/saver.py\", line 575, in bulk_restore\n    return io_ops.restore_v2(filename_tensor, names, slices, dtypes)\n  File \"/usr/local/lib/python3.6/dist-packages/tensorflow_core/python/ops/gen_io_ops.py\", line 1696, in restore_v2\n    name=name)\n  File \"/usr/local/lib/python3.6/dist-packages/tensorflow_core/python/framework/op_def_library.py\", line 794, in _apply_op_helper\n    op_def=op_def)\n  File \"/usr/local/lib/python3.6/dist-packages/tensorflow_core/python/util/deprecation.py\", line 507, in new_func\n    return func(*args, **kwargs)\n  File \"/usr/local/lib/python3.6/dist-packages/tensorflow_core/python/framework/ops.py\", line 3357, in create_op\n    attrs, op_def, compute_device)\n  File \"/usr/local/lib/python3.6/dist-packages/tensorflow_core/python/framework/ops.py\", line 3426, in _create_op_internal\n    op_def=op_def)\n  File \"/usr/local/lib/python3.6/dist-packages/tensorflow_core/python/framework/ops.py\", line 1748, in __init__\n    self._traceback = tf_stack.extract_stack()\n"
          ]
        }
      ]
    },
    {
      "cell_type": "code",
      "metadata": {
        "id": "b92ykdZIYWML",
        "colab_type": "code",
        "colab": {}
      },
      "source": [
        "# randomly unconditionally generate 10 examples\n",
        "N = 10\n",
        "reconstructions = []\n",
        "for i in range(N):\n",
        "  reconstructions.append([decode(temperature=0.5, draw_mode=False), [0, i]])"
      ],
      "execution_count": 0,
      "outputs": []
    },
    {
      "cell_type": "code",
      "metadata": {
        "id": "Vq7pLA2aYfk5",
        "colab_type": "code",
        "colab": {
          "base_uri": "https://localhost:8080/",
          "height": 367
        },
        "outputId": "7b216bd8-db32-4820-8eba-47f767d7d0cb"
      },
      "source": [
        "stroke_grid = make_grid_svg(reconstructions)\n",
        "draw_strokes(stroke_grid)"
      ],
      "execution_count": 86,
      "outputs": [
        {
          "output_type": "display_data",
          "data": {
            "text/plain": [
              "<IPython.core.display.SVG object>"
            ],
            "image/svg+xml": "<svg baseProfile=\"full\" height=\"346.8866049218923\" version=\"1.1\" width=\"816.3266987423413\" xmlns=\"http://www.w3.org/2000/svg\" xmlns:ev=\"http://www.w3.org/2001/xml-events\" xmlns:xlink=\"http://www.w3.org/1999/xlink\"><defs/><rect fill=\"white\" height=\"346.8866049218923\" width=\"816.3266987423413\" x=\"0\" y=\"0\"/><path d=\"M34.75781448883936,147.04650531057268 m0.0,0.0 m50.86565077537671,-37.483210069767665 l0.33196497708559036,4.5813679695129395 -5.301069021224976,2.8702428936958313 l2.6509222388267517,-6.229618787765503 m-5.904367566108704,4.315423667430878 l-0.868273451924324,-2.538382112979889 1.0463445633649826,-1.8851183354854584 l-4.567680060863495,-1.66755810379982 -0.2567749097943306,1.4554396271705627 l2.0975975692272186,8.112490177154541 3.034416139125824,-2.4089284241199493 l10.929114818572998,3.089737594127655 -1.0263404995203018,-3.4532803297042847 l-0.9165176749229431,1.7723867297172546 m4.692668318748474,-5.131502747535706 m1.9010531902313232,2.710345685482025 l0.12921241112053394,-0.8071289211511612 1.888403594493866,0.4940430074930191 m-1.0193552076816559,1.8465669453144073 m2.1798674762248993,-1.8786056339740753 l-0.24136872962117195,6.717658638954163 1.8724580109119415,2.463858872652054 l6.456373333930969,-5.1395827531814575 -1.3770586252212524,0.5041131004691124 l1.6521982848644257,3.645200729370117 -4.574291110038757,1.4097367227077484 l0.7126293331384659,-0.7132542878389359 -0.7366170734167099,-0.4524984210729599 l3.5488179326057434,-8.402096629142761 0.4851745441555977,6.913678050041199 l-3.270387053489685,0.05214037839323282 6.785590648651123,0.7038109749555588 l-0.8001399785280228,3.688700795173645 m-1.3613295555114746,0.11534488759934902 l-0.06619229447096586,-5.453556180000305 1.6349199414253235,1.9665610790252686 l-8.418805599212646,1.0725322365760803 -0.589381717145443,2.570759654045105 l-0.5119778215885162,-0.19673991948366165 -0.5192388594150543,5.685440301895142 l-2.142363488674164,-2.0282161235809326 m-2.2273021936416626,2.6416534185409546 l-4.01982307434082,1.154913306236267 m-3.2607874274253845,2.2469212114810944 m-5.3903526067733765,1.8794666230678558 m1.817251443862915,2.076466530561447 l4.165175259113312,7.0432716608047485 m3.0185988545417786,1.359293907880783 m-1.3673372566699982,-0.4851594939827919 l-0.9186287224292755,-0.9658227115869522 0.40395013988018036,-3.7597116827964783 m-2.978498935699463,2.346593737602234 l-1.4349022507667542,1.382630169391632 m1.0699546337127686,2.236291617155075 l0.9789669513702393,1.981973648071289 3.49906325340271,4.4587332010269165 m0.09330568835139275,4.278791844844818 m-4.3424248695373535,-0.18050014972686768 m-2.0228448510169983,0.2643960900604725 m2.370935380458832,0.7870632410049438 l-1.1515049636363983,1.1326681077480316 3.4076079726219177,-1.1502556502819061 l1.5784530341625214,0.8124364912509918 -8.101516962051392,1.2503702938556671 m-2.766691744327545,3.129303753376007 l0.44052086770534515,3.458646535873413 m-4.071517586708069,1.934996098279953 l-3.974454402923584,-0.2694588899612427 m-1.9495068490505219,-1.1186256259679794 l5.702401399612427,2.2158682346343994 m-1.0137366503477097,-1.1889532953500748 l-1.7691174149513245,-3.75296950340271 3.3581480383872986,-0.8239599317312241 l3.8210558891296387,2.0920392870903015 1.2148118019104004,-0.9690608084201813 m-0.5289412662386894,-4.15963351726532 m-2.755342721939087,-0.2797861397266388 l2.1660254895687103,1.55138298869133 -3.9850860834121704,1.2819480895996094 l0.33303994685411453,2.1106500923633575 -2.4291548132896423,0.48208367079496384 l0.09955952875316143,7.949974536895752 -1.401580423116684,1.9911883771419525 m2.875034213066101,2.088775932788849 m0.6865258514881134,-0.22034106776118279 l-2.952849268913269,4.302578866481781 -0.14481108635663986,0.07543378043919802 l-0.6891841441392899,-1.315997689962387 1.95012629032135,2.3200277984142303 l0.2640138752758503,0.549195222556591 0.045397309586405754,-4.752567410469055 l-2.208639681339264,0.5075690522789955 0.6762375682592392,-0.3107329271733761 m-2.255818247795105,1.9148169457912445 l2.3908159136772156,-0.41973479092121124 1.3423272967338562,3.7030544877052307 m-13.218258619308472,-0.24099960923194885 l1.3710132241249084,1.0596700012683868 11.006582975387573,-2.6195544004440308 m-0.8521951735019684,-0.5536888912320137 l0.13125804252922535,0.47404374927282333 -1.6564063727855682,3.106245696544647 l-6.125897765159607,-2.6175332069396973 -9.063594937324524,4.675638675689697 l0.33832237124443054,5.058160424232483 2.3382925987243652,-4.553183615207672 m4.56585019826889,0.03587427781894803 l9.836244583129883,-2.056231200695038 24.35030460357666,-2.5669273734092712 l2.5935426354408264,-3.9240407943725586 4.445933997631073,1.0923414677381516 m5.022057294845581,2.3799100518226624 m2.267029881477356,1.340678483247757 l-1.2574638426303864,6.220778226852417 -7.907585501670837,-0.8759733289480209 m-1.9480249285697937,0.5253801494836807 l-2.368919402360916,0.1055270154029131 -3.875094950199127,0.9908653050661087 m5.361775159835815,-4.668679237365723 l7.625005841255188,4.245704412460327 m4.4013530015945435,-2.8890931606292725 l-4.493518173694611,3.143163025379181 -0.7486768811941147,1.3213717937469482 l5.471052527427673,-1.7266754806041718 1.3637800514698029,0.8370166271924973 m-1.6879072785377502,0.5258301272988319 l2.923237383365631,7.705128192901611 0.9125152230262756,-1.0242144763469696 l-1.884995698928833,1.3475318253040314 6.718196868896484,-0.4622354730963707 l-0.8247670531272888,1.4664846658706665 -0.12723291292786598,3.750063478946686 m7.336140275001526,0.7715055346488953 l-4.4052305817604065,0.7156641781330109 m-2.396257221698761,1.3764841854572296 l-3.9340826869010925,-0.402451828122139 -2.5987201929092407,-5.011225342750549 l-2.082279324531555,0.9697788953781128 3.74657541513443,4.855721294879913 l-0.9599111974239349,-1.3968239724636078 1.759246438741684,-1.3998687267303467 m5.528505444526672,-2.969595491886139 l-0.6362701952457428,0.46790115535259247 0.05328628700226545,-0.6168751046061516 l-5.763590931892395,-1.8569570779800415 -2.511162757873535,-3.348243832588196 l-3.1649062037467957,-1.9792510569095612 4.79489266872406,-1.8696795403957367 l-5.466344952583313,3.381955921649933 1.2280181050300598,0.8386408537626266 m-2.0939236879348755,-1.066603660583496 l-0.3809264674782753,2.3353084921836853 0.48962149769067764,-1.9143129885196686 m-6.9600266218185425,1.5058277547359467 m-2.460419237613678,1.2911145389080048 l-5.10091245174408,0.004609582247212529 -2.455328404903412,0.5576987937092781 l-5.425862073898315,2.6567253470420837 6.369543671607971,-0.39832834154367447 l-0.991709753870964,0.5430672690272331 m1.2747392058372498,-2.7137744426727295 l-5.594226717948914,-1.6192759573459625 m0.564386285841465,2.1416565775871277 m9.098711013793945,-3.7814465165138245 l-3.121485114097595,-1.030525416135788 -2.8032121062278748,3.238598108291626 m-3.9180994033813477,1.1487532407045364 m-3.9123818278312683,-2.692635953426361 l-3.6185717582702637,0.8142814040184021 -1.2782715260982513,-0.8827578276395798 l3.2108962535858154,1.0676410794258118 m-4.594379961490631,-3.568604290485382 l4.332345426082611,-0.4675113409757614 -3.550107777118683,2.390931248664856 l2.5292202830314636,-3.2431986927986145 m-3.8956433534622192,3.799339532852173 l1.437229961156845,-0.6670980900526047 -7.947443127632141,2.748061418533325 l-4.76708859205246,12.73232102394104 -2.0227324962615967,4.087187349796295 m-6.566874980926514,-0.35607196390628815 l-0.08622495457530022,-0.6844226270914078 -4.594329595565796,2.407814711332321 l-1.6378632187843323,2.6625055074691772 0.9898993372917175,-2.7924010157585144 l-3.864656984806061,-5.077361464500427 3.7756139039993286,1.81325763463974 l-6.077828407287598,-2.3135340213775635 -0.773577019572258,-2.439853698015213 l-0.7397338002920151,2.564927339553833 m-0.12974838726222515,-8.77853810787201 l-0.8474857360124588,0.1119521725922823 m-0.34279048442840576,0.7745584845542908 l-0.9535188972949982,3.9769455790519714 3.3277055621147156,-0.4321826994419098 m2.3857994377613068,-0.18928397446870804 l6.506431698799133,-1.8148276209831238 -2.3058760166168213,1.8970096111297607 m-0.5514293909072876,-2.797166407108307 l-1.4603276550769806,7.033388614654541 1.8087749183177948,-1.9167692959308624 m0.3561318665742874,6.273332238197327 l0.43717965483665466,-0.7598773390054703 3.6288079619407654,2.6603683829307556 l0.10921459645032883,-1.6074343025684357 -1.5692339837551117,1.388571411371231 l-2.350209653377533,2.643938362598419 8.453391790390015,5.000652074813843 l2.151806354522705,-1.0105513036251068 -3.4776175022125244,1.4120757579803467 m6.261998414993286,3.006395399570465 l3.7262368202209473,-3.1405428051948547 -6.118594408035278,0.2624057047069073 m-2.9222947359085083,2.9609251022338867 l-1.819017380475998,-3.367087244987488 -1.323152780532837,1.261223554611206 m-1.362101286649704,-5.9836214780807495 l-3.5874536633491516,0.44599514454603195 6.7919957637786865,0.09862557053565979 l-0.6750632077455521,6.428554654121399 m-3.8238731026649475,2.2913382947444916 m-9.141233563423157,5.119487047195435 l-1.2367279827594757,0.5586791783571243 -5.969177484512329,-0.17892761155962944 l-1.9641020894050598,-5.3306251764297485 5.86824893951416,2.133656293153763 l3.491133451461792,2.7871286869049072 m-1.0331328213214874,-0.24554720148444176 l-4.555748701095581,0.008819192298687994 m5.751613974571228,-1.9022245705127716 l4.271064102649689,-0.39086632430553436 -0.3973374143242836,-0.5153623968362808 l1.676451861858368,5.047332048416138 2.279259115457535,-0.24709615856409073 l2.436036765575409,0.6670313328504562 -4.694857597351074,1.0535965114831924 l7.621745467185974,0.7647871971130371 -1.4492551982402802,-1.8457980453968048 l-7.7034080028533936,-2.4259962141513824 -9.067615866661072,0.7551927864551544 l0.342194065451622,-0.14766843058168888 -3.5039305686950684,0.23577840998768806 m1.583859920501709,1.3095970451831818 l-1.0933195054531097,-0.8620430529117584 -1.7233079671859741,0.4044613614678383 l-0.7360569387674332,-3.0527302622795105 m-4.251846969127655,-0.20005332306027412 m4.593098163604736,4.2203089594841 l-1.6969797015190125,1.4481143653392792 m-6.232046484947205,2.1847160160541534 l8.258096575737,-4.395985901355743 m90.68869434628141,17.256961370876525 l-4.7844356298446655,-6.393921971321106 -3.348250091075897,0.40402255952358246 l-6.717057228088379,5.605787038803101 -1.3726015388965607,-1.4970418810844421 l4.835897386074066,6.745969653129578 1.155906319618225,0.06746923085302114 l2.1823060512542725,-1.0196463018655777 m-0.3275040537118912,-4.086344242095947 m-5.195276737213135,0.5408522114157677 l-4.512216746807098,-1.3768059015274048 -0.13269925490021706,5.1231443881988525 l-6.723329424858093,-5.338066816329956 m3.282642364501953,1.4585810899734497 l1.2504392862319946,4.30692732334137 0.9479154646396637,-1.2448808550834656 l-3.597506284713745,-1.950685977935791 -0.021213011350482702,0.3851505368947983 l-4.243442416191101,0.157652385532856 1.3968555629253387,-0.9772917628288269 l1.6291089355945587,-1.3185100257396698 -4.27550196647644,-2.278151661157608 l-2.4632547795772552,-0.04799657966941595 -4.254710674285889,0.3649653121829033 l-3.657858371734619,0.20228739827871323 0.2600209414958954,-5.7521456480026245 l1.91573828458786,-0.7484473288059235 -6.320658922195435,0.13652527704834938 l-1.4264355599880219,-0.026401570066809654 4.884766042232513,0.11624393053352833 l3.091767430305481,-0.0789037998765707 m-3.1850501894950867,-1.42963707447052 l-4.256592392921448,-2.2046545147895813 0.5345113575458527,-3.144422769546509 l1.5534915030002594,0.7800163328647614 2.824769616127014,-2.5206851959228516 l-0.8869097381830215,0.42169924825429916 -0.7581997662782669,1.561034768819809 m-6.034260988235474,2.820184826850891 l0.8842986077070236,0.02338750520721078 -3.667602241039276,1.3683252036571503 l1.845591962337494,-5.773795247077942 -3.4961584210395813,1.468081772327423 l5.704864859580994,-0.9210996329784393 0.3494469076395035,-2.245137095451355 l7.388370633125305,-3.906284272670746 2.5181186199188232,2.2235429286956787 l3.759479820728302,-1.3038356602191925 6.587077379226685,1.6530662775039673 l5.270925164222717,0.10732530616223812 -0.9806825220584869,-0.6441562622785568 m-0.36344852298498154,-0.3856714069843292 l4.325326979160309,-3.2609209418296814 2.651471495628357,0.6911448389291763 l4.513030052185059,1.7875799536705017 -2.03319251537323,-0.9696828573942184 l0.7671716809272766,-2.266080230474472 4.592525660991669,-7.000344395637512 l-2.1396149694919586,-1.8579545617103577 9.022274017333984,-3.866068124771118 l1.0110031068325043,0.6652782112360001 -0.21939342841506004,-7.789612412452698 l-0.056350608356297016,-1.1700723320245743 -3.72303307056427,2.325662225484848 l6.202840805053711,0.3236754238605499 0.3065933659672737,0.49416694790124893 l2.2945545613765717,-3.49325031042099 -0.23595808073878288,-0.08880008012056351 l-2.275898903608322,0.6570005416870117 m-3.223738968372345,1.2722356617450714 l1.1342516541481018,-0.09946189820766449 -1.5934568643569946,-1.2478405982255936 l1.1925167590379715,-0.054182722233235836 m-3.030872642993927,-0.14625070616602898 m-0.25185270234942436,-1.8272170424461365 m0.7809463888406754,1.5560391545295715 l2.6730719208717346,0.8170025050640106 m-3.6447516083717346,3.1403279304504395 l4.0511780977249146,-2.849891781806946 m-2.0376956462860107,1.9323045015335083 l0.7110181450843811,1.0124441981315613 0.49856700003147125,-1.224396675825119 m2.030467540025711,-2.4706484377384186 l4.725415408611298,1.7534981667995453 -1.6508765518665314,3.4821897745132446 l-12.26083755493164,-4.279242157936096 6.67359471321106,-1.3601388037204742 l-2.2116172313690186,0.9984996169805527 4.146092534065247,-2.970280945301056 l2.4335825443267822,0.531810037791729 1.3849972188472748,-1.8922021985054016 l-1.4651407301425934,1.6630545258522034 3.8700756430625916,1.7581258714199066 l0.5211972445249557,-3.3579832315444946 2.006094753742218,-0.8052689582109451 m4.946947991847992,0.5927920714020729 l1.4497125148773193,-1.280139982700348 m0.6807798147201538,-3.8317570090293884 m4.814839959144592,-1.0466152429580688 l3.0676165223121643,-4.356282353401184 3.643520474433899,-0.6913439929485321 l0.6209667772054672,-5.586216449737549 2.327699661254883,-6.913760304450989 l-4.887518882751465,-1.5125377476215363 6.215735673904419,-4.953569769859314 l-1.1996477097272873,-1.5631811320781708 -1.2741847336292267,1.8730072677135468 m1.4063778519630432,1.087815910577774 l4.333856403827667,-1.9545979797840118 m-0.688556581735611,0.10043282993137836 l2.3564796149730682,-1.0598568618297577 5.508615970611572,-1.48869127035141 l-5.669059753417969,-3.450016677379608 m5.7718247175216675,0.04047381691634655 l-2.894928753376007,1.4242085814476013 1.5888813138008118,1.250508427619934 l-0.30598973855376244,-0.3186516836285591 -1.1621613800525665,-3.64066481590271 m0.08313017897307873,-1.160932406783104 l-1.0035260021686554,12.197383642196655 -4.963332414627075,2.181408703327179 l-0.323815681040287,0.6707113981246948 0.1567392237484455,-1.0435547679662704 l-1.4214324951171875,3.0013546347618103 m-5.650125741958618,0.47787535935640335 l1.599821001291275,-0.3898882120847702 -3.882683515548706,0.8166985958814621 l1.6363005340099335,-0.6145444884896278 1.9560036063194275,-4.900909960269928 l0.3841998428106308,-0.852971225976944 -2.909773886203766,2.0207026600837708 l1.6248530149459839,0.6170466169714928 m1.209406778216362,0.8210394531488419 l-5.647116303443909,-4.04025673866272 -4.542456567287445,-0.30564459040760994 l-1.704455018043518,0.3138706833124161 0.8083017915487289,0.5006302520632744 l-2.32122004032135,1.481037586927414 m1.9328421354293823,-0.7239226251840591 l-1.0617522150278091,1.9137006998062134 m-3.8303491473197937,-1.2236665189266205 l-1.1955997347831726,0.1412789337337017 -0.29878104105591774,1.0561876744031906 l-3.1954196095466614,6.569485664367676 2.763247787952423,-2.7509427070617676 l-0.5669994279742241,2.7898624539375305 -2.7113649249076843,-0.08181353099644184 l1.0693862289190292,-1.3889633119106293 2.501119077205658,-2.783735692501068 l0.5892147868871689,-1.31348118185997 3.742119073867798,-4.847283065319061 l0.35135120153427124,0.9120355546474457 4.116797745227814,-0.5638685449957848 l-3.0126523971557617,-2.7619314193725586 -6.69578492641449,-3.0485814809799194 m4.715767502784729,-0.15919458121061325 l2.1013015508651733,-1.0230661928653717 m-0.053437286987900734,3.1237810850143433 l-1.6071650385856628,5.448440313339233 m3.203917145729065,-2.626364827156067 l2.655498683452606,-2.107643634080887 -2.3434241116046906,0.5735496431589127 l1.4170476794242859,-0.7292138040065765 -0.11015942320227623,-0.5067096650600433 l-0.8559821546077728,1.8016809225082397 m-2.7021709084510803,-1.0605144500732422 l2.632508873939514,0.22759290412068367 m-1.92826047539711,-4.210919439792633 l1.7618802189826965,-1.776687353849411 0.831480547785759,0.3250812739133835 l2.6287299394607544,0.8133576810359955 -2.862238883972168,-4.252138435840607 l-7.475327849388123,-4.20453280210495 4.676658809185028,-1.086215004324913 l2.3950089514255524,-4.146098494529724 m-1.7266005277633667,-2.189299762248993 m3.6304476857185364,-5.214686393737793 l-2.038869857788086,-4.115010201931 6.979855298995972,-2.9866307973861694 l4.902121126651764,0.4398300126194954 -0.3293314576148987,0.36024268716573715 l6.275006532669067,-1.2840716540813446 m-2.5123143196105957,-2.079172730445862 l-0.0009470103395869955,1.9300121068954468 2.6181241869926453,0.3627435863018036 l1.4855517446994781,1.4211802184581757 m4.4013431668281555,-3.7592685222625732 l4.598269462585449,-7.2993069887161255 m-3.735129237174988,-0.37147480994462967 l3.6714354157447815,-0.07851794362068176 -0.5264557525515556,2.218141555786133 l-3.5671645402908325,-1.944473385810852 1.3031570613384247,2.723299562931061 m1.2054798752069473,6.4195311069488525 l0.7573328167200089,-5.07845401763916 7.667286992073059,1.1110559105873108 l1.0989050567150116,2.640080153942108 3.201953172683716,2.310599833726883 l4.25569623708725,-2.4454379081726074 4.5009759068489075,-1.481279879808426 l-0.4792219400405884,-4.055877327919006 0.27701450511813164,-2.6531726121902466 l0.2665778063237667,-1.726173758506775 3.0764469504356384,0.09559824131429195 l0.2902938984334469,4.251379370689392 -1.369117796421051,-0.6128035858273506 l-1.6637413203716278,-2.480737566947937 -0.6523648649454117,1.4255061745643616 l-3.448323607444763,-1.8404687941074371 4.542004764080048,-2.2055549919605255 l5.414244532585144,-3.635319471359253 6.85759961605072,-2.144048511981964 l3.3127442002296448,-4.5456355810165405 2.111324965953827,5.814375281333923 l-2.0589591562747955,0.7907021790742874 3.4744101762771606,-2.8463178873062134 m3.6899006366729736,1.7993801832199097 l-4.813947379589081,-2.7412408590316772 3.602359890937805,-3.7559446692466736 l0.8397967368364334,-1.3573578000068665 1.2697507441043854,6.559662222862244 l-5.639969110488892,-5.6466346979141235 4.155738055706024,-6.5103453397750854 m-2.120092064142227,1.3100254535675049 l5.370117425918579,-5.525515079498291 0.03854022594168782,-2.7635177969932556 l0.2243373729288578,-3.1942448019981384 7.715616226196289,1.1399170756340027 l-3.267596662044525,4.817659854888916 m-5.039232969284058,-1.6787287592887878 l-5.488811731338501,-0.5402359738945961 -1.6197386384010315,-1.1810880899429321 l1.073446124792099,-8.065958619117737 2.293567657470703,-1.2869448959827423 l-3.1899377703666687,1.1340925842523575 -0.9291459619998932,-1.5314547717571259 l-0.0008220849849749357,-4.410041570663452 -3.2532712817192078,-0.9192757308483124 l0.9890873730182648,2.4248217046260834 0.20581021904945374,-3.5181331634521484 l-5.878157615661621,4.964278936386108 0.9887459874153137,-4.895060360431671 l-0.6861742585897446,-1.3530956208705902 -1.253954917192459,-6.132569909095764 l4.448745250701904,2.024989277124405 -3.0391088128089905,0.21487826481461525 l-1.989138126373291,-4.210678040981293 2.6841309666633606,-1.4748162031173706 l7.546060681343079,-3.5352280735969543 m0.9941602498292923,-4.016762375831604 l3.8401561975479126,4.986814856529236 m24.80699861942412,101.54783038771711 l6.503810882568359,-2.415373921394348 -4.898777008056641,-4.498869180679321 m-6.886934041976929,-3.009035587310791 m-1.5356291830539703,0.3591974824666977 m221.87387762358412,-83.77310194104211 l-0.6457796692848206,0.8488494157791138 -0.07415936794131994,-0.17373165115714073 m-0.3288865461945534,3.5706689953804016 m-2.255878746509552,1.3301987946033478 m5.06167471408844,-5.5450111627578735 m-4.335275590419769,2.8145888447761536 m4.213892221450806,2.8284692764282227 m-0.595572218298912,-2.9172617197036743 l-4.106825888156891,1.7607443034648895 m-2.0342880487442017,3.259563446044922 m-2.3096366226673126,3.6878859996795654 l0.2661704085767269,0.015930869849398732 0.8830657601356506,-0.9910007566213608 l5.437712073326111,0.46366341412067413 m-2.360503673553467,-3.1056270003318787 l-4.028119146823883,-0.12110129930078983 3.29912006855011,0.7643906772136688 l6.385418176651001,-0.30584322288632393 -0.6759820133447647,-0.9785722941160202 l3.603960871696472,2.2075065970420837 m-2.8738775849342346,-7.493355870246887 l0.13824704103171825,-1.4171791076660156 2.6650449633598328,-4.157134294509888 l0.8108513802289963,-3.6664220690727234 -3.904835283756256,-2.809196710586548 m-3.811836540699005,6.278449296951294 l-2.880542278289795,-3.312499225139618 m-3.2520264387130737,3.0470311641693115 m4.359838664531708,0.7390710711479187 l-5.348461866378784,0.0341984536498785 0.5450299009680748,0.861348882317543 m-3.193325102329254,0.9860324859619141 l4.007275402545929,11.411479711532593 3.0814000964164734,4.53396737575531 l-4.160625338554382,-2.069220542907715 -4.574187695980072,1.638277918100357 l2.59710431098938,1.8536421656608582 -1.0923399031162262,3.177199065685272 m1.9572068750858307,-2.946808636188507 l-3.070664703845978,-1.3017749786376953 -3.7982740998268127,-1.0019877552986145 l0.059803035110235214,2.1018902957439423 1.5617378056049347,1.1795047670602798 l-1.9535213708877563,-4.931196570396423 0.14012519270181656,2.9258275032043457 m-1.7429040372371674,-3.3352231979370117 l-0.5200525745749474,4.5028650760650635 0.9182310104370117,3.657582402229309 l0.5406475067138672,5.049999952316284 -4.2654091119766235,3.1109973788261414 m4.2662763595581055,-2.981138527393341 m0.6170105934143066,3.4402212500572205 m-7.890064120292664,2.208598554134369 l-5.314615964889526,3.3418062329292297 -1.8619588017463684,3.4976887702941895 l-3.870702087879181,4.224559962749481 m-4.331503510475159,0.045705935917794704 m3.447081744670868,3.60969215631485 m-2.7786117792129517,2.8554147481918335 m3.9313501119613647,0.5517884716391563 l-4.048423767089844,3.0363884568214417 m-2.0392081141471863,0.576547160744667 l-2.1999721229076385,-2.4226483702659607 -2.839513123035431,3.1119275093078613 l-0.08146998472511768,1.5648511052131653 -3.2682207226753235,-0.9141571074724197 l3.5310161113739014,-0.7937224954366684 -3.458988070487976,5.48582136631012 l7.851482033729553,3.2544419169425964 -6.451612710952759,1.553630530834198 m-3.8264018297195435,-2.120159864425659 l-4.403827786445618,-0.3853187710046768 3.6698564887046814,5.420827865600586 l-4.580364525318146,1.7131298780441284 -4.4640690088272095,-1.1470892280340195 m1.156722977757454,4.520933032035828 l-0.11626563966274261,0.7564803212881088 2.4449655413627625,0.5487936362624168 m-2.5034210085868835,3.4084397554397583 l-4.068097770214081,-1.0999573022127151 m1.8009880185127258,-0.12627004645764828 l-3.4844714403152466,-4.34431254863739 -2.992946207523346,1.3195505738258362 l-3.1769782304763794,2.7986910939216614 m-0.21442042663693428,-0.22312583401799202 m-0.7167504727840424,-1.4380770921707153 m-1.732470840215683,0.5150008946657181 l-0.35841066390275955,1.1681543290615082 -0.7395575195550919,-0.8585721999406815 l-5.110750198364258,-1.7294076085090637 -2.301400601863861,2.1447815001010895 m0.5206860229372978,-0.8505973219871521 l-2.1946994960308075,1.8238160014152527 0.20493078976869583,-3.517623543739319 m-1.4051468670368195,0.6427647173404694 l-3.828762471675873,7.374412417411804 -2.322009801864624,1.0654129087924957 l-2.764190435409546,1.4083178341388702 m1.4995431900024414,-1.3726016879081726 m3.3336061239242554,-2.1233418583869934 l-2.331952005624771,0.01834780676290393 m1.2587551772594452,4.02998149394989 l-4.263920187950134,0.5412928014993668 m-1.6228567063808441,-1.630495935678482 l-0.6436489522457123,4.48578804731369 -2.9346397519111633,-4.354683458805084 l-3.479454517364502,0.4409169405698776 -0.552978590130806,2.052776962518692 l-1.996058076620102,-3.8705241680145264 0.6015374511480331,4.146815538406372 l-4.223381280899048,1.8299415707588196 -0.8963659405708313,3.354933261871338 l-1.5098437666893005,-2.2208456695079803 -2.2362087666988373,4.858463108539581 l-0.5145087093114853,0.5729940533638 2.6302701234817505,-0.011931350454688072 l-7.091342210769653,-1.0602130740880966 m-3.320953845977783,-0.0077773857628926635 l-4.343656301498413,-1.42770454287529 4.583010375499725,-2.223420590162277 m-1.1688903719186783,3.120776116847992 l-0.4416731372475624,0.9336376935243607 1.047189012169838,-1.4839832484722137 m-4.16113555431366,-3.3184093236923218 l-1.7136871814727783,0.41034024208784103 m-2.964971661567688,1.4140884578227997 l-1.692848950624466,-0.7666768878698349 5.244986414909363,-0.7662477344274521 l-3.514925241470337,0.19612180069088936 -1.6992741823196411,-2.4630090594291687 l-1.4351029694080353,-0.5205593258142471 -2.371423840522766,0.6549187749624252 l-0.3988441452383995,-3.7748029828071594 -0.27831271290779114,6.719416379928589 l0.8452094346284866,0.08668198250234127 -4.097463488578796,-0.6755539774894714 l4.41680371761322,-1.5094086527824402 m-3.240227699279785,5.8894044160842896 m-0.569351427257061,-3.5273975133895874 l-1.9140996038913727,0.2370813488960266 2.809016704559326,-0.8500531315803528 l-1.5171968936920166,0.3065137378871441 -2.2873853147029877,0.6297777593135834 l-0.08370422758162022,-0.8944830298423767 -2.3450127243995667,2.616114616394043 l1.2722669541835785,-0.6130216643214226 -2.759948968887329,-0.3259440138936043 m4.869823157787323,0.34385718405246735 l2.8028100728988647,1.1284465342760086 -3.315628170967102,-1.97801873087883 l-1.0781221836805344,-4.306997656822205 -3.2351192831993103,2.4660873413085938 l-1.9971027970314026,3.639000356197357 m-3.987131416797638,2.269509732723236 l2.6106593012809753,1.5241654217243195 -2.0933914184570312,-0.09176111780107021 l-2.34799861907959,0.3002244606614113 m-2.2776249051094055,1.008147969841957 l0.8400725573301315,2.1536090970039368 -4.386653900146484,1.0272736847400665 l-0.49062497913837433,-3.6282631754875183 -1.0173128545284271,-2.155102789402008 m-6.864364743232727,-0.9155610203742981 l-6.710839867591858,2.53345787525177 0.11862846091389656,6.264180541038513 l2.713424563407898,5.379994511604309 -2.097214013338089,2.9399889707565308 m3.2382971048355103,2.883504629135132 m1.3738293945789337,2.1850483119487762 m-4.824365079402924,-0.4660739004611969 m-7.112545967102051,5.834058523178101 l-3.5837948322296143,5.577377080917358 -1.2181900441646576,6.789482831954956 l1.2793409824371338,-6.695822477340698 1.146927997469902,7.316157221794128 l-2.009247988462448,5.562044978141785 m1.7999480664730072,-0.6584975123405457 m-1.8351225554943085,0.1778510957956314 l2.830788791179657,-4.656630456447601 m-3.950633406639099,-2.093912959098816 l-4.575141966342926,0.8918718993663788 -1.7896057665348053,-0.8602096885442734 m4.752704203128815,-2.771627902984619 l-4.042152762413025,1.8520168960094452 0.5989671498537064,-0.8818471431732178 l3.664541244506836,1.1000464856624603 -1.8114908039569855,-0.5258099362254143 m-1.9985471665859222,-4.951829016208649 l0.1489042490720749,6.645849347114563 m-6.954029202461243,-2.622927725315094 l-1.6532844305038452,-1.156683936715126 1.640225499868393,0.3937113285064697 l-1.7320792376995087,1.6527694463729858 m-1.0948161780834198,3.7803074717521667 m-1.340113878250122,-3.5645073652267456 l-1.799340844154358,4.246741533279419 -2.342946231365204,7.521863579750061 l-0.6362082809209824,1.9745995104312897 1.4389105141162872,6.359972357749939 m-3.366438150405884,-3.0179834365844727 l-1.762305200099945,-0.6866957992315292 m-5.1994770765304565,2.5220003724098206 l1.29356250166893,2.8562957048416138 -0.04581382032483816,-1.9325828552246094 l-4.64091420173645,2.5615549087524414 -2.4194012582302094,10.062144994735718 m2.073872834444046,0.5327542498707771 l0.34423109143972397,3.0093443393707275 -0.8319811522960663,0.7647600769996643 l-1.8761932849884033,-4.687363505363464 -2.9523080587387085,0.41272684931755066 l4.320215284824371,4.969859421253204 -2.7551284432411194,3.863365948200226 l-1.0193832963705063,-0.5546469613909721 -2.8768470883369446,4.878695607185364 l-1.737695336341858,2.221764028072357 -0.268242284655571,1.6995346546173096 l-2.63420432806015,1.573348194360733 -2.1229586005210876,2.6417243480682373 l-0.8584150671958923,-3.548652231693268 0.8129605650901794,0.6636172533035278 m2.4301494657993317,-4.927286803722382 l-4.820457100868225,1.5755119919776917 -4.996756911277771,1.3492387533187866 m-0.5159751698374748,-0.9956420212984085 l1.7963102459907532,0.33358413726091385 -5.462466478347778,4.1237106919288635 m-1.3230118155479431,-0.7242312282323837 m-3.716506063938141,-0.5039377883076668 l-4.9494194984436035,2.26096510887146 1.4855040609836578,-0.12178528122603893 l-0.20370904356241226,-2.159240245819092 -2.7396750450134277,-0.10612057521939278 m-4.064604640007019,3.089263141155243 l1.4805971086025238,1.7464812099933624 -0.0847883615642786,4.65380072593689 m-1.9579872488975525,-2.9087382555007935 m-4.6080282330513,-1.0369253903627396 m2.634247839450836,-2.3646819591522217 l-0.19218703731894493,-2.808224856853485 -4.535195529460907,-1.4921043813228607 m-6.978532075881958,0.4778587445616722 l0.6680775433778763,-5.031780004501343 3.139050006866455,-0.02072738716378808 l-7.583303451538086,1.4485938847064972 1.1780932545661926,0.7597526162862778 l-0.16248313710093498,-1.7279791831970215 -5.21410346031189,1.020558476448059 l-3.2133767008781433,3.584127426147461 m-0.4653838276863098,-1.3248515129089355 m269.58299990568776,-68.9001910891966 l-3.7819454073905945,0.23174291476607323 2.094961851835251,-2.760670781135559 l-3.5099735856056213,0.08736654184758663 m1.5721151232719421,-1.6694562137126923 l3.904803693294525,1.701759546995163 m-1.1203935742378235,-5.207838416099548 l0.10486472398042679,4.079329967498779 1.149355098605156,2.550797462463379 l-0.3385559469461441,-2.7207082509994507 0.9826528280973434,4.24454391002655 l1.0326368361711502,4.794704914093018 2.9208090901374817,6.720022559165955 l-1.3134999573230743,-9.857609272003174 1.1996617913246155,4.419389367103577 l5.037619471549988,2.5457924604415894 -0.20422566682100296,-3.5901638865470886 m-5.401440262794495,-1.22750423848629 l-4.623940885066986,14.903120994567871 1.645580530166626,4.246246516704559 l-2.0864731073379517,-0.36537494510412216 -4.027885794639587,-2.6778075098991394 m-1.3582944869995117,3.3302390575408936 l-3.9785096049308777,0.8554916828870773 m-0.9716594964265823,3.140895962715149 m-1.692337989807129,-9.5465749502182 l-7.618235945701599,-0.24985304102301598 m4.309538006782532,5.584146976470947 l-0.7131264358758926,-3.693843185901642 m0.48481982201337814,-4.896015226840973 l5.040696859359741,6.6493141651153564 m-0.03714853199198842,6.331550478935242 l-1.8082323670387268,5.516731142997742 -0.8966130763292313,-5.395019054412842 l-5.238736271858215,-3.1091931462287903 m-2.794881761074066,7.866780161857605 m1.7531932890415192,-5.057572722434998 l5.032461881637573,-0.5226602032780647 -0.9374545514583588,2.628331184387207 l-1.4604181051254272,-5.133150815963745 1.8404620885849,-0.09793509729206562 l-3.1913545727729797,7.216451168060303 -0.7058205455541611,5.534641742706299 l-1.1930745840072632,4.989783465862274 -7.056395411491394,3.1555205583572388 m1.7838956415653229,-3.66226464509964 l-3.3427628874778748,-8.393990993499756 -4.637882709503174,-3.0360686779022217 l-0.033310994040220976,-0.795624852180481 m2.6017871499061584,19.32356595993042 l-2.5473394989967346,-3.0780819058418274 -8.419756889343262,-0.9741375595331192 l-1.1559297144412994,8.621631264686584 2.3242108523845673,-8.121633529663086 l0.5156727135181427,5.881588459014893 -2.604493498802185,-6.099593639373779 l0.6780856102705002,0.13503845781087875 1.0817356407642365,-1.6365790367126465 l-2.568425238132477,-2.400546371936798 m2.412104159593582,-3.55177640914917 l-3.3448368310928345,0.9601802378892899 -0.9988042712211609,5.2703434228897095 l-2.4224039912223816,-4.145118892192841 m-0.6572508066892624,-5.860379338264465 m1.3839176297187805,-0.7079441100358963 m-6.158168315887451,1.2910427153110504 l-2.035529464483261,-6.536189913749695 -4.797947406768799,1.55612513422966 l-0.625765472650528,5.926728248596191 0.21879738196730614,-2.109883576631546 l0.7652842253446579,-1.9862447679042816 1.3927081227302551,-6.107527017593384 l0.240872073918581,-1.219186708331108 1.6876411437988281,-6.311870217323303 l3.7165462970733643,-4.589170515537262 1.6993960738182068,-0.42991437017917633 l-5.502272248268127,0.84202840924263 -2.4370363354682922,-2.6112201809883118 l0.025144899263978004,5.845694541931152 -2.3007839918136597,-0.09982106275856495 l-0.7370096445083618,4.218466281890869 1.7001231014728546,9.461966156959534 l-1.3300445675849915,0.5393064767122269 -2.0186670124530792,-3.0050769448280334 l-2.08771213889122,-4.747134447097778 -6.521869897842407,-1.6036616265773773 l2.9824429750442505,0.3961288183927536 m4.238537549972534,-1.4501212537288666 m5.7275426387786865,-9.338239431381226 l-3.0542638897895813,-0.2550539933145046 -0.43660085648298264,0.572325736284256 l2.826141119003296,-1.3112713396549225 2.1292416751384735,-2.716233730316162 l4.498780369758606,9.997173547744751 -0.4048909991979599,5.717189311981201 l2.6710480451583862,1.587790995836258 2.360663264989853,-3.68583083152771 m1.9608993828296661,2.3076726496219635 l-5.258618593215942,3.8540732860565186 -0.7910896092653275,-8.1700199842453 l-1.1405114084482193,5.431906580924988 -1.794840693473816,0.9641043841838837 l-2.190130352973938,-1.344582736492157 2.3471027612686157,0.45572783797979355 l-3.41903418302536,8.327831029891968 0.1423570979386568,-3.601195216178894 l-4.223772883415222,-0.19505348056554794 -0.9241490811109543,-0.4312024265527725 l5.055729150772095,2.7868014574050903 0.7600786536931992,2.4502673745155334 l1.2277312576770782,1.435668021440506 -0.8372550457715988,0.38616638630628586 l-2.4753837287425995,-0.762704536318779 -2.8753748536109924,-12.906957864761353 l4.387019574642181,-11.325129270553589 -9.080281853675842,-0.6520857661962509 m-4.948539137840271,-0.27552448213100433 l2.8691181540489197,-5.360958576202393 -2.7741560339927673,5.897302627563477 l2.4245959520339966,3.0009815096855164 -4.466860294342041,-0.19993625581264496 l-2.2288741171360016,-5.827889442443848 -6.180179715156555,-2.1965016424655914 l-1.7832131683826447,-3.846806287765503 5.62041699886322,-0.37963591516017914 l-3.665284514427185,2.8434818983078003 1.2666237354278564,-5.811707973480225 m-1.7728130519390106,0.7250761985778809 l-0.7353000342845917,-3.363006114959717 0.5683782696723938,-8.187988996505737 l2.2588104009628296,1.0805074125528336 m3.1519192457199097,-2.242088168859482 l4.453886449337006,0.6536245346069336 m-2.282732129096985,1.709849238395691 l-0.3364979475736618,0.7824741303920746 3.984614610671997,-3.437991738319397 l-7.410200238227844,-6.869999170303345 m-6.901324987411499,1.5464578568935394 l-2.1605414152145386,-11.538968086242676 -1.596091240644455,-3.4394991397857666 m4.791365563869476,0.46955108642578125 l-3.204001784324646,2.462208718061447 4.03118222951889,-4.506193995475769 l0.771612823009491,-3.733828067779541 3.5276511311531067,-2.7674344182014465 l3.969249427318573,9.594534635543823 4.057475924491882,3.61124187707901 l-1.5301662683486938,-9.258652925491333 -1.6800123453140259,-3.832121789455414 l-2.1916846930980682,-3.382108509540558 3.6260148882865906,-1.8991972506046295 l0.926356166601181,0.05242230836302042 0.20336013287305832,-8.591250777244568 m2.095812112092972,-4.049133062362671 l1.5450115501880646,5.038949251174927 -2.349802553653717,-13.04160475730896 l-2.7914026379585266,-0.30762804672122 -4.354532063007355,-3.967086970806122 m-0.8129360526800156,6.270583868026733 l1.553865671157837,-3.62978994846344 m-0.4252081736922264,-0.7470890879631042 l-3.483090400695801,5.959043502807617 m-4.6685707569122314,8.612103462219238 l0.2645038440823555,-1.2530720233917236 -0.642336830496788,4.704972207546234 m6.1008065938949585,2.967829704284668 l-1.9811220467090607,-2.231934666633606 -1.8352317810058594,-1.7565122246742249 l0.5876194313168526,1.96597158908844 -3.6906850337982178,-3.8267257809638977 m3.332604467868805,-7.879766225814819 m0.6443683058023453,2.446104884147644 l-5.438917875289917,-6.110945343971252 5.189385414123535,2.366162985563278 l-3.170876204967499,-1.3976901769638062 2.628156840801239,7.65425980091095 l3.4791165590286255,1.9247530400753021 0.10519986972212791,-0.2537001110613346 l3.6442282795906067,1.8985933065414429 1.7748881876468658,-7.390077114105225 l-5.1321351528167725,3.550291955471039 -2.6446232199668884,2.283315360546112 l0.6843732297420502,-7.216011881828308 m4.54132467508316,-6.857429146766663 m1.4605721831321716,2.0262765884399414 l-2.453615814447403,5.319433808326721 -3.663182556629181,-6.098217964172363 l3.3180060982704163,-3.5029321908950806 m1.487654596567154,-5.746667981147766 l2.237439900636673,-4.132508337497711 -0.9220016002655029,4.798521399497986 l1.9039544463157654,7.040897607803345 m-0.6360682845115662,-2.4960502982139587 l-3.10659259557724,1.1852619796991348 -1.9227537512779236,-2.246726155281067 l0.9279730916023254,-8.105119466781616 -0.010517240734770894,-0.8980374783277512 l-7.968807816505432,1.2012017518281937 0.5779574066400528,-0.9216979146003723 l-1.633927822113037,-7.5519949197769165 m3.4748682379722595,-0.6725362688302994 l4.344420433044434,-0.24442316964268684 m4.495494961738586,-0.8063830435276031 l0.7339661568403244,-2.7358877658843994 -4.122260212898254,10.024410486221313 m-2.3041382431983948,3.9497512578964233 l3.1259900331497192,-1.422463059425354 0.4937954992055893,-3.8070744276046753 l-0.33188097178936005,1.2477625161409378 -1.8785244226455688,4.995972514152527 l1.6122892498970032,-1.5124213695526123 -2.660052180290222,1.8164926767349243 l0.14938626438379288,1.982646882534027 m1.2944763898849487,-2.8828907012939453 l2.826055586338043,8.55402410030365 0.6601308286190033,-6.258591413497925 l-0.6159473210573196,-0.9485568851232529 3.093515932559967,13.322975635528564 m1.5152251720428467,1.0846538096666336 l-2.8037187457084656,-7.624760270118713 0.11528038419783115,1.521579623222351 l-3.904290199279785,-3.152984082698822 1.1813143640756607,-6.388886570930481 l-0.5129024013876915,1.2157776206731796 m-1.1490962654352188,2.436707764863968 l-3.7343358993530273,0.8658669143915176 -11.011269092559814,4.292250275611877 l2.992851436138153,-1.2610390782356262 2.8875604271888733,3.792601525783539 l0.9680821746587753,-6.591910123825073 m1.6814659535884857,-10.118142366409302 l-0.38675419986248016,-0.7111576944589615 3.439069092273712,-3.6354291439056396 l2.108922451734543,7.473461627960205 3.5021808743476868,5.919591784477234 l-3.221358358860016,-3.5688185691833496 8.166714906692505,-0.35309311002492905 l0.1805824600160122,-1.6885703802108765 m0.40215279906988144,-11.003957986831665 l1.5583230555057526,2.9466187953948975 -5.5558717250823975,12.705079317092896 l-3.1121891736984253,2.772815227508545 -1.115747094154358,-1.7558614909648895 l-2.7354851365089417,0.9031786769628525 0.38353629410266876,1.8476657569408417 l-3.4817004203796387,7.059341073036194 -4.987320899963379,4.286183714866638 l0.22935336455702782,0.7030969113111496 -1.2518154084682465,-2.6916512846946716 l-1.4472389221191406,-1.7137546837329865 -4.056894481182098,3.2547664642333984 m138.69317276927177,41.46496738540009 l-8.330675959587097,-0.49226216971874237 -1.520240604877472,1.6473086178302765 m100.01472536474466,-3.9789658039808273 l2.102046310901642,3.145717978477478 1.294390857219696,-3.056657612323761 m-0.3468935564160347,-1.1421338468790054 m2.7208679914474487,6.240944266319275 l0.9465447068214417,2.7539056539535522 -4.631392061710358,-0.92863529920578 l-3.7699824571609497,-0.3587893769145012 m-5.468839406967163,1.8841083347797394 l1.5846236050128937,1.6148221492767334 -1.277732402086258,-1.6383036971092224 l-4.224835634231567,4.643406271934509 m-4.09560889005661,-1.4940428733825684 l-4.369352459907532,2.7923405170440674 -4.82455849647522,0.18297430127859116 m87.49251938599627,137.45121935848147 l0.4683244600892067,1.3967971503734589 3.8020530343055725,-5.088494420051575 l-1.5223462879657745,-0.7884067296981812 1.7556741833686829,0.12005273252725601 l-2.163730710744858,1.437336504459381 0.035136109218001366,-6.378525495529175 l5.306432843208313,-2.3736263811588287 1.0764285922050476,-8.01829218864441 l0.5152125284075737,-4.994983077049255 -5.146103501319885,4.310784041881561 l2.373574525117874,-4.629950523376465 -9.041283130645752,1.1186479032039642 l-1.4858940243721008,-0.27425652369856834 -1.1046495288610458,4.499706327915192 m-2.207561284303665,-0.1777077279984951 l-0.037625301629304886,1.4886993169784546 -4.206011891365051,0.5303411558270454 l3.836859166622162,3.0272117257118225 6.149098873138428,0.16391387209296227 l-2.4794670939445496,1.1153774708509445 4.046436548233032,3.9109355211257935 l-3.1605681777000427,-4.178929328918457 0.8336302638053894,-5.375394821166992 m-0.9363458305597305,-5.474495887756348 m-0.28517695143818855,5.253990292549133 l-4.149459898471832,-1.3593734800815582 -0.022701304405927658,-2.6890653371810913 l-0.029794855508953333,-5.093401670455933 m3.7274569272994995,-0.38821991533041 l1.5643355250358582,-0.39974506944417953 m0.7549361884593964,-6.573812365531921 m3.0126211047172546,3.1238389015197754 m5.183994770050049,0.10796353220939636 l1.9415101408958435,-0.8268930017948151 2.5452643632888794,5.452980995178223 m-3.2263541221618652,3.1030744314193726 l-0.17592115327715874,-2.446623593568802 m0.01943278475664556,-2.433602660894394 l-0.02659267745912075,-2.8989747166633606 m-1.228710561990738,-6.750577688217163 m3.5001182556152344,7.796837091445923 l-4.874893426895142,-0.25217413902282715 m0.8165458589792252,-7.946593761444092 l2.641686201095581,3.2781389355659485 m-2.1707522869110107,-0.6495621055364609 m2.096826285123825,-5.557193160057068 m-0.20850850269198418,0.2819755859673023 l-6.234065890312195,6.339088082313538 4.848833084106445,2.605143189430237 m-0.11908015236258507,1.3488608598709106 m3.4496235847473145,-0.7188919931650162 m-3.7067589163780212,5.6747376918792725 m-2.5357869267463684,-1.6444510221481323 m1.3775697350502014,-2.6975470781326294 l2.97316312789917,-1.448080688714981 m1.894260048866272,-6.700218319892883 m-2.1775196492671967,-7.930837273597717 l3.1081143021583557,2.4258850514888763 -1.0918040573596954,-4.222594201564789 l1.632169783115387,-8.301412463188171 -1.0695863515138626,-3.7126830220222473 l3.5343027114868164,-6.436558961868286 -4.3171027302742,1.6410180926322937 l0.754208117723465,9.466233849525452 -8.483312129974365,1.097610890865326 l-5.457615852355957,0.6260717660188675 -1.650071144104004,-0.5578024685382843 m-0.6564066559076309,-2.4880878627300262 l-2.389766275882721,3.7354719638824463 0.0028716347878798842,-3.0250680446624756 l-3.6555293202400208,-4.554813802242279 m2.349242717027664,4.104631245136261 m-2.564931809902191,-2.037666290998459 l1.6532912850379944,-2.081354558467865 -1.8681545555591583,6.198480725288391 l0.21161118522286415,3.80182683467865 m2.7669909596443176,-6.215887665748596 l0.2977112680673599,-3.3728349208831787 -1.682727038860321,-4.20602560043335 l1.9341850280761719,-5.6898921728134155 -2.6997530460357666,6.655294299125671 m0.6684034317731857,1.5176618099212646 l-2.8438621759414673,-10.475572347640991 -0.9674356877803802,-2.2858473658561707 l4.3788787722587585,0.861874520778656 1.1478637903928757,5.391044020652771 l-2.7255550026893616,2.810959219932556 m2.7629736065864563,1.5493598580360413 m-0.3075788728892803,-4.465195834636688 l-5.658661723136902,6.565199494361877 m-1.2763620913028717,-7.737148404121399 l-1.4363819360733032,-5.0911760330200195 -0.2536308765411377,-0.5496267229318619 m0.27557574212551117,-0.8245045691728592 l-6.246987581253052,-1.9249656796455383 2.5370848178863525,-2.7431103587150574 l-7.266373634338379,-0.2812548540532589 m3.881814479827881,3.9823102951049805 l-6.667431592941284,0.824626088142395 0.5234715715050697,-5.494638085365295 l1.272701621055603,-5.404609441757202 m2.040780633687973,-7.2143250703811646 l-3.2043009996414185,0.1604958064854145 3.218173384666443,2.3159027099609375 l4.459265172481537,2.416006922721863 -8.162795901298523,3.682836592197418 l6.1157143115997314,-2.3865246772766113 2.935665547847748,-7.9677897691726685 l0.05943172611296177,7.071930766105652 2.380610555410385,-3.7282362580299377 m0.9268065541982651,1.8897011876106262 l-1.8713408708572388,-2.9178544878959656 5.131385922431946,-2.7459219098091125 m3.744046688079834,-0.4859590157866478 m-4.356343448162079,-5.927814245223999 m-2.4863138794898987,-4.030305445194244 l-2.7384671568870544,1.0886795818805695 m-1.0364412516355515,-2.398083657026291 l5.731673836708069,-0.09468637406826019 9.442245960235596,-10.875141620635986 m2.1143196523189545,-5.923512578010559 m1.5887494385242462,-4.2923495173454285 l3.3893120288848877,0.14163355343043804 0.31909648329019547,3.089836537837982 l5.846953392028809,-2.5474658608436584 2.922670841217041,-2.4918030202388763 l2.227602005004883,-3.9056754112243652 -1.631716787815094,-7.941081523895264 l1.2607161700725555,-1.718907654285431 7.19622015953064,1.098545715212822 l-0.9434369206428528,-5.122618675231934 m-0.8939868211746216,-3.9376112818717957 l-2.9581457376480103,-1.897359937429428 -1.6613249480724335,-1.0705021023750305 m0.8830656111240387,5.974252223968506 l3.114824593067169,-6.603851914405823 -4.4705259799957275,1.8678231537342072 l-0.29453327879309654,-4.745270311832428 -4.231263697147369,0.4341353476047516 l0.5474938824772835,0.1188149955123663 0.6779142469167709,1.281730830669403 l-2.3454688489437103,-6.116418838500977 -5.133947730064392,-1.6681654751300812 m-2.001580148935318,-1.2751442193984985 m-0.46501487493515015,-1.070060059428215 l2.8531628847122192,0.9426739811897278 -3.248074948787689,-0.9643567353487015 l-3.427518308162689,1.9675624370574951 -1.9933013617992401,-7.018149495124817 l1.3388557732105255,-6.818669438362122 m1.8210650980472565,-2.0012688636779785 l4.365893602371216,3.9375829696655273 m2.2527146339416504,-1.3127358257770538 l-2.84027099609375,-0.8851631730794907 m-2.1096013486385345,3.9136114716529846 l-0.7886376976966858,1.1367744952440262 -3.761141002178192,-7.665988802909851 m-2.0445403456687927,4.735198616981506 l-2.74760365486145,-4.50877457857132 0.48056889325380325,-2.386549562215805 l-1.8954886496067047,-4.7355616092681885 1.4921724796295166,-2.7944833040237427 l4.495274126529694,7.91822075843811 -0.0393935339525342,-5.926310420036316 l-10.03763198852539,-0.497097410261631 m0.12059126049280167,-1.2441803514957428 l4.277366995811462,-0.3928753361105919 -0.9464604407548904,0.9161841124296188 m3.980322778224945,1.7231200635433197 l0.7118451595306396,-0.6092909350991249 m1.94122776389122,-1.3596807420253754 l5.181244611740112,-6.960228681564331 -6.400845646858215,1.1968883872032166 l2.10432231426239,0.7513657957315445 m3.0660510063171387,-1.2882336974143982 l0.3822711110115051,-7.360895872116089 m1.6327382624149323,-5.969851613044739 l16.918519735336304,4.133339524269104 6.559094786643982,-4.969744384288788 l-3.640526533126831,0.8462420105934143 -10.408384799957275,-0.8784786611795425 m-3.055555522441864,-0.8573305606842041 m5.361088514328003,-2.6388314366340637 l1.4058920741081238,-5.646982789039612 4.132368564605713,0.06915739271789789 l1.5053565800189972,-1.5674662590026855 m-0.24668365716934204,-5.38122832775116 l4.834094047546387,0.9469455480575562 m2.796185612678528,0.08938610553741455 m4.532262980937958,-7.550550699234009 l1.4808158576488495,-8.04014265537262 -5.4165226221084595,-8.178265690803528 m3.2402169704437256,-0.2975911274552345 l0.7311130315065384,-4.113442599773407 0.23858753964304924,5.786247253417969 l-3.2234466075897217,1.209447756409645 -5.334872007369995,3.069564998149872 l2.7545514702796936,8.380299806594849 1.2832923233509064,-6.663108468055725 l1.5399712324142456,-5.677688121795654 -1.3178575038909912,-0.41098639369010925 m-3.4422335028648376,0.4959435760974884 m-0.07084894925355911,-5.239396095275879 l-3.372335433959961,0.06112240720540285 m1.0654892772436142,-2.0343177020549774 m-1.89514622092247,0.2795701287686825 m-3.1834208965301514,-4.681558310985565 m-0.8337131142616272,-4.205271899700165 m-2.133646607398987,1.1363214999437332 l-3.9314770698547363,-0.4618695005774498 -5.076929926872253,2.0289961993694305 l1.9489209353923798,1.7806994915008545 -0.21137623116374016,3.2060471177101135 l1.6740776598453522,-2.738315165042877 1.3426464796066284,-5.811524391174316 m-3.0817753076553345,-3.6588096618652344 l0.9605846554040909,5.2853065729141235 4.950002729892731,5.330855846405029 l1.3275788724422455,0.5996470525860786 -0.09712916798889637,-11.64331316947937 m2.010907530784607,-0.9909898042678833 l3.996606171131134,-1.5144264698028564 1.986420750617981,-4.42754328250885 l-7.344028949737549,-1.0842251032590866 m4.030865430831909,-2.027609795331955 l0.07765808142721653,-4.59202915430069 -0.42031779885292053,-4.050533771514893 l1.259649246931076,-3.0210360884666443 m2.0338737964630127,-2.543821632862091 l-2.401631623506546,3.3639004826545715 5.703189373016357,4.0581899881362915 l-2.5352025032043457,-4.239869713783264 6.470658183097839,0.6219745799899101 m-2.058752626180649,2.814001739025116 m3.868904411792755,7.882840037345886 l4.242074489593506,4.227652549743652 0.30840838328003883,-2.1238061785697937 l3.162796199321747,-2.1949851512908936 -4.144737422466278,2.591719329357147 l5.519358515739441,-0.7594984024763107 -0.6784985959529877,-2.15939924120903 l4.974269270896912,0.7772276550531387 0.8001546561717987,-1.0181017220020294 l2.8653058409690857,-6.679754853248596 -6.340420246124268,2.2639107704162598 l-0.7909422367811203,0.16717176884412766 -0.31846698373556137,-2.2173506021499634 l1.3937665522098541,3.2446736097335815 m1.1910726875066757,5.874571800231934 l4.315996468067169,-2.4923712015151978 m49.64784085517749,130.5746408412233 l-0.4793783649802208,-0.15051541849970818 m0.8711887151002884,-4.201154708862305 l2.791999578475952,4.645684063434601 -2.3859499394893646,0.5083310604095459 l-5.326951742172241,-1.4823752641677856 -1.5391527116298676,0.5090165883302689 m-8.229857087135315,-1.6730377078056335 l3.8478758931159973,4.106363952159882 m0.24505935609340668,2.5864118337631226 m-4.483810663223267,1.4706987142562866 m-4.325835406780243,1.792542040348053 l4.920148849487305,0.8770085871219635 m0.5146564915776253,-2.4088479578495026 m82.71276842802763,-3.2569590024650097 l-7.084875702857971,5.2783578634262085 6.862231492996216,-1.7079991102218628 \" fill=\"none\" stroke=\"black\" stroke-width=\"1\"/></svg>"
          },
          "metadata": {
            "tags": []
          }
        }
      ]
    },
    {
      "cell_type": "code",
      "metadata": {
        "id": "Jcwzu5bnfIGO",
        "colab_type": "code",
        "colab": {}
      },
      "source": [
        "\n",
        "def get_model_params():\n",
        "  # get trainable params.\n",
        "  model_names = []\n",
        "  model_params = []\n",
        "  model_shapes = []\n",
        "  with sess.as_default():\n",
        "    t_vars = tf.trainable_variables()\n",
        "    for var in t_vars:\n",
        "      param_name = var.name\n",
        "      p = sess.run(var)\n",
        "      model_names.append(param_name)\n",
        "      params = p\n",
        "      model_params.append(params)\n",
        "      model_shapes.append(p.shape)\n",
        "  return model_params, model_shapes, model_names\n",
        "\n",
        "def quantize_params(params, max_weight=10.0, factor=32767):\n",
        "  result = []\n",
        "  max_weight = np.abs(max_weight)\n",
        "  for p in params:\n",
        "    r = np.array(p)\n",
        "    r /= max_weight\n",
        "    r[r>1.0] = 1.0\n",
        "    r[r<-1.0] = -1.0\n",
        "    result.append(np.round(r*factor).flatten().astype(np.int).tolist())\n",
        "  return result"
      ],
      "execution_count": 0,
      "outputs": []
    },
    {
      "cell_type": "code",
      "metadata": {
        "id": "IcXT9P-vfKln",
        "colab_type": "code",
        "colab": {}
      },
      "source": [
        "model_params, model_shapes, model_names = get_model_params()"
      ],
      "execution_count": 0,
      "outputs": []
    },
    {
      "cell_type": "code",
      "metadata": {
        "id": "lftZSaALfPMi",
        "colab_type": "code",
        "colab": {
          "base_uri": "https://localhost:8080/",
          "height": 440
        },
        "outputId": "5baa6fd2-6408-4e95-9bab-a2185075ac11"
      },
      "source": [
        "model_names"
      ],
      "execution_count": 89,
      "outputs": [
        {
          "output_type": "execute_result",
          "data": {
            "text/plain": [
              "['vector_rnn/ENC_RNN/fw/LayerNormLSTMCell/W_xh:0',\n",
              " 'vector_rnn/ENC_RNN/fw/LayerNormLSTMCell/W_hh:0',\n",
              " 'vector_rnn/ENC_RNN/fw/LayerNormLSTMCell/ln_all/ln_gamma:0',\n",
              " 'vector_rnn/ENC_RNN/fw/LayerNormLSTMCell/ln_all/ln_beta:0',\n",
              " 'vector_rnn/ENC_RNN/fw/LayerNormLSTMCell/ln_c/ln_gamma:0',\n",
              " 'vector_rnn/ENC_RNN/fw/LayerNormLSTMCell/ln_c/ln_beta:0',\n",
              " 'vector_rnn/ENC_RNN/bw/LayerNormLSTMCell/W_xh:0',\n",
              " 'vector_rnn/ENC_RNN/bw/LayerNormLSTMCell/W_hh:0',\n",
              " 'vector_rnn/ENC_RNN/bw/LayerNormLSTMCell/ln_all/ln_gamma:0',\n",
              " 'vector_rnn/ENC_RNN/bw/LayerNormLSTMCell/ln_all/ln_beta:0',\n",
              " 'vector_rnn/ENC_RNN/bw/LayerNormLSTMCell/ln_c/ln_gamma:0',\n",
              " 'vector_rnn/ENC_RNN/bw/LayerNormLSTMCell/ln_c/ln_beta:0',\n",
              " 'vector_rnn/ENC_RNN_mu/super_linear_w:0',\n",
              " 'vector_rnn/ENC_RNN_mu/super_linear_b:0',\n",
              " 'vector_rnn/ENC_RNN_sigma/super_linear_w:0',\n",
              " 'vector_rnn/ENC_RNN_sigma/super_linear_b:0',\n",
              " 'vector_rnn/linear/super_linear_w:0',\n",
              " 'vector_rnn/linear/super_linear_b:0',\n",
              " 'vector_rnn/RNN/output_w:0',\n",
              " 'vector_rnn/RNN/output_b:0',\n",
              " 'vector_rnn/RNN/LayerNormLSTMCell/W_xh:0',\n",
              " 'vector_rnn/RNN/LayerNormLSTMCell/W_hh:0',\n",
              " 'vector_rnn/RNN/LayerNormLSTMCell/ln_all/ln_gamma:0',\n",
              " 'vector_rnn/RNN/LayerNormLSTMCell/ln_all/ln_beta:0',\n",
              " 'vector_rnn/RNN/LayerNormLSTMCell/ln_c/ln_gamma:0',\n",
              " 'vector_rnn/RNN/LayerNormLSTMCell/ln_c/ln_beta:0']"
            ]
          },
          "metadata": {
            "tags": []
          },
          "execution_count": 89
        }
      ]
    },
    {
      "cell_type": "code",
      "metadata": {
        "id": "cxziAxgKfUYC",
        "colab_type": "code",
        "colab": {}
      },
      "source": [
        "# scale factor converts \"model-coordinates\" to \"pixel coordinates\" for your JS canvas demo later on.\n",
        "# the larger it is, the larger your drawings (in pixel space) will be.\n",
        "# I recommend setting this to 100.0 and iterating the value in the json file later on when you build the JS part.\n",
        "scale_factor = 200.0\n",
        "metainfo = {\"mode\":2,\"version\":6,\"max_seq_len\":train_set.max_seq_length,\"name\":\"custom\",\"scale_factor\":scale_factor}"
      ],
      "execution_count": 0,
      "outputs": []
    },
    {
      "cell_type": "code",
      "metadata": {
        "id": "GFFoaW2kfY5b",
        "colab_type": "code",
        "colab": {}
      },
      "source": [
        "model_params_quantized = quantize_params(model_params)"
      ],
      "execution_count": 0,
      "outputs": []
    },
    {
      "cell_type": "code",
      "metadata": {
        "id": "EyPeWO4ufgwm",
        "colab_type": "code",
        "colab": {}
      },
      "source": [
        "model_blob = [metainfo, model_shapes, model_params_quantized]"
      ],
      "execution_count": 0,
      "outputs": []
    },
    {
      "cell_type": "code",
      "metadata": {
        "id": "8Tow2XmrfkJs",
        "colab_type": "code",
        "colab": {}
      },
      "source": [
        "with open(\"custom.gen.full.json\", 'w') as outfile:\n",
        "  json.dump(model_blob, outfile, separators=(',', ':'))"
      ],
      "execution_count": 0,
      "outputs": []
    },
    {
      "cell_type": "markdown",
      "metadata": {
        "id": "rTImXRwCWp-m",
        "colab_type": "text"
      },
      "source": [
        "# OTHER STUFF!!!"
      ]
    },
    {
      "cell_type": "code",
      "metadata": {
        "id": "eaSqI0fIFQub",
        "colab_type": "code",
        "colab": {}
      },
      "source": [
        "download_pretrained_models(models_root_dir=models_root_dir)"
      ],
      "execution_count": 0,
      "outputs": []
    },
    {
      "cell_type": "code",
      "metadata": {
        "id": "G4sRuxyn_1aO",
        "colab_type": "code",
        "colab": {}
      },
      "source": [
        "def load_env_compatible(data_dir, model_dir):\n",
        "  \"\"\"Loads environment for inference mode, used in jupyter notebook.\"\"\"\n",
        "  # modified https://github.com/tensorflow/magenta/blob/master/magenta/models/sketch_rnn/sketch_rnn_train.py\n",
        "  # to work with depreciated tf.HParams functionality\n",
        "  model_params = sketch_rnn_model.get_default_hparams()\n",
        "  with tf.gfile.Open(os.path.join(model_dir, 'model_config.json'), 'r') as f:\n",
        "    data = json.load(f)\n",
        "  fix_list = ['conditional', 'is_training', 'use_input_dropout', 'use_output_dropout', 'use_recurrent_dropout']\n",
        "  for fix in fix_list:\n",
        "    data[fix] = (data[fix] == 1)\n",
        "  model_params.parse_json(json.dumps(data))\n",
        "  return load_dataset(data_dir, model_params, inference_mode=True)\n",
        "\n",
        "def load_model_compatible(model_dir):\n",
        "  \"\"\"Loads model for inference mode, used in jupyter notebook.\"\"\"\n",
        "  # modified https://github.com/tensorflow/magenta/blob/master/magenta/models/sketch_rnn/sketch_rnn_train.py\n",
        "  # to work with depreciated tf.HParams functionality\n",
        "  model_params = sketch_rnn_model.get_default_hparams()\n",
        "  with tf.gfile.Open(os.path.join(model_dir, 'model_config.json'), 'r') as f:\n",
        "    data = json.load(f)\n",
        "  fix_list = ['conditional', 'is_training', 'use_input_dropout', 'use_output_dropout', 'use_recurrent_dropout']\n",
        "  for fix in fix_list:\n",
        "    data[fix] = (data[fix] == 1)\n",
        "  model_params.parse_json(json.dumps(data))\n",
        "\n",
        "  model_params.batch_size = 1  # only sample one at a time\n",
        "  eval_model_params = sketch_rnn_model.copy_hparams(model_params)\n",
        "  eval_model_params.use_input_dropout = 0\n",
        "  eval_model_params.use_recurrent_dropout = 0\n",
        "  eval_model_params.use_output_dropout = 0\n",
        "  eval_model_params.is_training = 0\n",
        "  sample_model_params = sketch_rnn_model.copy_hparams(eval_model_params)\n",
        "  sample_model_params.max_seq_len = 1  # sample one point at a time\n",
        "  return [model_params, eval_model_params, sample_model_params]"
      ],
      "execution_count": 0,
      "outputs": []
    },
    {
      "cell_type": "code",
      "metadata": {
        "id": "9m-jSAb3FQuf",
        "colab_type": "code",
        "colab": {}
      },
      "source": [
        "data_set=['omniglot.npz']\n",
        "[train_set, valid_set, test_set, hps_model, eval_hps_model, sample_hps_model] = load_env_compatible(data_dir, model_dir)"
      ],
      "execution_count": 0,
      "outputs": []
    },
    {
      "cell_type": "code",
      "metadata": {
        "id": "1pHS8TSgFQui",
        "colab_type": "code",
        "colab": {}
      },
      "source": [
        "# construct the sketch-rnn model here:\n",
        "reset_graph()\n",
        "model = Model(hps_model)\n",
        "eval_model = Model(eval_hps_model, reuse=True)\n",
        "sample_model = Model(sample_hps_model, reuse=True)"
      ],
      "execution_count": 0,
      "outputs": []
    },
    {
      "cell_type": "code",
      "metadata": {
        "id": "1gxYLPTQFQuk",
        "colab_type": "code",
        "colab": {}
      },
      "source": [
        "sess = tf.InteractiveSession()\n",
        "sess.run(tf.global_variables_initializer())"
      ],
      "execution_count": 0,
      "outputs": []
    },
    {
      "cell_type": "code",
      "metadata": {
        "id": "bVlDyfN_FQum",
        "colab_type": "code",
        "colab": {}
      },
      "source": [
        "# loads the weights from checkpoint into our model\n",
        "load_checkpoint(sess, model_dir)"
      ],
      "execution_count": 0,
      "outputs": []
    },
    {
      "cell_type": "markdown",
      "metadata": {
        "id": "EOblwpFeFQuq",
        "colab_type": "text"
      },
      "source": [
        "We define two convenience functions to encode a stroke into a latent vector, and decode from latent vector to stroke."
      ]
    },
    {
      "cell_type": "code",
      "metadata": {
        "id": "tMFlV487FQur",
        "colab_type": "code",
        "colab": {}
      },
      "source": [
        "def encode(input_strokes):\n",
        "  strokes = to_big_strokes(input_strokes).tolist()\n",
        "  strokes.insert(0, [0, 0, 1, 0, 0])\n",
        "  seq_len = [len(input_strokes)]\n",
        "  draw_strokes(to_normal_strokes(np.array(strokes)))\n",
        "  return sess.run(eval_model.batch_z, feed_dict={eval_model.input_data: [strokes], eval_model.sequence_lengths: seq_len})[0]"
      ],
      "execution_count": 0,
      "outputs": []
    },
    {
      "cell_type": "code",
      "metadata": {
        "id": "1D5CV7ZlFQut",
        "colab_type": "code",
        "colab": {}
      },
      "source": [
        "def decode(z_input=None, draw_mode=True, temperature=0.1, factor=0.2):\n",
        "  z = None\n",
        "  if z_input is not None:\n",
        "    z = [z_input]\n",
        "  sample_strokes, m = sample(sess, sample_model, seq_len=eval_model.hps.max_seq_len, temperature=temperature, z=z)\n",
        "  strokes = to_normal_strokes(sample_strokes)\n",
        "  if draw_mode:\n",
        "    draw_strokes(strokes, factor)\n",
        "  return strokes"
      ],
      "execution_count": 0,
      "outputs": []
    },
    {
      "cell_type": "code",
      "metadata": {
        "id": "fUOAvRQtFQuw",
        "colab_type": "code",
        "outputId": "429555b8-ae2d-46bf-8e63-5601918b8d9e",
        "colab": {
          "base_uri": "https://localhost:8080/",
          "height": 102
        }
      },
      "source": [
        "# get a sample drawing from the test set, and render it to .svg\n",
        "stroke = test_set.random_sample()\n",
        "draw_strokes(stroke)"
      ],
      "execution_count": 98,
      "outputs": [
        {
          "output_type": "display_data",
          "data": {
            "text/plain": [
              "<IPython.core.display.SVG object>"
            ],
            "image/svg+xml": "<svg baseProfile=\"full\" height=\"81.81314285844564\" version=\"1.1\" width=\"71.05281442403793\" xmlns=\"http://www.w3.org/2000/svg\" xmlns:ev=\"http://www.w3.org/2001/xml-events\" xmlns:xlink=\"http://www.w3.org/1999/xlink\"><defs/><rect fill=\"white\" height=\"81.81314285844564\" width=\"71.05281442403793\" x=\"0\" y=\"0\"/><path d=\"M25.46784032136202,40.90657163411379 m0.0,0.0 l-0.4678403213620186,-0.4678403213620186 0.4678403213620186,-6.0819244384765625 l-0.4678403213620186,-9.356806874275208 0.0,0.4678403213620186 l7.485445141792297,2.8070420026779175 3.7427225708961487,0.0 l0.0,0.4678403213620186 9.824646711349487,0.0 l0.0,-0.4678403213620186 -0.9356806427240372,0.0 m-10.292487144470215,-0.4678403213620186 l-0.4678403213620186,-0.4678403213620186 0.4678403213620186,11.696008443832397 l5.614084005355835,-0.4678403213620186 0.4678403213620186,-0.4678403213620186 l1.4035210013389587,0.4678403213620186 0.0,6.54976487159729 l-1.4035210013389587,1.8713612854480743 0.0,0.9356806427240372 l-1.8713612854480743,1.8713612854480743 -4.210563004016876,2.8070420026779175 l-0.4678403213620186,2.8070420026779175 0.9356806427240372,0.9356806427240372 l1.4035210013389587,0.0 0.0,0.4678403213620186 l3.274882435798645,0.0 1.8713612854480743,-1.8713612854480743 l0.4678403213620186,-1.4035210013389587 -0.9356806427240372,-2.8070420026779175 l-1.4035210013389587,-0.9356806427240372 -0.4678403213620186,0.0 l0.9356806427240372,0.9356806427240372 \" fill=\"none\" stroke=\"black\" stroke-width=\"1\"/></svg>"
          },
          "metadata": {
            "tags": []
          }
        }
      ]
    },
    {
      "cell_type": "markdown",
      "metadata": {
        "id": "j114Re2JFQuz",
        "colab_type": "text"
      },
      "source": [
        "Let's try to encode the sample stroke into latent vector $z$"
      ]
    },
    {
      "cell_type": "code",
      "metadata": {
        "id": "DBRjPBo-FQu0",
        "colab_type": "code",
        "outputId": "0665b40a-3283-42f6-c9e0-27b8f6c7dae0",
        "colab": {
          "base_uri": "https://localhost:8080/",
          "height": 102
        }
      },
      "source": [
        "z = encode(stroke)"
      ],
      "execution_count": 99,
      "outputs": [
        {
          "output_type": "display_data",
          "data": {
            "text/plain": [
              "<IPython.core.display.SVG object>"
            ],
            "image/svg+xml": "<svg baseProfile=\"full\" height=\"81.81314285844564\" version=\"1.1\" width=\"71.05281442403793\" xmlns=\"http://www.w3.org/2000/svg\" xmlns:ev=\"http://www.w3.org/2001/xml-events\" xmlns:xlink=\"http://www.w3.org/1999/xlink\"><defs/><rect fill=\"white\" height=\"81.81314285844564\" width=\"71.05281442403793\" x=\"0\" y=\"0\"/><path d=\"M25.46784032136202,40.90657163411379 m0.0,0.0 l0.0,0.0 -0.4678403213620186,-0.4678403213620186 l0.4678403213620186,-6.0819244384765625 -0.4678403213620186,-9.356806874275208 l0.0,0.4678403213620186 7.485445141792297,2.8070420026779175 l3.7427225708961487,0.0 0.0,0.4678403213620186 l9.824646711349487,0.0 0.0,-0.4678403213620186 l-0.9356806427240372,0.0 m-10.292487144470215,-0.4678403213620186 l-0.4678403213620186,-0.4678403213620186 0.4678403213620186,11.696008443832397 l5.614084005355835,-0.4678403213620186 0.4678403213620186,-0.4678403213620186 l1.4035210013389587,0.4678403213620186 0.0,6.54976487159729 l-1.4035210013389587,1.8713612854480743 0.0,0.9356806427240372 l-1.8713612854480743,1.8713612854480743 -4.210563004016876,2.8070420026779175 l-0.4678403213620186,2.8070420026779175 0.9356806427240372,0.9356806427240372 l1.4035210013389587,0.0 0.0,0.4678403213620186 l3.274882435798645,0.0 1.8713612854480743,-1.8713612854480743 l0.4678403213620186,-1.4035210013389587 -0.9356806427240372,-2.8070420026779175 l-1.4035210013389587,-0.9356806427240372 -0.4678403213620186,0.0 l0.9356806427240372,0.9356806427240372 \" fill=\"none\" stroke=\"black\" stroke-width=\"1\"/></svg>"
          },
          "metadata": {
            "tags": []
          }
        }
      ]
    },
    {
      "cell_type": "code",
      "metadata": {
        "id": "-37v6eZLFQu5",
        "colab_type": "code",
        "outputId": "7a5f0d39-a00b-4b1e-ab6e-d22c3f206b66",
        "colab": {
          "base_uri": "https://localhost:8080/",
          "height": 73
        }
      },
      "source": [
        "_ = decode(z, temperature=0.8) # convert z back to drawing at temperature of 0.8"
      ],
      "execution_count": 100,
      "outputs": [
        {
          "output_type": "display_data",
          "data": {
            "text/plain": [
              "<IPython.core.display.SVG object>"
            ],
            "image/svg+xml": "<svg baseProfile=\"full\" height=\"53.33225727081299\" version=\"1.1\" width=\"61.39581561088562\" xmlns=\"http://www.w3.org/2000/svg\" xmlns:ev=\"http://www.w3.org/2001/xml-events\" xmlns:xlink=\"http://www.w3.org/1999/xlink\"><defs/><rect fill=\"white\" height=\"53.33225727081299\" width=\"61.39581561088562\" x=\"0\" y=\"0\"/><path d=\"M36.39581561088562,28.33225727081299 m-11.39581561088562,-3.161872625350952 l8.364508152008057,1.3157439231872559 m-2.7498164772987366,-1.486128568649292 \" fill=\"none\" stroke=\"black\" stroke-width=\"1\"/></svg>"
          },
          "metadata": {
            "tags": []
          }
        }
      ]
    },
    {
      "cell_type": "markdown",
      "metadata": {
        "id": "M5ft6IEBFQu9",
        "colab_type": "text"
      },
      "source": [
        "Create generated grid at various temperatures from 0.1 to 1.0"
      ]
    },
    {
      "cell_type": "code",
      "metadata": {
        "id": "BuhaZI0aFQu9",
        "colab_type": "code",
        "outputId": "f7939f2e-411c-4261-f44c-6da2d10fc729",
        "colab": {
          "base_uri": "https://localhost:8080/",
          "height": 381
        }
      },
      "source": [
        "stroke_list = []\n",
        "for i in range(10):\n",
        "  stroke_list.append([decode(z, draw_mode=False, temperature=0.1*i+0.1), [0, i]])\n",
        "stroke_grid = make_grid_svg(stroke_list)\n",
        "draw_strokes(stroke_grid)"
      ],
      "execution_count": 108,
      "outputs": [
        {
          "output_type": "display_data",
          "data": {
            "text/plain": [
              "<IPython.core.display.SVG object>"
            ],
            "image/svg+xml": "<svg baseProfile=\"full\" height=\"359.9941057797696\" version=\"1.1\" width=\"909.2309987187036\" xmlns=\"http://www.w3.org/2000/svg\" xmlns:ev=\"http://www.w3.org/2001/xml-events\" xmlns:xlink=\"http://www.w3.org/1999/xlink\"><defs/><rect fill=\"white\" height=\"359.9941057797696\" width=\"909.2309987187036\" x=\"0\" y=\"0\"/><path d=\"M121.93403754528845,154.53598265034088 m0.0,0.0 m-84.16920082789147,-129.53598265034088 l2.7505621314048767,0.9221404790878296 2.7871641516685486,1.5689955651760101 m5.137194395065308,2.075616866350174 m-0.79232357442379,-0.4541393369436264 m-1.074531376361847,-0.5604122579097748 m2.650303840637207,2.7343809604644775 m-2.3372550308704376,-0.39518706500530243 m-0.5495070666074753,0.1495372224599123 m-2.8481221199035645,-0.10624504648149014 m-0.7637860625982285,-0.17692724242806435 m-0.3320296108722687,0.1958351768553257 m-0.6678993254899979,0.4420953616499901 m-1.8868426978588104,0.3287261351943016 m-2.2186635434627533,0.17280450090765953 m-3.1567105650901794,0.4556596651673317 m-2.064363658428192,0.5361462011933327 l-1.952320635318756,2.4138806760311127 -0.9995373338460922,3.650890290737152 m-0.7454459369182587,0.4185270518064499 m-1.3249744474887848,0.20017363131046295 m-1.6873171925544739,0.39972666651010513 l4.040284156799316,1.636788249015808 3.17250519990921,1.7762479186058044 l-1.207621619105339,3.7549084424972534 -1.1891423910856247,3.1048354506492615 m-0.28867071494460106,0.5328153818845749 m-2.3232045769691467,-0.10000023059546947 m0.37192102521657944,-0.16330482438206673 l-2.39083930850029,-0.5973746255040169 -0.8736628293991089,3.182862401008606 l3.4099942445755005,1.4030703902244568 3.949318528175354,1.8308550119400024 l3.3062544465065002,1.7754921317100525 2.1252159774303436,1.2913203239440918 m1.885589212179184,1.5731213986873627 l-2.5098684430122375,-0.041421703062951565 m2.7576908469200134,1.3291352987289429 l3.1365421414375305,1.4573894441127777 m-0.3823564946651459,-0.05186880473047495 l1.4559052884578705,1.545974612236023 2.0051294565200806,1.184527650475502 m-3.1218600273132324,1.9009047746658325 l-1.6672103106975555,-0.5857281759381294 m-0.3136570379137993,3.4962674975395203 m2.696451246738434,1.8056979775428772 m-0.343916118144989,1.6608573496341705 l3.822253942489624,1.2861664593219757 m4.726047217845917,1.6737395524978638 l4.982551634311676,1.2291832268238068 -1.2480545789003372,3.657267391681671 m2.728028893470764,1.292424499988556 l-0.9115599095821381,-0.4845677688717842 3.3553966879844666,1.2681755423545837 l-1.6231155395507812,3.138071894645691 2.441364973783493,2.49897763133049 m-1.6114738583564758,4.186594486236572 m1.62934809923172,1.8735319375991821 l2.6034805178642273,1.424688845872879 -2.422226667404175,-0.2865407429635525 l2.8739339113235474,1.279604583978653 m2.7229130268096924,1.4332671463489532 l2.5957682728767395,1.7582879960536957 2.314036190509796,2.0220832526683807 l3.5973796248435974,1.5579034388065338 -0.1310248300433159,-0.28072088956832886 l3.681989908218384,1.4890401065349579 m2.3832115530967712,1.9134531915187836 l0.6072073802351952,0.02780094975605607 m-2.3194751143455505,-0.44442519545555115 m-0.9317271411418915,-0.29836852103471756 l4.244239628314972,1.5517286956310272 4.5623862743377686,0.8735449612140656 l1.9182154536247253,1.5602564811706543 3.1773927807807922,1.5048711001873016 l3.0380207300186157,1.427113115787506 2.7226579189300537,1.2462270259857178 l2.871640622615814,1.4291951060295105 m3.3315640687942505,1.47884801030159 l5.05523681640625,1.2028678506612778 m2.4481232464313507,1.3318586349487305 l-0.4694082587957382,-0.30207227915525436 4.373774230480194,1.2351959943771362 l2.4705736339092255,1.4386630058288574 2.789457142353058,1.68614462018013 m0.6008531153202057,0.4703870043158531 m-2.0266157388687134,4.190724790096283 m-1.9446416199207306,-0.5751794949173927 m5.444425940513611,1.1782855540513992 m-1.449657529592514,0.3334524855017662 l2.954244911670685,0.9429407119750977 -1.6392464935779572,-1.1417463421821594 l2.1453821659088135,1.281518042087555 m2.223241925239563,1.2066924571990967 l-1.1978858709335327,-0.15485704876482487 m-1.349261999130249,3.2876864075660706 l4.87012654542923,1.2528549134731293 3.5669082403182983,1.019265577197075 l3.7795573472976685,0.9765054285526276 2.4101917445659637,1.3226516544818878 l5.537091493606567,1.2675704061985016 m-2.471163123846054,0.24972520768642426 m2.306755930185318,1.5738241374492645 l-0.09567742235958576,-0.10653735138475895 0.0700471643358469,-0.2480735443532467 l-2.0156756043434143,0.425405390560627 3.4724676609039307,1.1780158430337906 l3.5231590270996094,1.2191245704889297 3.6878377199172974,1.138887032866478 l2.8659504652023315,1.3032539188861847 3.3586084842681885,1.0533276200294495 l-2.451848089694977,3.7781119346618652 m0.05328558851033449,-1.573573350906372 l2.1982303261756897,0.5645113810896873 -2.109355479478836,-0.3348400816321373 l-2.3825404047966003,4.349236786365509 3.670414984226227,1.389869749546051 l-1.6007451713085175,4.54395055770874 m3.3223560452461243,1.459890902042389 l3.1714612245559692,0.8609707653522491 m3.3065983653068542,1.473308503627777 l-0.7136279344558716,3.472585082054138 m4.542478621006012,1.1259488761425018 m2.429306209087372,1.4544318616390228 l1.8112070858478546,1.4777502417564392 -1.880684643983841,3.93439382314682 l4.017274379730225,1.2588024139404297 -0.13080506585538387,0.17730345949530602 l4.464600086212158,1.112951636314392 m2.148846387863159,1.1235906928777695 l0.406460277736187,0.5608410760760307 2.0071151852607727,1.0135450214147568 m0.1357447262853384,-1.5618030726909637 l4.387529194355011,1.0633143782615662 4.701705873012543,1.2671616673469543 m-1.0169968754053116,0.2471667341887951 l-0.022697760723531246,0.07875325158238411 m-1.5338703989982605,3.6860916018486023 m-1.2482134997844696,3.553229868412018 m-1.581568866968155,-0.04406470339745283 l4.46816086769104,0.6650833785533905 m0.03075604559853673,0.38222111761569977 l0.4186713322997093,-0.4393501952290535 m1.1807247996330261,0.7083215564489365 l2.2756274044513702,2.968702018260956 m-2.5980040431022644,4.430780112743378 m3.2014915347099304,1.1996662616729736 l-0.35908039659261703,0.9080293029546738 m-1.1966350674629211,-0.07903174497187138 l-1.1109986901283264,-0.18225206062197685 -1.6108065843582153,-0.25014620274305344 m-0.035042520612478256,0.8603672683238983 l-2.540973722934723,4.130485653877258 m-2.2148744761943817,3.9103874564170837 m2.535005211830139,0.9831029176712036 l2.7287280559539795,0.9333695471286774 m2.60334312915802,1.494719684123993 l-2.46775284409523,0.016100670909509063 2.6662376523017883,1.0666384547948837 l5.114859938621521,1.298617422580719 m2.6473763585090637,0.8331282436847687 l-1.7712664604187012,3.605579137802124 -1.8545344471931458,0.03987608477473259 m-2.060401141643524,3.6158275604248047 l4.056230187416077,0.8020437508821487 2.73823082447052,1.3172796368598938 l3.1120330095291138,1.4353403449058533 m3.403039276599884,1.0829895734786987 l1.4855968952178955,1.081964522600174 -2.8468406200408936,3.9533981680870056 m-0.898919478058815,0.061200554482638836 m1.987520456314087,0.8966103941202164 l3.9366155862808228,1.1396045982837677 m0.4190996289253235,-0.6504958122968674 l5.201324224472046,0.9888652712106705 0.9435636550188065,0.20132999867200851 m-1.5606532990932465,4.026474952697754 l2.8865236043930054,1.2549245357513428 3.3423832058906555,1.282624751329422 l3.137022852897644,1.0169708728790283 m4.148103296756744,1.187683790922165 l1.9281169772148132,1.0402104258537292 m4.780385494232178,1.5281976759433746 m1.8683183193206787,1.3596855103969574 m-1.1481060832738876,0.0845034047961235 m-0.3981862962245941,1.120883822441101 l-0.14746583066880703,1.6065363585948944 0.28923438861966133,-0.24439746513962746 l4.528344571590424,0.8746255934238434 -2.312355637550354,3.794359266757965 m2.7788785099983215,1.1732836812734604 l-1.6693036258220673,4.409961104393005 3.0539584159851074,1.1802797764539719 m3.282332122325897,0.8971107751131058 l2.9579967260360718,1.5376733243465424 m-0.9019172936677933,0.22027669474482536 m3.271377682685852,0.6317824870347977 m2.7631115913391113,1.1072589457035065 m0.12620756402611732,0.7037073373794556 l2.734268009662628,1.174812912940979 -0.7494621723890305,3.7586259841918945 l2.6955682039260864,1.5386612713336945 m2.8483572602272034,1.255195289850235 m-2.373311072587967,-0.1552752312272787 m2.513197362422943,1.2255162745714188 l3.0995401740074158,0.9552644193172455 -1.6470588743686676,-0.033698712941259146 m-2.092936635017395,1.6322359442710876 m-0.008687280933372676,0.4356347396969795 l2.739345133304596,1.1797861009836197 m2.12615966796875,1.273416429758072 m-0.5050672963261604,0.41999541223049164 m-1.2516117095947266,3.764812648296356 l-1.9766910374164581,-0.006287395372055471 m-1.877019852399826,5.063488483428955 m-2.6801440119743347,4.257214069366455 l2.785886824131012,1.3082319498062134 m2.612360119819641,1.0349123924970627 l-0.10144182480871677,0.310276560485363 m2.000700682401657,1.1719554662704468 m2.756062150001526,0.9886101633310318 l-2.1231454610824585,5.223625302314758 2.3831476271152496,1.4405132830142975 l2.8707364201545715,1.1487485468387604 0.8819078654050827,-0.5912576988339424 m2.577432692050934,1.124749407172203 m-1.5000997483730316,0.9992218762636185 m2.0673099160194397,1.32069930434227 l-0.7801170647144318,0.0013460310583468527 -0.9289679676294327,0.27510201558470726 l-1.7661219835281372,4.257863163948059 4.47721928358078,1.0201268643140793 l2.5859004259109497,1.5679380297660828 m-0.809004157781601,3.6817410588264465 l-2.2300811111927032,4.698993563652039 m1.5781080722808838,0.889987125992775 l0.503842756152153,0.7400139421224594 3.28511506319046,0.8692145347595215 l3.2703617215156555,1.4193199574947357 m0.011817996855825186,-0.24272823706269264 l-0.3911725804209709,-3.138427436351776 m1.9894267618656158,1.3446030020713806 m0.1943952776491642,-0.4195546358823776 l0.29676707461476326,-0.9515867382287979 m-0.5179067328572273,-0.35232167690992355 l2.6983562111854553,1.5610229969024658 m4.5418548583984375,0.9084340929985046 l1.78087517619133,1.2493298202753067 -0.344708114862442,0.8194313943386078 l0.42128410190343857,1.2073443830013275 2.586202025413513,1.4474384486675262 m-55.75964275893057,-181.4032857890561 l3.2279416918754578,1.0359058529138565 5.575112700462341,1.6089600324630737 m1.4410455524921417,2.3193448781967163 m-2.0472948253154755,-1.0916770249605179 m-3.9697036147117615,-1.3816995918750763 m-3.5543429851531982,-0.6906728446483612 m-3.8681039214134216,-0.8515630662441254 m-1.6480635106563568,3.3474406599998474 m-3.6344024538993835,-0.10706349276006222 m-3.073839545249939,-2.5420936942100525 m-3.6697956919670105,-0.7387593388557434 m-1.9178080558776855,-0.23601964116096497 m1.8684680759906769,2.61368066072464 m7.51717746257782,3.2533177733421326 m-1.6665472090244293,0.5245416983962059 m-5.395727157592773,0.431661419570446 m3.876900374889374,1.8848367035388947 m-0.7714598625898361,1.253804862499237 l4.976404011249542,1.999768614768982 -1.993580013513565,0.1371482852846384 l6.438319087028503,1.348922848701477 m3.4097394347190857,2.018636167049408 m-1.7331093549728394,0.29576878994703293 l-4.699041545391083,0.9948936104774475 m-0.10923574678599834,3.594498634338379 m-1.662944257259369,0.04291272722184658 m2.6924264430999756,1.5977077186107635 m-1.203458532691002,3.4687185287475586 l1.2421448528766632,1.0780707746744156 1.0496339201927185,1.96854829788208 l-3.860492706298828,0.46267732977867126 4.863602817058563,2.6165831089019775 l-1.274792104959488,3.8498491048812866 -4.506096541881561,0.2202155999839306 l-1.8032275140285492,1.4937160909175873 m0.8560168743133545,-0.19622532650828362 l-0.08060989901423454,-0.7072655856609344 m0.6213229149580002,1.818871945142746 m5.716680884361267,1.4520621299743652 m0.11695588007569313,0.40711659938097 l-0.770198181271553,-0.1157092023640871 2.7055037021636963,0.5159419029951096 l-0.1949916034936905,1.9793908298015594 m-0.699344202876091,-2.0988163352012634 l-0.7681526988744736,-0.34706752747297287 1.4950492978096008,-0.9965996444225311 m-0.4871731624007225,2.9071956872940063 l-2.0259343087673187,0.002750895218923688 m1.540776938199997,1.9812865555286407 l-0.5576632544398308,2.948070466518402 1.8126463890075684,2.6914432644844055 l-1.4572075009346008,-2.7770647406578064 3.945706784725189,1.855817288160324 m3.4670424461364746,0.5312712118029594 m-1.5860021114349365,0.05592975299805403 l0.5919300019741058,2.444961965084076 -0.033478084951639175,1.114090085029602 m0.5196035280823708,-0.5269602686166763 l-2.8660017251968384,-0.7654449343681335 m50.14041975256987,-116.27481146773789 l10.629357099533081,0.31768113374710083 -2.4237681925296783,5.798479318618774 m1.5124282240867615,1.2812553346157074 m0.6776751577854156,4.573979675769806 m6.211699843406677,3.298354744911194 m2.3117491602897644,2.1145829558372498 m-5.267000198364258,1.067340299487114 m2.9877102375030518,3.228420615196228 m-2.632521390914917,1.9694125652313232 m5.134137272834778,1.486891359090805 m3.262951076030731,1.1910494416952133 m-1.4734669029712677,1.1055317521095276 l-4.56404447555542,5.573095679283142 -1.211518943309784,1.2934336066246033 m-2.4715448915958405,-0.14085964299738407 l2.7666056156158447,1.9621619582176208 m-4.4245463609695435,0.36916904151439667 l-3.8776955008506775,-0.8689083158969879 -1.518051028251648,-1.4003686606884003 m-2.2539664804935455,1.275506466627121 m-0.5450721085071564,-1.0029875487089157 m2.039397805929184,3.387669026851654 m0.5389193445444107,1.009155511856079 l0.6220705062150955,1.091812327504158 m-4.891943633556366,1.3724544644355774 l-0.6283785402774811,0.7150694727897644 0.386090911924839,1.1514294892549515 l-0.2739635109901428,1.2298698723316193 -0.3488070145249367,-0.04650089889764786 m-3.315744996070862,0.9473968297243118 l-0.8369705826044083,1.7407946288585663 2.613808512687683,2.6880496740341187 l-5.002719759941101,-0.19203552976250648 0.44347718358039856,-0.6548292189836502 l-2.688661515712738,-3.990970551967621 -0.8688943088054657,1.253657341003418 m-1.9774425029754639,3.514343500137329 m1.4953868091106415,0.9331490844488144 m0.3098806366324425,0.33389490097761154 l-0.05571739748120308,3.5837435722351074 -0.93023382127285,3.3037719130516052 l-1.2564915418624878,-3.6142146587371826 m-1.412413865327835,1.3964840769767761 m5.753722786903381,0.8258983492851257 l0.36167584359645844,2.8957024216651917 1.5976582467556,1.8049649894237518 l2.9028135538101196,2.4355925619602203 0.7583213597536087,-0.5459479242563248 l0.9941717982292175,2.183030992746353 m-0.15025388449430466,4.6643707156181335 l2.110224664211273,2.20707967877388 m3.1219470500946045,1.1304783821105957 m-1.599256694316864,0.15718180686235428 l-1.8953490257263184,2.514234781265259 -0.8205825090408325,-1.050422266125679 l-1.1258017271757126,-3.0146607756614685 -0.9907805174589157,2.561666965484619 l2.4295029044151306,1.1477098613977432 5.387179851531982,0.42553991079330444 l1.6850489377975464,4.684232473373413 3.854759633541107,3.078118860721588 l-1.592673510313034,2.3148615658283234 m-0.1393365953117609,-0.0541378278285265 m-1.0033129900693893,-2.963084578514099 l4.060436487197876,1.6706356406211853 0.3161409869790077,3.7194883823394775 m4.220623970031738,3.457525372505188 l2.0288769900798798,3.628808557987213 -1.453322023153305,0.19022388383746147 l-0.4281517118215561,1.1125528067350388 -1.8898555636405945,1.5097807347774506 l0.7930634170770645,-1.3085216283798218 0.11341352015733719,-2.795843482017517 m0.4060825705528259,3.0739080905914307 m0.5225099250674248,-1.6352219879627228 m-0.3325745090842247,0.5344622954726219 m1.3391134142875671,-0.6073061376810074 l-0.862656980752945,2.5804993510246277 4.963454008102417,0.8545859903097153 m-1.3025140762329102,-1.993035227060318 m0.21941404789686203,2.328677922487259 l-1.6474448144435883,-0.7910092175006866 -1.533864289522171,-1.9364559650421143 m-0.183147881180048,0.5162313207983971 m0.08717012591660023,0.21059518679976463 m0.022594404872506857,0.5289094150066376 m-1.8487556278705597,-0.5717321112751961 l2.352457493543625,1.480230987071991 -2.3293277621269226,-4.389247000217438 m1.74070343375206,-0.6851634383201599 m-1.729164868593216,-0.3149257227778435 l-1.1127179861068726,0.61366006731987 2.9020142555236816,2.4114273488521576 l-1.7556032538414001,-0.4150094836950302 0.4557633772492409,0.06517432164400816 l5.45626163482666,-0.2702004089951515 m4.410063624382019,-2.1991772949695587 m-4.005441069602966,3.27908456325531 l3.563242256641388,0.6925485283136368 -1.1962761729955673,1.7537695169448853 l-2.6566898822784424,-0.41371066123247147 1.2314768880605698,-0.5273047089576721 m2.062405049800873,2.471770793199539 l-2.6214900612831116,3.9457306265830994 1.4790451526641846,0.06895268801599741 m4.369579255580902,0.30257338657975197 l3.0739012360572815,-1.021198108792305 m1.0078977793455124,1.8545657396316528 m-2.16200590133667,-5.35832941532135 l3.3337202668190002,-0.7555706053972244 5.072484016418457,1.1599098891019821 m0.6118669733405113,1.2034210562705994 l0.5569371953606606,2.137937843799591 -1.9959977269172668,-0.3159268945455551 l3.0382201075553894,1.0003548860549927 0.6088313460350037,-0.9250281006097794 l-0.5373332649469376,-5.189563035964966 -1.0671531409025192,5.682483911514282 m-1.2757296860218048,2.9484325647354126 l-0.37848059087991714,0.1748327538371086 -0.9140297770500183,1.6316962242126465 m3.4530404210090637,1.4079825580120087 l0.3592531383037567,-1.018596813082695 -0.7297854870557785,-2.425926774740219 m1.18938148021698,-0.2560512535274029 l4.410970509052277,0.6045243144035339 -1.2911365926265717,-2.050412595272064 l2.537427842617035,-0.8708816021680832 4.239979684352875,1.2869934737682343 l0.28042376041412354,1.947983205318451 m4.225705862045288,-1.7513161897659302 m-4.972929358482361,-0.2938593178987503 m0.601237528026104,-1.8498888611793518 m3.4537965059280396,0.32758649438619614 l-0.45727215707302094,-2.880913019180298 -0.1841331087052822,2.0363788306713104 l-2.466992139816284,-1.1619222909212112 -0.47233715653419495,5.431914329528809 m-0.1893203891813755,-1.1821646988391876 m-1.6449283063411713,4.319657385349274 l-2.18837171792984,-3.523288667201996 0.2833021990954876,4.1714441776275635 m-0.19250493496656418,0.48069242388010025 l-0.01020896015688777,2.351122200489044 m-0.9421290457248688,2.203606218099594 l1.3170702755451202,-1.5206937491893768 -2.260417342185974,1.516730636358261 l3.7351194024086,2.9365351796150208 -0.8440513163805008,-0.4806782305240631 l-5.0898706912994385,4.743069708347321 0.34431736916303635,-1.7822670936584473 l-3.9455193281173706,0.08136260323226452 m-1.547650545835495,0.5540208145976067 m1.0381323844194412,0.64520463347435 l-0.5807757750153542,2.8829005360603333 2.019311636686325,1.5247954428195953 l-3.161701261997223,-1.6044607758522034 -3.3295902609825134,5.2006542682647705 m-1.1616209894418716,-0.8627524226903915 l-0.21350430324673653,-5.282256007194519 10.00343918800354,1.526850163936615 l0.5146699026226997,-0.6113294139504433 -1.1993660777807236,-3.1921687722206116 l0.53983423858881,-1.709054559469223 2.690630555152893,1.1316130310297012 m-1.0407235473394394,-1.4394482970237732 m-0.01999846426770091,0.9619928896427155 m0.047196848317980766,0.15642838552594185 m-2.1708783507347107,-0.2869368717074394 l-6.67156457901001,-0.06841255817562342 m6.3507080078125,0.3004352003335953 m2.6868101954460144,0.8154375851154327 m1.1384297162294388,1.3639694452285767 m-0.660240650177002,0.8619625121355057 l-1.4427842199802399,0.15983641147613525 m2.281874418258667,2.382827252149582 l8.3027845621109,1.3836842775344849 -3.9376074075698853,-4.82633113861084 l-0.8769641816616058,1.187436655163765 m2.294713258743286,0.9179522842168808 l-2.1418027579784393,-1.0805319994688034 1.6528289020061493,-1.0533414781093597 l4.4482311606407166,1.788736879825592 2.8361129760742188,-0.7869762182235718 l-0.1750737987458706,0.7798166573047638 3.0013778805732727,0.814707949757576 l-2.472020387649536,2.036314308643341 3.7646234035491943,1.7862465977668762 m0.2821245416998863,5.366258025169373 m-1.5373624861240387,3.416759967803955 l-0.7671158015727997,0.9768233448266983 2.6341253519058228,-1.124301552772522 m0.5751543864607811,4.807258248329163 l-0.4183594882488251,2.932213842868805 m3.778858482837677,2.587147355079651 l-4.726836979389191,1.1890769004821777 -2.7244186401367188,2.6494577527046204 m1.6599290072917938,-0.8993976563215256 l-0.7777807861566544,-3.062329888343811 m0.0646170461550355,-3.338709771633148 l1.1742442101240158,-0.15486433170735836 -1.5718872845172882,-2.7878740429878235 l4.651920795440674,0.33642299473285675 m0.5502570793032646,-0.2681251987814903 l2.462392896413803,-3.406651020050049 2.097688615322113,2.628794312477112 l-2.254229336977005,0.35409823060035706 m-2.1883006393909454,-1.49399533867836 l-1.8047472834587097,0.5848309770226479 -1.0269565880298615,-4.542204439640045 l-3.596043586730957,6.3196200132369995 m-0.9229280054569244,2.6057764887809753 m4.761737287044525,1.1752531677484512 l-2.374175488948822,-1.6984133422374725 m1.0828760266304016,1.1331620812416077 m-0.3076898492872715,-0.22270295768976212 l-1.6818015277385712,2.4991896748542786 4.153865873813629,2.136749029159546 l3.6817923188209534,0.2311079390347004 2.0024245977401733,2.1064437925815582 l-0.5393913388252258,-0.8086095750331879 -2.26884588599205,0.7644896954298019 l-0.3818726912140846,-0.8126474171876907 -0.5769797042012215,1.7898836731910706 m1.5466465055942535,-0.8895799517631531 m3.689422905445099,1.5309695899486542 m5.487618446350098,1.3225151598453522 m-3.4140995144844055,-0.36713242530822754 m-1.3788080215454102,-0.19588839262723923 l-2.9018187522888184,-0.843784362077713 -2.2378332912921906,-2.4718283116817474 l-0.4601965472102165,1.6289128363132477 m-0.45916054397821426,3.022550046443939 l-2.3397324979305267,1.5537303686141968 -0.5258528143167496,3.2605531811714172 m2.427871972322464,2.0291154086589813 m-2.0009171962738037,-1.1382199078798294 l-1.001347154378891,0.2079264260828495 m-2.760396897792816,6.04470431804657 m-1.0418110340833664,2.8903669118881226 m-0.282345712184906,1.0241784155368805 l6.008890867233276,2.765648663043976 m-1.1754874140024185,-1.2243739515542984 m-3.696240782737732,-0.4173870384693146 l-5.902296304702759,1.3254964351654053 3.5694587230682373,2.7180933952331543 l-0.3836912661790848,0.6570727378129959 -2.684916853904724,1.6224490106105804 l5.668944716453552,-0.0873673614114523 -2.392750382423401,0.2393232099711895 m43.691855418728665,-90.5400261678733 l-5.029509663581848,1.0788972675800323 m92.31727950274944,-2.290640100836754 l-3.0311620235443115,-1.0878133028745651 m-3.0429741740226746,-0.1700904220342636 m-0.6471920758485794,-1.3688097894191742 m4.985606074333191,3.264067769050598 m-6.323904991149902,2.2372183203697205 l2.5339335203170776,-2.372881919145584 m-1.1929763853549957,1.5379036962985992 m-2.2343988716602325,-3.9820656180381775 l-6.366727948188782,1.6447362303733826 -3.582344651222229,-0.06095451768487692 m53.06126778945327,-84.83111596637173 l7.4290019273757935,0.1376904919743538 -1.8836802244186401,-1.4196273684501648 l7.22845733165741,1.5064334869384766 m0.2604370564222336,-0.4647288843989372 m12.02695608139038,3.8663136959075928 m4.256574511528015,-1.0946579277515411 l4.05164897441864,5.455365777015686 m-5.647771954536438,-1.0012448579072952 m-6.780441403388977,-0.9902054816484451 m10.695028305053711,3.036394417285919 l4.793575406074524,0.3210015222430229 m-3.050539195537567,-4.2408111691474915 m6.150918006896973,4.919569492340088 m-0.9149304032325745,-0.3732210025191307 l-4.128091633319855,1.468062549829483 m10.906707048416138,4.2105841636657715 m3.8084006309509277,3.1513530015945435 l0.24265671148896217,-1.0298356413841248 12.743059396743774,1.3736039400100708 l-1.8846529722213745,2.611282765865326 2.6193758845329285,3.180353343486786 m5.978636741638184,5.484715700149536 m-1.7377036809921265,3.3428674936294556 m-1.5388445556163788,5.272915363311768 m0.4992923140525818,-2.1368616819381714 m-3.3548659086227417,5.774129033088684 m-6.848157048225403,-1.545368880033493 m1.1117421835660934,-0.6705670803785324 l-1.2776011228561401,0.68126380443573 m1.1247676610946655,5.874139070510864 l-2.955509126186371,-6.747953295707703 -3.2750916481018066,-0.9872789680957794 l1.1769513040781021,7.2750794887542725 -3.854513168334961,-0.7935365289449692 l2.666507363319397,-3.0836760997772217 -8.710010051727295,0.12385041452944279 l-1.5112443268299103,-4.362300932407379 m-0.2933226712048054,0.007152828038670123 m3.296259641647339,-0.055295792408287525 l5.061912536621094,-2.107248306274414 -6.251331567764282,-0.6333296746015549 m-3.9756929874420166,3.177766799926758 m3.8768979907035828,1.902867704629898 m-3.921496272087097,4.268024265766144 l10.17696499824524,3.069218397140503 2.387361377477646,-1.1630547791719437 m-3.7143686413764954,0.5138091742992401 m1.4012591540813446,2.8820928931236267 m5.483942627906799,0.8785611391067505 l-4.487587213516235,-10.764304399490356 1.7898350954055786,3.3372095227241516 m-4.638615548610687,-0.3317369520664215 l-3.3894309401512146,1.7997463047504425 3.104676902294159,-1.7581062018871307 l7.6614826917648315,-0.849703848361969 -1.2475236505270004,2.1220985054969788 l-2.1323373913764954,0.058549148961901665 m1.2678463757038116,1.9138319790363312 m-2.257520705461502,1.0870131105184555 m1.6237255930900574,0.4835905134677887 l7.150213718414307,3.3834651112556458 -3.3034247159957886,3.4465572237968445 m2.0539937913417816,2.1484270691871643 l2.872927486896515,-0.25848736986517906 6.139476299285889,-0.8290930837392807 l-1.4983949065208435,-0.629667118191719 4.949997961521149,1.5961357951164246 m-5.002524256706238,1.5811704099178314 l-4.475726783275604,0.36837924271821976 m2.432100474834442,0.388859398663044 m2.0763294398784637,2.5043103098869324 m-1.1408333480358124,1.9750013947486877 l8.308599591255188,-9.63054358959198 -2.5559216737747192,2.803926467895508 m1.5634790062904358,1.3529381155967712 m5.690232515335083,6.075670123100281 l0.5152669921517372,-4.406082332134247 m5.191107392311096,5.156559348106384 l0.732552781701088,-5.84027886390686 m-1.5566332638263702,-0.49126505851745605 m-7.641273140907288,-0.7939106971025467 m4.8226043581962585,-2.978314757347107 l-3.887350857257843,4.3113791942596436 m-2.3241472244262695,-1.42357736825943 m1.8491937220096588,-1.6907146573066711 l0.6623373925685883,-4.007250070571899 3.504217267036438,1.114707812666893 l8.050506114959717,-4.5903706550598145 m-2.4678705632686615,-0.1854221150279045 l-0.7892022281885147,1.9564466178417206 m1.2172869592905045,-5.54106593132019 m-2.768823802471161,6.137877106666565 m3.0630844831466675,-1.866091936826706 l-12.910053730010986,-3.3201581239700317 -8.491095900535583,0.2522384747862816 l-0.9301501512527466,2.114846855401993 -6.744585633277893,-0.467255637049675 m-0.18922947347164154,-4.718774259090424 l-1.8887369334697723,3.872941732406616 m-3.034040629863739,-4.641546607017517 l3.774343430995941,-1.088559478521347 m6.912869215011597,-0.5144990235567093 m-6.955406665802002,1.213606595993042 m-1.9196397066116333,1.5329337120056152 l-12.748168706893921,13.698163032531738 m-9.093282222747803,5.201404690742493 l-1.8045498430728912,-0.3352639451622963 0.07579109165817499,3.212388753890991 m13.350859880447388,2.3886145651340485 m-2.149115651845932,1.0663899779319763 l-1.5386715531349182,-5.732666254043579 m-3.4339922666549683,-2.5272712111473083 m-0.9835582226514816,5.72476863861084 l1.5255509316921234,0.0768828485161066 -1.848941147327423,1.3237251341342926 l-2.609741687774658,1.9814766943454742 -7.149477005004883,3.57202410697937 l-2.2612135112285614,-1.405642181634903 4.9525392055511475,3.1368935108184814 l2.439747452735901,-5.194905996322632 m2.908632457256317,1.5957696735858917 l-0.5371296405792236,2.573414146900177 m-0.557001419365406,-4.006969630718231 m9.60245430469513,0.23437928408384323 m-0.7559193670749664,-1.2960724532604218 l4.273521602153778,2.903919816017151 m1.7259950935840607,0.4808381572365761 m0.49023471772670746,-1.59672811627388 l2.2795218229293823,1.9733431935310364 0.02757095266133547,1.600915789604187 l-0.3522038832306862,-3.1557348370552063 m3.4425607323646545,-1.4614878594875336 l-3.8133618235588074,0.9662315994501114 -5.210617184638977,3.6146047711372375 m-2.337924540042877,2.7168136835098267 l-6.910333037376404,2.090557962656021 m-1.2142281979322433,2.4503828585147858 l3.935272693634033,4.209522604942322 9.404602646827698,2.203666716814041 l2.1837592124938965,6.501224040985107 m7.15650737285614,-0.14996737241744995 l-1.4770421385765076,3.4070199728012085 m-1.388171911239624,-3.146466910839081 l10.606446266174316,-0.811484232544899 -5.3362250328063965,0.9509693831205368 l4.474380612373352,1.0392830520868301 m0.12193777598440647,-5.757107138633728 m0.10948935523629189,1.8575166165828705 l-8.790311217308044,-7.219568490982056 2.643521726131439,2.273375242948532 m-1.3170228898525238,2.567715644836426 l0.13200193643569946,-2.134648859500885 -3.1436094641685486,-3.649095594882965 m-7.22629189491272,-0.006878994172438979 m-1.592704951763153,2.0909641683101654 l-4.96491402387619,-8.574193120002747 m10.098168849945068,2.0057393610477448 l-2.360169142484665,2.432703673839569 m1.9036440551280975,-0.6697011739015579 m-0.6367628276348114,5.302533507347107 m1.7178118228912354,3.7174993753433228 l5.971276760101318,-1.9409336149692535 -0.4182424768805504,1.704469621181488 m3.9921870827674866,-4.632672667503357 m-0.3227793052792549,-4.100921154022217 l-1.6312776505947113,-1.7188803851604462 -8.708833456039429,3.5538095235824585 l0.9036872535943985,0.4816385358572006 -2.0964309573173523,-0.8412715047597885 l-0.809711292386055,4.876658916473389 m2.7372202277183533,-3.16281795501709 l-3.250824511051178,2.448279708623886 -3.3676478266716003,5.809214115142822 l-5.162257552146912,2.2774702310562134 0.4346327856183052,5.192655920982361 m2.938360273838043,2.044137716293335 l1.0138696432113647,2.091991603374481 m-1.1133240908384323,6.738641262054443 m0.2506277523934841,-2.4487480521202087 m2.2912198305130005,0.9629148989915848 l-2.675429582595825,-2.9218220710754395 m-0.6544848531484604,0.440082848072052 l3.5671424865722656,7.018263339996338 1.8495187163352966,-1.8944023549556732 l2.6864641904830933,-8.17190706729889 m-1.088160127401352,-4.798460602760315 m7.184918522834778,4.468560814857483 l6.325923800468445,-1.0324569791555405 m0.44000890105962753,3.8477125763893127 m-2.7322903275489807,7.220055460929871 l-2.917667031288147,1.894499510526657 m10.665132999420166,1.1467686295509338 m-0.27823980897665024,3.734850287437439 l-2.290789783000946,1.7788216471672058 m-1.1239590495824814,-1.2245524674654007 m-2.338068187236786,0.1862594671547413 l2.7784231305122375,-1.101156696677208 m-0.6193089857697487,-2.5881877541542053 m-3.508799970149994,6.885098814964294 m1.8587777018547058,-0.27935532853007317 m-1.3952429592609406,-0.28982726857066154 l1.6873365640640259,3.276427984237671 -1.0336457192897797,-1.886938363313675 l-6.64409339427948,-4.259167015552521 m-0.29798008501529694,1.1833740025758743 l-0.6096722185611725,3.6470451951026917 m7.39984393119812,4.5502230525016785 m0.7855530083179474,1.1121923476457596 l5.364406108856201,13.046705722808838 -2.4978724122047424,-1.3101309537887573 l-3.03591251373291,0.8029105514287949 0.037031963001936674,-1.3479937613010406 m-3.6606648564338684,0.18527338281273842 m-2.8482338786125183,-0.8570204675197601 l3.244549036026001,2.162456512451172 -0.7285798341035843,-0.2237253077328205 l-6.477301120758057,2.8991129994392395 8.838790655136108,0.8005090057849884 l-2.182605266571045,1.3358867168426514 m-0.8514758944511414,-1.775566190481186 m4.138613045215607,3.331696391105652 l-3.208051919937134,5.171938538551331 0.5098184198141098,-2.358459234237671 m2.8997933864593506,2.6812049746513367 l-2.147238552570343,-0.6991563737392426 5.575724244117737,5.070221424102783 l2.403290569782257,-1.983679085969925 m2.3755526542663574,-0.5304244160652161 m-4.3537843227386475,-3.2944712042808533 l-3.3556652069091797,1.8194182217121124 m0.7180352509021759,1.3446956872940063 m4.932908415794373,5.309031009674072 l-3.584102988243103,2.1437428891658783 0.15249203890562057,1.920776218175888 l5.422506928443909,3.5797667503356934 m7.130169868469238,-3.7416985630989075 l-3.179534077644348,0.02878235885873437 8.495507836341858,2.8124287724494934 m-1.658254861831665,0.07372531574219465 l-7.0939040184021,-1.0549081861972809 -1.7269189655780792,1.9953542947769165 m3.6900123953819275,-0.8756495267152786 m-1.9499053061008453,0.5454304814338684 m2.11368665099144,1.2044236809015274 l6.1340296268463135,3.2190904021263123 -3.8547903299331665,-6.44784688949585 m0.017280493630096316,-7.474697828292847 m-5.069530606269836,2.287583649158478 m3.7731125950813293,-2.709585130214691 m-2.422095090150833,-0.4675726965069771 m115.69787285086932,-127.94019804801792 l7.62234628200531,0.11234129779040813 4.194521009922028,-4.045995771884918 m-4.436991810798645,-0.36657895892858505 m2.5243496894836426,1.9813506305217743 m5.635576248168945,-3.5865581035614014 l-8.858669400215149,-0.15445237047970295 m-2.7188193798065186,-3.4018146991729736 m-0.34219972789287567,-6.461338400840759 m12.373697757720947,2.3856423795223236 m-1.8135665357112885,3.320913314819336 l0.5345703661441803,3.145926296710968 m1.0338006168603897,-8.488916754722595 m5.1594579219818115,-0.6928056478500366 l-4.720277190208435,7.611765265464783 -4.123083055019379,-2.953401207923889 m-5.67751944065094,19.46130871772766 l3.996419906616211,2.9189980030059814 6.457598805427551,2.0060235261917114 l-9.150735139846802,4.5928749442100525 -0.006698428769595921,3.1277674436569214 m-12.03460693359375,1.677795648574829 m2.1974311769008636,3.8207533955574036 l1.5586237609386444,2.1751514077186584 m4.025265574455261,5.075960159301758 l-9.906564354896545,-2.0842520892620087 -10.289325714111328,-0.18361015245318413 m4.393484890460968,-6.8080079555511475 m-4.974924325942993,2.0820368826389313 l-4.214527904987335,0.3692789748311043 m0.81867516040802,5.120208263397217 m-7.3759764432907104,3.093133866786957 m-2.754601538181305,4.117635190486908 l4.3144723773002625,4.624515473842621 -2.3571285605430603,-1.484946608543396 l-9.75567877292633,-18.25230121612549 3.608400821685791,-0.8487007766962051 m4.110151827335358,-2.5206926465034485 l-0.9891139715909958,4.9383679032325745 -2.937556505203247,-0.5222881585359573 m3.6193907260894775,1.1715997755527496 m1.1549974232912064,4.462683200836182 l4.035227596759796,2.368430197238922 m0.6611435115337372,-8.770302534103394 l2.9457592964172363,1.4291875064373016 5.3410804271698,2.580016255378723 l-6.050456166267395,1.5452106297016144 0.34620605409145355,2.4151191115379333 m-1.7678843438625336,3.805958330631256 l1.905752718448639,12.101686000823975 -1.6447679698467255,-2.5693023204803467 l-3.749663233757019,3.967442512512207 m-12.683416604995728,0.11801139451563358 l4.421207308769226,-5.25762140750885 m-5.160251259803772,5.237264633178711 l3.638738691806793,12.091643810272217 m4.421466588973999,2.7470380067825317 l12.144942283630371,8.865948915481567 m-6.270603537559509,4.484110772609711 m1.2351994961500168,6.317272186279297 l6.563071012496948,4.921044409275055 -1.3299836218357086,3.429102599620819 l-9.507023692131042,-12.36687421798706 -1.3076426088809967,-0.7742180675268173 l3.5096320509910583,-1.1438702046871185 3.5156595706939697,1.2461420893669128 m-2.871730923652649,4.634360074996948 m11.45180344581604,1.0861266404390335 l-2.5664478540420532,2.884748876094818 -4.671898186206818,0.9450637549161911 l-4.131357669830322,4.2610713839530945 m-1.2428691983222961,6.250692009925842 m-0.6722144037485123,-1.4843389391899109 l2.025584727525711,-5.808495283126831 m-2.7279555797576904,0.5769838392734528 l2.565446197986603,4.00059312582016 1.8781690299510956,-2.0820389688014984 m-1.2152456492185593,-2.611883282661438 l-1.8046894669532776,-2.616417109966278 m2.46903195977211,-3.0470654368400574 l5.54587185382843,-3.82276713848114 -1.9912408292293549,-2.4982991814613342 m-17.402395009994507,-0.9158238768577576 l1.503676325082779,3.871757984161377 -5.855867862701416,3.5900112986564636 l1.6757291555404663,1.0070306807756424 -1.9401980936527252,-1.7692707479000092 l-7.36633837223053,1.1017593741416931 5.462852120399475,-3.6186712980270386 m5.444352030754089,-1.630517840385437 m1.1193334311246872,0.6774806976318359 m-3.404955565929413,0.6560588628053665 m0.13602996245026588,-2.077164798974991 l-0.7134533673524857,0.03534364979714155 -4.595378637313843,1.3513492047786713 l1.5825363993644714,2.379329800605774 4.318794906139374,1.2589411437511444 l4.799662232398987,-0.09629572741687298 1.754443198442459,1.2285356223583221 l2.237531393766403,-0.3261665627360344 0.8832927048206329,-3.158647119998932 m2.9671481251716614,3.2001501321792603 m-4.418242573738098,2.9237383604049683 l0.8074453473091125,-0.447247214615345 m-0.9765202552080154,0.09627828374505043 l4.97819721698761,2.123085707426071 m-6.496684551239014,7.091582417488098 m-11.379557847976685,-4.819781184196472 m-0.28622977435588837,9.570464491844177 m-8.760879039764404,5.339419841766357 m0.3866467624902725,-0.10077707469463348 l5.072082877159119,-0.4472417011857033 5.229378938674927,-0.12383333407342434 m-1.70967698097229,-9.487117528915405 l0.6226154416799545,-5.120565295219421 m0.023986059240996838,2.358873039484024 l-3.9984241127967834,1.2588344514369965 m0.18946802243590355,8.096651434898376 l-1.1709466576576233,-2.4617810547351837 -3.5800182819366455,-3.312767744064331 m1.5002191066741943,-2.544451057910919 l-1.1252512037754059,1.9474446773529053 -0.7522843778133392,3.2698681950569153 l-0.968782901763916,6.23629629611969 m6.228736639022827,-0.26278818026185036 m6.417689919471741,1.7091205716133118 l-1.139974296092987,-1.3058066368103027 -2.278658300638199,-1.479317992925644 l0.8195773512125015,-0.7043175399303436 m-7.260639667510986,3.964550197124481 l-7.101419568061829,-1.1030983924865723 m5.847081542015076,2.4875253438949585 l-2.1840110421180725,-4.59602952003479 3.275771141052246,0.14338823035359383 l-3.945932388305664,3.0214735865592957 3.473244309425354,-2.4555036425590515 m0.17891010269522667,0.8724804222583771 m-0.5210170894861221,-0.5165350064635277 l3.2761597633361816,-1.6386619210243225 m-4.260380566120148,0.5562348663806915 l-3.0853748321533203,-0.5423102900385857 m-4.314988553524017,-0.48473671078681946 l-3.5650616884231567,0.38783133029937744 m-0.5963467061519623,-1.5272796154022217 l-1.9039416313171387,1.5586325526237488 m-1.7413690686225891,-0.10170891880989075 m4.096097648143768,3.2911384105682373 l-0.27796877548098564,-1.6860359907150269 m-6.674221158027649,-2.2291848063468933 l-3.958345353603363,-0.32995183020830154 m-10.282543897628784,2.395637333393097 m15.99419355392456,0.10625362396240234 l-0.7216159999370575,-9.07717227935791 m-0.9580692648887634,-1.6261056065559387 m-1.1221316456794739,1.744752675294876 m-3.565807342529297,3.5321927070617676 l-2.204902321100235,-5.016786456108093 m-4.695872366428375,-8.022460341453552 l6.2519919872283936,-0.13499015010893345 1.5943844616413116,-1.7699845135211945 l5.817999839782715,3.5915806889533997 -4.333410561084747,-0.6314308196306229 l4.077619910240173,4.698094129562378 m1.2308324128389359,-1.5890146791934967 l0.42690735310316086,-1.6124999523162842 -0.8254744112491608,1.805969625711441 m-10.692235231399536,-1.2845082581043243 l-5.855101943016052,2.902231216430664 2.4053551256656647,3.389730751514435 l-2.50828355550766,-1.2396488338708878 -2.35551118850708,-14.782663583755493 l-2.3634617030620575,-1.868596076965332 m2.0254406332969666,-0.9694139659404755 l1.2266778200864792,-4.877648651599884 -4.542289674282074,-4.286905527114868 l-2.7496063709259033,-0.5558980256319046 -4.774008393287659,-0.31255461275577545 m-0.16525620594620705,-2.7746644616127014 l-5.033475160598755,-0.05290232598781586 m-8.536931276321411,-0.5939503386616707 l-2.592720687389374,-0.0990111194550991 1.6747885942459106,-0.03422014648094773 m1.8565745651721954,1.1860261857509613 l1.7165248095989227,3.6649900674819946 m-0.8716069161891937,0.9487277269363403 l-1.5876387059688568,-4.788014888763428 m-2.100292891263962,4.054516553878784 m1.3173438608646393,-3.4746816754341125 l-1.8711821734905243,11.497272253036499 m-14.992412328720093,1.803944706916809 l4.146623611450195,1.6356875002384186 -8.411334156990051,-0.21444205194711685 m-4.600510001182556,7.414149045944214 m-0.33048540353775024,-2.6326704025268555 l1.308864802122116,-10.999162197113037 6.104633808135986,-2.484685331583023 m-2.7134713530540466,4.299886226654053 m3.3804401755332947,7.355446219444275 m-1.0618667304515839,9.200814366340637 m2.129334956407547,9.008920192718506 l-1.2032727897167206,3.599582612514496 1.3458849489688873,-4.698609709739685 m-0.5213804915547371,-2.3914049565792084 l7.324103116989136,3.738088309764862 3.3139219880104065,3.314601480960846 m2.708866596221924,1.6628147661685944 l-0.6418636441230774,-0.8267191052436829 m-4.0736499428749084,5.984196662902832 l1.236584335565567,4.098140299320221 m-2.0978665351867676,1.9572557508945465 m8.054155707359314,-1.8006932735443115 m4.37473326921463,0.026931636966764927 l1.2221752852201462,-1.3326181471347809 m-3.7221983075141907,-1.984773874282837 m-0.15225588344037533,5.880323052406311 l-2.8596821427345276,-1.1971131712198257 -2.853558659553528,0.6382253766059875 l3.1739872694015503,0.22472355514764786 4.148085713386536,0.002268201787956059 l0.9907180070877075,2.171010822057724 -2.339971661567688,3.332085609436035 m-4.402666985988617,-4.537333548069 m4.072019159793854,-5.357545614242554 l-2.085951119661331,-0.20973073318600655 m-0.2072509191930294,-0.9348397701978683 l7.355448007583618,0.17355594784021378 -5.704946517944336,-11.49381160736084 l1.732049435377121,2.589876353740692 3.4298279881477356,-0.5698609352111816 m-1.6659030318260193,0.3614107146859169 m-8.293394446372986,0.19845884293317795 l2.3111803829669952,-1.49753138422966 2.343490570783615,-0.38063786923885345 l-4.390179812908173,-0.707312822341919 m-3.155769407749176,-1.5385830402374268 l9.264394044876099,0.7653055340051651 -2.8388506174087524,-0.43536122888326645 m-1.6384924948215485,-1.6001933813095093 l3.4258615970611572,1.5354272723197937 -1.9413208961486816,4.541054368019104 m8.492107391357422,-8.470214605331421 l-3.7274104356765747,-5.825806260108948 m-2.985357940196991,2.7462664246559143 l5.088404417037964,1.680503934621811 -2.0075756311416626,-7.403978109359741 l9.212528467178345,3.6362427473068237 2.1660955250263214,4.0742409229278564 m-1.8584810197353363,3.7099406123161316 l2.924903929233551,2.138468623161316 m-4.363564550876617,6.667895317077637 m5.999827980995178,-0.9771142899990082 m112.43857288180152,-54.143864177458454 l-5.996466875076294,-1.489957720041275 -3.3310741186141968,-0.010696705430746078 m89.03532594442368,-0.5564112309366465 l4.69364196062088,0.29058244079351425 m-4.044320285320282,3.2452213764190674 m5.341996550559998,0.8582132309675217 m74.9323209375143,-5.433527156710625 l-1.4795345067977905,2.938438355922699 -1.3692446053028107,6.182454824447632 m-3.2246777415275574,-0.10999337770044804 \" fill=\"none\" stroke=\"black\" stroke-width=\"1\"/></svg>"
          },
          "metadata": {
            "tags": []
          }
        }
      ]
    },
    {
      "cell_type": "markdown",
      "metadata": {
        "id": "4xiwp3_DFQvB",
        "colab_type": "text"
      },
      "source": [
        "Latent Space Interpolation Example between $z_0$ and $z_1$"
      ]
    },
    {
      "cell_type": "code",
      "metadata": {
        "id": "WSX0uvZTFQvD",
        "colab_type": "code",
        "outputId": "66fc4ef2-b96e-432d-ef92-657322ed1fca",
        "colab": {
          "base_uri": "https://localhost:8080/",
          "height": 353
        }
      },
      "source": [
        "# get a sample drawing from the test set, and render it to .svg\n",
        "z0 = z\n",
        "_ = decode(z0)"
      ],
      "execution_count": 102,
      "outputs": [
        {
          "output_type": "display_data",
          "data": {
            "text/plain": [
              "<IPython.core.display.SVG object>"
            ],
            "image/svg+xml": "<svg baseProfile=\"full\" height=\"332.52669621026143\" version=\"1.1\" width=\"330.78922668355517\" xmlns=\"http://www.w3.org/2000/svg\" xmlns:ev=\"http://www.w3.org/2001/xml-events\" xmlns:xlink=\"http://www.w3.org/1999/xlink\"><defs/><rect fill=\"white\" height=\"332.52669621026143\" width=\"330.78922668355517\" x=\"0\" y=\"0\"/><path d=\"M25,25 m3.917663097381592,1.1173120886087418 l2.3808085918426514,1.9438013434410095 m3.023238778114319,1.9493021070957184 m2.6937735080718994,2.8073984384536743 m-2.469489872455597,-0.04633599426597357 m-1.3686567544937134,-0.3245978057384491 m-1.7638356983661652,0.3606392815709114 m-1.7266495525836945,-0.14458131045103073 m3.2763713598251343,2.1794675290584564 m3.005066215991974,1.9624269008636475 m3.5208338499069214,1.5413394570350647 m-0.9961134940385818,0.03902573371306062 m-1.8745584785938263,0.05934182554483414 m6.0210102796554565,1.9304940104484558 m3.8088420033454895,1.8565142154693604 l-3.0638763308525085,0.273737832903862 m-1.5071214735507965,3.872310519218445 m-1.7153184115886688,0.1795518398284912 m4.8841723799705505,1.666206419467926 m-1.9881105422973633,-0.03883488941937685 l4.435290098190308,1.955886036157608 m2.6343297958374023,2.0844517648220062 m-1.4623449742794037,3.5204556584358215 m2.0200033485889435,1.0437945276498795 m0.9044452011585236,1.5226635336875916 m-0.9261999279260635,-0.1510386448353529 l2.4214836955070496,1.6646161675453186 m-1.7162255942821503,0.17162006348371506 l-1.4161430299282074,3.9069870114326477 m2.7809715270996094,1.851142793893814 l1.9461822509765625,1.891445815563202 m2.006446123123169,1.6759289801120758 m3.152378797531128,1.6982200741767883 l2.652365267276764,1.6094960272312164 m2.720378041267395,1.0581468790769577 l3.8175207376480103,1.299891173839569 1.391250342130661,-1.7280995845794678 l-1.2731736898422241,-0.34295428544282913 2.000076174736023,2.12788850069046 m2.452762871980667,1.2412125617265701 m-0.7121982425451279,0.7658103853464127 m5.432720184326172,1.0852091014385223 l2.6520171761512756,1.1941036581993103 2.9846790432929993,1.4328689873218536 l-1.9556443393230438,3.6421233415603638 3.75203013420105,1.378314048051834 l3.2620403170585632,1.2250401824712753 0.7722189277410507,0.1381867565214634 l3.905284106731415,1.6061440110206604 2.379794418811798,1.4692400395870209 m2.741347849369049,1.0556292533874512 l4.062526524066925,1.2985596060752869 2.913224697113037,1.13335482776165 l3.58176052570343,1.318601816892624 -1.4067129790782928,0.14467964880168438 m3.945852816104889,1.31862074136734 l-1.2299969792366028,2.98814594745636 2.2717568278312683,1.03385329246521 l2.247585952281952,1.4072512090206146 m-1.2317130714654922,-0.3426116704940796 m0.46391531825065613,0.4736011475324631 l-0.19548991695046425,-0.41426464915275574 m4.206330478191376,1.0313935577869415 m-1.1282259970903397,2.900213301181793 m-2.4791398644447327,3.9442992210388184 m-2.2154241800308228,4.020161330699921 m4.153931140899658,1.3862931728363037 l-1.867840737104416,3.7780505418777466 1.7126436531543732,1.209692358970642 l0.32491758465766907,0.5263910070061684 3.8334745168685913,0.827157273888588 m0.899149626493454,1.4527587592601776 l2.378762811422348,1.1950191855430603 -1.3984549045562744,4.388296008110046 l4.811052978038788,1.3385744392871857 m1.187450960278511,1.0247084498405457 m4.013490676879883,1.2856411933898926 m4.178874492645264,1.2208326160907745 m4.416108727455139,1.13530233502388 l-0.18998479470610619,0.7360141724348068 2.5678035616874695,0.9987684339284897 l3.221883475780487,1.2953853607177734 4.338390827178955,0.9066866338253021 m-1.4797613024711609,2.368585914373398 l2.144576907157898,1.5223416686058044 3.3175167441368103,1.4195361733436584 l-0.836714580655098,-0.25530043989419937 m-2.2697168588638306,4.030982255935669 l-1.0791024565696716,3.4461510181427 m1.6415640711784363,0.9883099049329758 l1.3325197994709015,1.3028250634670258 3.6085429787635803,1.4579226076602936 l-2.2086410224437714,-0.327458493411541 2.7668026089668274,1.4984503388404846 l3.170529305934906,1.2362705171108246 3.0905383825302124,1.2070228159427643 l2.837110459804535,1.5094773471355438 -1.1441442370414734,-0.06907750386744738 l4.0747299790382385,1.2006495893001556 -0.7597116380929947,3.797178566455841 l-0.37554167211055756,0.19034422934055328 -1.47721529006958,-1.5700159966945648 l-1.1368058621883392,-0.30143117532134056 -0.603417344391346,3.484541177749634 m3.2527178525924683,1.2544947862625122 m1.5236446261405945,0.9452956914901733 m3.7854182720184326,1.0757095366716385 m3.443976938724518,1.0395105928182602 m0.57717714458704,-1.112145334482193 l2.106204926967621,0.7543768733739853 -1.2562820315361023,-0.3088154271245003 m2.416709065437317,1.459382325410843 m-1.8888948857784271,5.288097262382507 m3.122795820236206,1.4611156284809113 m3.5186022520065308,1.3079358637332916 l0.9048312157392502,1.8670202791690826 m-0.9258830547332764,3.4829917550086975 l-0.968480259180069,-0.3268202021718025 0.21232692524790764,0.6366005539894104 l-1.8149745464324951,4.003083407878876 2.404180020093918,1.6165730357170105 l-1.6833768784999847,0.9156008064746857 -1.326686441898346,3.7714549899101257 m2.9412084817886353,0.9212251752614975 m-1.3070160150527954,-0.3184496611356735 l-1.7247110605239868,3.767157793045044 2.2235840559005737,1.0567264258861542 m3.8007616996765137,1.3449318706989288 m3.0766302347183228,1.3930466771125793 l5.152726173400879,1.3997355103492737 m3.288692533969879,1.2051767110824585 l3.5792502760887146,1.4274822175502777 3.795711100101471,0.6736744940280914 l4.370010197162628,1.3164253532886505 m1.8107223510742188,1.6690237820148468 m3.870900571346283,1.1459273844957352 m3.024604916572571,1.1914865672588348 l-1.603807657957077,4.307017624378204 -1.6183620691299438,4.322942793369293 m-1.9075123965740204,-0.8944739401340485 m-1.4559945464134216,3.877878785133362 m4.126666784286499,1.1078909784555435 l2.917363941669464,1.125008910894394 m-1.3561999797821045,-0.40748465806245804 l-1.5092793107032776,-0.5116331577301025 2.728360593318939,1.0619516670703888 m-1.2144681811332703,3.7574216723442078 m0.09158148430287838,0.5551623553037643 m2.0899319648742676,0.8455263078212738 m2.6341548562049866,0.6687913089990616 m-1.918531209230423,4.266030192375183 l1.356554925441742,1.2581601738929749 2.880978286266327,1.2081708759069443 l4.079948663711548,1.3583233952522278 3.8445523381233215,1.4916349947452545 m2.590952515602112,1.1626733094453812 l-1.2475521862506866,3.7337645888328552 m-0.8613129705190659,-0.26739712804555893 m0.01622302341274917,0.14259944669902325 l3.1176018714904785,1.4276959002017975 2.965196669101715,1.1841920018196106 l2.186937928199768,1.213003396987915 -1.5652215480804443,0.8011703193187714 m-0.5857455730438232,1.422693282365799 l3.0491432547569275,1.1634891480207443 m3.586771786212921,1.0384143143892288 m1.5393304824829102,1.1116455495357513 l-2.075236737728119,4.064988493919373 m4.003245830535889,0.9446213394403458 l-1.7986786365509033,4.097401797771454 3.3541682362556458,1.4666363596916199 l2.437560260295868,1.2839113175868988 m-0.18400650471448898,-0.5638182535767555 m-0.43694742023944855,0.4058246314525604 l-0.8991096913814545,3.87713223695755 m-0.4723024368286133,0.2910257689654827 l0.7913100719451904,1.064327284693718 m0.2102641761302948,0.2439967356622219 l2.2995179891586304,1.129736304283142 m2.147657424211502,1.0981009900569916 m-1.7335133254528046,4.212284982204437 l3.8826701045036316,1.015096753835678 4.296031892299652,1.0947689414024353 l2.585461139678955,1.2024321407079697 3.794695734977722,1.1436328291893005 m0.4213448241353035,0.13165260665118694 l-1.4193008840084076,4.336267113685608 3.051286041736603,0.7598982006311417 l4.164055287837982,1.5567576885223389 0.104717081412673,-1.6108086705207825 l3.2100701332092285,1.1303681135177612 -1.1066687107086182,-0.587933287024498 l3.3313262462615967,0.9083004295825958 -2.4203383922576904,4.303464889526367 l0.810447558760643,-1.0156171023845673 -0.5166983604431152,0.13589508831501007 l2.6075133681297302,0.5502066761255264 2.0891430974006653,1.2119386345148087 l3.452824354171753,0.698259100317955 2.343505322933197,0.3414715453982353 l2.117054760456085,0.5323398858308792 4.033759832382202,0.7213225215673447 m-1.8422624468803406,4.6680521965026855 m2.377413660287857,1.4197780191898346 m3.123779594898224,1.0831619799137115 m3.5724201798439026,0.9448415786027908 \" fill=\"none\" stroke=\"black\" stroke-width=\"1\"/></svg>"
          },
          "metadata": {
            "tags": []
          }
        }
      ]
    },
    {
      "cell_type": "code",
      "metadata": {
        "id": "jQf99TxOFQvH",
        "colab_type": "code",
        "outputId": "7695b427-e6a5-4d25-f77b-04d0a9b447d1",
        "colab": {
          "base_uri": "https://localhost:8080/",
          "height": 185
        }
      },
      "source": [
        "stroke = test_set.random_sample()\n",
        "z1 = encode(stroke)\n",
        "_ = decode(z1)"
      ],
      "execution_count": 103,
      "outputs": [
        {
          "output_type": "display_data",
          "data": {
            "text/plain": [
              "<IPython.core.display.SVG object>"
            ],
            "image/svg+xml": "<svg baseProfile=\"full\" height=\"83.12309563159943\" version=\"1.1\" width=\"69.64929401874542\" xmlns=\"http://www.w3.org/2000/svg\" xmlns:ev=\"http://www.w3.org/2001/xml-events\" xmlns:xlink=\"http://www.w3.org/1999/xlink\"><defs/><rect fill=\"white\" height=\"83.12309563159943\" width=\"69.64929401874542\" x=\"0\" y=\"0\"/><path d=\"M25,25 m0.0,0.0 l0.0,0.0 0.0,24.701969623565674 l0.5614084005355835,2.245633602142334 1.6842252016067505,2.8070420026779175 l1.6842252016067505,0.5614084005355835 0.0,1.122816801071167 l2.245633602142334,0.5614084005355835 0.0,1.122816801071167 l7.859717607498169,0.0 3.368450403213501,-1.6842252016067505 l1.6842252016067505,-2.245633602142334 0.0,-1.6842252016067505 l0.5614084005355835,-0.5614084005355835 0.0,-5.0526756048202515 l-1.122816801071167,0.0 0.0,-0.5614084005355835 \" fill=\"none\" stroke=\"black\" stroke-width=\"1\"/></svg>"
          },
          "metadata": {
            "tags": []
          }
        },
        {
          "output_type": "display_data",
          "data": {
            "text/plain": [
              "<IPython.core.display.SVG object>"
            ],
            "image/svg+xml": "<svg baseProfile=\"full\" height=\"77.68024836899713\" version=\"1.1\" width=\"65.18951766658574\" xmlns=\"http://www.w3.org/2000/svg\" xmlns:ev=\"http://www.w3.org/2001/xml-events\" xmlns:xlink=\"http://www.w3.org/1999/xlink\"><defs/><rect fill=\"white\" height=\"77.68024836899713\" width=\"65.18951766658574\" x=\"0\" y=\"0\"/><path d=\"M29.01942789554596,30.414682838745648 m-1.953577697277069,-1.2768012285232544 l-2.0658501982688904,-1.434491127729416 0.8249015361070633,-1.4908285439014435 l0.8866167813539505,-0.3631370887160301 1.7575186491012573,-0.3141169250011444 l1.4715313911437988,-0.35330407321453094 1.2912337481975555,-0.18049851059913635 l1.8576064705848694,-0.0015053410606924444 -1.3846993446350098,1.3257640600204468 l1.4594776928424835,-0.8785700798034668 1.3589008152484894,-0.09013555012643337 l1.7010493576526642,-0.352231040596962 1.6246367990970612,0.0846202950924635 l-1.8378697335720062,2.9300808906555176 -1.5213069319725037,2.8373485803604126 l1.275794357061386,-0.6700089573860168 -1.7189794778823853,3.485458195209503 l0.9673817455768585,-0.9623848646879196 0.9391016513109207,-0.9522701054811478 l-1.5871703624725342,-0.5257248878479004 1.0498124361038208,-0.9033763408660889 l0.8614260703325272,-0.5599268525838852 1.0698644816875458,-0.5396107584238052 l0.8406749367713928,-0.6302592903375626 -1.8135927617549896,3.152470290660858 l-0.9555152803659439,-1.1836913228034973 -1.614590436220169,3.9549103379249573 l-1.5115788578987122,4.607685804367065 -2.390107810497284,-0.585290901362896 l-0.480315200984478,2.8164932131767273 1.0044477134943008,-1.1098834127187729 l1.5653018653392792,-0.8608075976371765 -1.6565977036952972,-2.3655185103416443 l1.762060672044754,-1.4586618542671204 1.4101794362068176,-0.7800653576850891 l-2.3446594178676605,2.8076589107513428 0.09968851692974567,2.4158933758735657 l-1.6752035915851593,1.720597892999649 1.0987702757120132,-1.2338846176862717 l-1.126168742775917,0.3343958780169487 0.6088881567120552,-0.6293268501758575 l1.4605504274368286,-1.1380130052566528 1.0706809163093567,-0.6146767735481262 l0.26728713884949684,2.5192922353744507 1.175442710518837,-0.44333621859550476 l1.4830414950847626,-1.0196491330862045 1.256079226732254,-1.0698230564594269 l0.06581786554306746,-1.0665300488471985 1.618325263261795,-0.6354424357414246 l-1.6295982897281647,5.352111458778381 0.741928219795227,-0.9260395169258118 l0.9350792318582535,-1.4097616076469421 -0.6061705946922302,1.4437966048717499 l1.3242365419864655,-0.5184852331876755 -2.1888065338134766,2.7513766288757324 l0.16113830730319023,-1.3697460293769836 1.238405480980873,-0.9387146681547165 l0.9306368976831436,-0.3593091294169426 0.7169334590435028,-0.605936124920845 l-1.220271736383438,0.8654551208019257 -1.1681275069713593,0.9114663302898407 l-0.15740962699055672,2.704496383666992 0.5035450682044029,-1.1711481213569641 l-1.9110803306102753,0.7983244955539703 -0.5315911397337914,2.339249402284622 l1.0730786621570587,-1.548343151807785 -1.187710165977478,0.01991310389712453 l-1.0931141674518585,2.377879023551941 1.1587052792310715,-1.3000671565532684 l-1.3581936061382294,4.053090214729309 0.8681779354810715,-0.4762518033385277 l-0.7885204255580902,2.417309433221817 -1.3033825159072876,0.5360125750303268 l1.9143669307231903,-0.33319372683763504 \" fill=\"none\" stroke=\"black\" stroke-width=\"1\"/></svg>"
          },
          "metadata": {
            "tags": []
          }
        }
      ]
    },
    {
      "cell_type": "markdown",
      "metadata": {
        "id": "tDqJR8_eFQvK",
        "colab_type": "text"
      },
      "source": [
        "Now we interpolate between sheep $z_0$ and sheep $z_1$"
      ]
    },
    {
      "cell_type": "code",
      "metadata": {
        "id": "_YkPNL5SFQvL",
        "colab_type": "code",
        "colab": {}
      },
      "source": [
        "z_list = [] # interpolate spherically between z0 and z1\n",
        "N = 10\n",
        "for t in np.linspace(0, 1, N):\n",
        "  z_list.append(slerp(z0, z1, t))"
      ],
      "execution_count": 0,
      "outputs": []
    },
    {
      "cell_type": "code",
      "metadata": {
        "id": "UoM-W1tQFQvM",
        "colab_type": "code",
        "colab": {}
      },
      "source": [
        "# for every latent vector in z_list, sample a vector image\n",
        "reconstructions = []\n",
        "for i in range(N):\n",
        "  reconstructions.append([decode(z_list[i], draw_mode=False), [0, i]])"
      ],
      "execution_count": 0,
      "outputs": []
    },
    {
      "cell_type": "code",
      "metadata": {
        "id": "mTqmlL6GFQvQ",
        "colab_type": "code",
        "outputId": "0d756846-604e-4575-b40b-7d8391495f0e",
        "colab": {
          "base_uri": "https://localhost:8080/",
          "height": 561
        }
      },
      "source": [
        "stroke_grid = make_grid_svg(reconstructions)\n",
        "draw_strokes(stroke_grid)"
      ],
      "execution_count": 107,
      "outputs": [
        {
          "output_type": "display_data",
          "data": {
            "text/plain": [
              "<IPython.core.display.SVG object>"
            ],
            "image/svg+xml": "<svg baseProfile=\"full\" height=\"540.9501177887432\" version=\"1.1\" width=\"891.7837480746675\" xmlns=\"http://www.w3.org/2000/svg\" xmlns:ev=\"http://www.w3.org/2001/xml-events\" xmlns:xlink=\"http://www.w3.org/1999/xlink\"><defs/><rect fill=\"white\" height=\"540.9501177887432\" width=\"891.7837480746675\" x=\"0\" y=\"0\"/><path d=\"M95.24872004170902,244.90024537197314 m0.0,0.0 m-70.24872004170902,-87.09006778197363 l4.524553418159485,1.4082768559455872 m3.93835186958313,2.3319941759109497 m4.674924910068512,2.2465386986732483 m4.892263114452362,2.8863394260406494 m-1.1385834962129593,-0.655326247215271 m-1.4987453818321228,-0.1979394257068634 m-1.9387808442115784,-0.16407011076807976 m2.5754502415657043,2.4040988087654114 m3.476749360561371,2.243054062128067 m-1.7745676636695862,-0.01967350486665964 m-2.4283672869205475,0.18065674230456352 m4.228540062904358,2.46225506067276 m3.53209525346756,2.1064814925193787 m-1.9717316329479218,0.11477179825305939 m-1.8835465610027313,0.20195906981825829 m3.697490096092224,1.5771423280239105 m3.049044907093048,1.644679456949234 m-1.36489599943161,0.4674159362912178 m-2.903350591659546,0.2098088525235653 m-2.112554907798767,0.2372693456709385 m-0.8835466206073761,2.839920222759247 l3.6393022537231445,1.3997504115104675 m4.69725489616394,2.345815896987915 m-0.913948193192482,3.356238603591919 l4.176303744316101,1.3165280222892761 m-0.7539273053407669,-0.01675915438681841 l4.25934374332428,1.792994737625122 3.288893401622772,2.2189225256443024 m-0.769420713186264,0.2480701357126236 l-1.555371880531311,-0.16928216442465782 3.95600289106369,1.385323703289032 l1.834663450717926,2.0112790167331696 -1.9068136811256409,-0.24004973471164703 l3.273739814758301,1.8525034189224243 m4.107145667076111,1.571691632270813 l-2.1482138335704803,3.985632359981537 -1.875109225511551,-0.3862830251455307 l-4.335623383522034,-0.2602183632552624 m2.295442968606949,1.127665489912033 l-1.3468223810195923,-0.5322349816560745 3.6514607071876526,1.4794962108135223 l3.7048155069351196,1.7303751409053802 m3.6806413531303406,1.3633260130882263 m3.4265995025634766,1.2286486476659775 m3.064790964126587,1.3035006821155548 l-2.309242933988571,-0.0817188061773777 m3.2083436846733093,1.0378489643335342 m3.657650351524353,1.4726896584033966 m-1.7566686868667603,1.6361598670482635 l-2.614181935787201,3.7225499749183655 -1.7884854972362518,3.71046245098114 m3.951020836830139,1.6487108170986176 m3.0012446641921997,1.266031265258789 l4.192094206809998,1.6308876872062683 m3.9419394731521606,1.249604970216751 l0.15237952582538128,0.4755203053355217 2.393459677696228,1.242455616593361 l1.2809176743030548,1.317390352487564 -0.6997515261173248,0.8146905153989792 m-2.947503924369812,0.857979953289032 l-2.3396356403827667,4.293446838855743 m-1.7364448308944702,3.7330806255340576 l-0.06301452405750751,0.9023325890302658 m2.5400516390800476,1.2890797853469849 l2.6990553736686707,1.371808648109436 4.0228500962257385,1.5164411067962646 l4.167853891849518,1.0506979376077652 3.848171830177307,1.2950000166893005 m-1.5166494250297546,3.6109650135040283 l0.7051918655633926,-0.0794903002679348 m5.417248010635376,1.3591763377189636 m-0.07971405982971191,-0.10167935863137245 m0.6021134555339813,-0.35564128309488297 l-1.053277626633644,-0.5810045450925827 m3.135058283805847,0.8675120025873184 l-1.3866093754768372,-0.2977672219276428 m-1.6726872324943542,4.090284109115601 m-0.8406085520982742,0.11582420207560062 l4.750145077705383,1.0782183706760406 m4.626846611499786,1.3515479862689972 m0.08234642446041107,0.1646621711552143 m2.769468128681183,1.4853401482105255 m2.1161220967769623,1.2637007236480713 m3.4767425060272217,1.5297232568264008 l-0.5122542753815651,0.24727853015065193 m2.382075786590576,1.8560047447681427 m0.23457834497094154,-0.7358935475349426 l2.9157090187072754,1.1574628204107285 m-0.590650886297226,3.3057796955108643 m-0.7551620900630951,-0.17252257093787193 l-1.8588584661483765,4.34840202331543 3.935932219028473,1.1121533811092377 l-2.543826997280121,3.5630398988723755 4.484178125858307,1.6764616966247559 m3.4950149059295654,1.9871720671653748 l-2.860422730445862,1.3915036618709564 2.2193068265914917,0.9204836189746857 m-1.2718668580055237,0.17073120921850204 l1.3724398612976074,1.1426810920238495 0.16030849888920784,0.5909670516848564 l-1.101948618888855,-0.1160075981169939 1.79621621966362,2.2524426877498627 l3.1207862496376038,1.292184442281723 3.0529412627220154,1.4216576516628265 l2.914418876171112,1.3016527891159058 -0.7298450917005539,3.810324966907501 l3.2874247431755066,1.0844267904758453 3.497770130634308,1.2522758543491364 l0.04818896763026714,-1.1728659272193909 4.2393603920936584,1.4232175052165985 l3.8109660148620605,1.5473082661628723 m2.964135706424713,2.714945077896118 l-1.834132820367813,0.9527549892663956 -0.3627970814704895,3.6982759833335876 l3.6415845155715942,1.4477218687534332 m1.9298803806304932,1.6759732365608215 m3.1468695402145386,1.0579496622085571 l2.451127767562866,1.279769241809845 3.3682170510292053,1.2918226420879364 l3.0709701776504517,0.916319265961647 m-2.190389186143875,4.283398985862732 m0.8090142905712128,0.05224915686994791 l3.4519582986831665,0.8398942649364471 2.936694324016571,1.1994317173957825 m3.403784930706024,1.4791648089885712 l-0.8860845118761063,-0.5203886702656746 3.346421718597412,1.0539209097623825 l3.5135218501091003,1.458132117986679 m0.5154171586036682,0.48957135528326035 l-0.26942720636725426,0.19238963723182678 m-0.8726645261049271,-0.2423434890806675 l-0.062214029021561146,-0.20194843411445618 -2.491537928581238,4.448128044605255 m0.08760216645896435,0.3098558820784092 m2.070891857147217,1.3584698736667633 m2.112206220626831,1.0867851227521896 m1.5285399556159973,0.7042458653450012 l3.0198585987091064,1.0658814013004303 3.8004323840141296,1.3230256736278534 m4.427270293235779,2.0873481035232544 m-1.76767036318779,4.324941635131836 l4.130609631538391,0.931972861289978 -0.868157297372818,0.1523365918546915 l2.3201358318328857,1.0619056969881058 m4.134109020233154,1.4980457723140717 m2.200831323862076,1.3519726693630219 l2.0727741718292236,1.1582153290510178 m2.624829113483429,1.456436812877655 l1.5145477652549744,0.6838291138410568 -2.240716516971588,4.990977942943573 l-2.4729330837726593,3.820168375968933 -1.1340297013521194,0.46213913708925247 l-1.889823079109192,3.548075258731842 4.471109509468079,0.992114320397377 l3.248160481452942,1.253194659948349 2.7285125851631165,1.293291300535202 l2.8935787081718445,0.6835339963436127 0.04166823346167803,0.7581096142530441 l2.268717885017395,0.857340395450592 m-0.022572798188775778,-0.6990743428468704 l1.6811749339103699,1.1990450322628021 -0.4019268974661827,3.0648410320281982 l2.8050926327705383,0.9414082020521164 0.65443255007267,-0.7317136228084564 l-0.46266939491033554,-0.44541850686073303 -2.2056226432323456,4.471025764942169 m2.923695147037506,1.0340921580791473 l4.5417821407318115,0.8346812427043915 2.3065268993377686,1.320549100637436 l3.4801122546195984,1.0294105112552643 -0.5426515638828278,0.5367862433195114 m-163.70644480042756,-332.7353890510858 l4.414582252502441,1.2474841624498367 m3.000308871269226,1.7619359493255615 m5.698339343070984,1.8261027336120605 m-1.1822587996721268,-0.13741964474320412 m-1.6656386852264404,0.007719630957581103 m-1.9918011128902435,-0.5444065108895302 m-3.14780056476593,-0.09973425418138504 m-2.4528728425502777,-0.25189807638525963 m4.0132299065589905,2.3734301328659058 m-1.6377638280391693,-0.08754712529480457 m3.659272789955139,2.0711955428123474 m4.332633018493652,2.4837203323841095 m3.984839618206024,2.8918829560279846 l-1.1811930686235428,0.5427486076951027 -4.386772811412811,0.8429129421710968 m-0.3364245221018791,3.591671884059906 m0.9479493647813797,3.0513641238212585 m-1.3674455881118774,0.9640718996524811 m-0.24990132078528404,2.9129722714424133 m3.2802656292915344,2.0463962852954865 l5.018630027770996,2.7579107880592346 m2.1990568935871124,1.270516812801361 m-2.2371914982795715,0.3716900944709778 l-2.7771663665771484,0.6916794180870056 m2.7530744671821594,1.8025113642215729 m-1.1748362332582474,3.8240963220596313 l-0.8876728266477585,0.2827290818095207 4.89676296710968,1.7006546258926392 l-2.1336552500724792,1.2838636338710785 1.4194124937057495,1.5148350596427917 l-0.5864829942584038,0.10108960792422295 5.224851965904236,2.082655429840088 l2.6114553213119507,1.695162057876587 -0.24436376988887787,3.1904208660125732 l-1.393304169178009,3.3159640431404114 3.8003957271575928,2.6025986671447754 l2.652808129787445,1.746792197227478 2.2030214965343475,1.544843465089798 l3.851708173751831,2.1917161345481873 3.411283493041992,1.9291265308856964 l4.149578213691711,1.0011839866638184 -1.7627295851707458,1.812410056591034 m1.5992631018161774,0.5113847926259041 l3.7629303336143494,1.7309622466564178 3.17714124917984,1.4195023477077484 l2.526247799396515,1.595827341079712 4.774066507816315,1.6529887914657593 l3.2744693756103516,1.8876710534095764 3.3744430541992188,2.0036515593528748 l-1.2847164273262024,3.261556923389435 -1.491028219461441,3.4195414185523987 m0.23268857970833778,-0.6007660180330276 l3.0053427815437317,1.8613320589065552 2.781326174736023,1.6342934966087341 l3.966485857963562,1.721547544002533 3.364109992980957,2.164710611104965 l3.082147240638733,1.461489051580429 -0.44268660247325897,-0.09796746075153351 l2.8923040628433228,2.587308883666992 1.6156873106956482,1.2233225256204605 l3.169263005256653,0.886257067322731 3.285253643989563,0.9655627608299255 l-2.3929469287395477,3.263663351535797 3.6334767937660217,1.1194221675395966 l-1.48488387465477,3.2007384300231934 3.3669519424438477,0.9749419987201691 l3.2203838229179382,1.2341246008872986 -2.4219784140586853,3.250424861907959 l2.2471563518047333,2.0603735744953156 2.9020583629608154,2.1332652866840363 l-2.1075907349586487,3.4168386459350586 2.9300782084465027,2.1842367947101593 l-2.287789285182953,3.5015562176704407 -1.3144095242023468,0.04124079365283251 m2.342219799757004,1.1267192661762238 l5.011349320411682,1.9879645109176636 3.6467674374580383,1.5783654153347015 l4.667399823665619,1.8631784617900848 -1.4555612206459045,2.0914292335510254 l3.868362307548523,1.0772119462490082 4.28508460521698,1.6079872846603394 m3.3782798051834106,1.8186472356319427 l-2.2203364968299866,1.4511990547180176 -1.597510278224945,3.122459053993225 l-2.4360398948192596,3.5104236006736755 2.6691415905952454,0.9542030841112137 l2.6610752940177917,1.236463412642479 3.974040448665619,1.3782685995101929 l-1.2062709778547287,3.040146827697754 4.5918601751327515,1.326548159122467 l2.8855279088020325,1.8074893951416016 0.8691217750310898,-1.0282471776008606 l0.36150068044662476,0.40927235037088394 m0.2511375769972801,0.7508045434951782 l3.9387047290802,1.1290687322616577 m0.24626804515719414,0.5330881103873253 m-1.7365239560604095,3.747768998146057 m-1.5494753420352936,3.7336212396621704 l-0.058373864740133286,0.3436663746833801 m4.209409952163696,1.1487440019845963 l1.22116819024086,0.8410045504570007 0.508856326341629,0.6617281585931778 l-1.3850761950016022,3.5238832235336304 1.1835278570652008,0.8806648850440979 l4.464327692985535,1.1147868633270264 -2.4881789088249207,2.8904515504837036 l5.186277627944946,1.0314535349607468 -1.5727663040161133,3.51483553647995 l-0.7929085940122604,3.1366145610809326 -0.7838504016399384,3.9142662286758423 l3.3928832411766052,2.0748932659626007 -1.33279487490654,2.5592225790023804 l3.2083597779273987,1.1055903136730194 2.3776382207870483,0.6317239254713058 l-1.658233255147934,3.5334762930870056 -1.8064960837364197,3.6160120368003845 l1.882788985967636,2.142546772956848 3.874872624874115,1.0936085134744644 l3.281891644001007,2.5192096829414368 m-2.115824818611145,4.118162989616394 l0.40753602981567383,0.8013790100812912 1.5767088532447815,1.4567646384239197 l3.057299554347992,2.652387320995331 4.653736352920532,1.5612782537937164 l-0.97057044506073,1.3904990255832672 -1.1437641084194183,3.247048258781433 l-0.5301394686102867,-2.7321410179138184 0.9303487837314606,0.7793888449668884 l3.176467716693878,1.2511485815048218 4.660457670688629,1.152791678905487 l-1.6375720500946045,1.4960961043834686 3.64867627620697,2.295321077108383 l-2.546347975730896,3.928380608558655 3.4335076808929443,1.274639517068863 l0.4612511768937111,0.3475978597998619 2.743060886859894,1.0655902326107025 m3.5412248969078064,1.421017050743103 l0.38278523832559586,2.6495134830474854 -2.3129424452781677,0.5249218642711639 l3.2028350234031677,1.3367141783237457 -0.9944286197423935,3.7057289481163025 l3.2760247588157654,2.253730446100235 2.2701165080070496,1.8935301899909973 l2.555859088897705,1.8282204866409302 3.015833795070648,1.3911707699298859 l-1.1767993122339249,1.7978060245513916 2.427186071872711,1.1119884252548218 l2.788868248462677,1.2261657416820526 -2.7685707807540894,3.7571921944618225 l1.7460893094539642,2.3128022253513336 m0.6235856935381889,0.48107266426086426 l0.23427627980709076,0.8460794389247894 4.819367229938507,1.016206443309784 l0.6700210273265839,0.1918908953666687 -1.596263349056244,4.2443957924842834 l0.24454953148961067,0.833609327673912 -2.1108363568782806,0.3163609281182289 l0.8276425302028656,1.3045406341552734 -1.1023515462875366,1.132371500134468 l-2.137664258480072,4.040710926055908 -1.7295454442501068,3.5062506794929504 l-0.7505971938371658,3.1082698702812195 -0.3630228340625763,2.500840127468109 l3.6360710859298706,0.5675144121050835 0.11188509874045849,0.8566783368587494 l3.2393014430999756,1.0155180096626282 3.131870925426483,1.133771389722824 l2.8123408555984497,0.8477858453989029 m-2.1087200939655304,3.9416593313217163 l-2.231817990541458,3.882194459438324 0.9813456982374191,1.2731347978115082 l3.2261335849761963,0.9941543638706207 3.3070766925811768,1.4450211822986603 l-1.4870195090770721,3.350338339805603 -1.0233565419912338,3.300226330757141 l-1.766754686832428,4.420551061630249 0.7367309182882309,0.2525189705193043 l3.053957223892212,2.2688478231430054 m4.411590397357941,1.2917560338974 m2.944673001766205,1.0707289725542068 m-1.4486880600452423,3.9327165484428406 l-2.8666675090789795,3.905363976955414 3.8365384936332703,0.9378958493471146 l-1.667572408914566,0.5917855724692345 -1.3111421465873718,4.0929049253463745 l0.9440294653177261,1.4886285364627838 2.639397382736206,1.6149210929870605 l-1.305936872959137,-1.926722228527069 -0.5424334853887558,3.3887583017349243 l2.561465799808502,2.1015259623527527 -1.0339640080928802,0.4361080750823021 l4.543718993663788,0.8151664584875107 -1.0935814678668976,3.251924216747284 l4.119003117084503,1.2750285863876343 -1.6117653250694275,4.17540043592453 l-1.8338893353939056,3.2751959562301636 -0.00040513357816962525,0.15343421138823032 l-1.9646205008029938,2.155642658472061 -0.5248645320534706,3.440180718898773 l-1.397239863872528,4.434049427509308 -0.8468358218669891,2.7948006987571716 l3.334439694881439,0.6841882318258286 -1.3078674674034119,3.3446985483169556 l2.2721360623836517,1.1442948132753372 0.5366689711809158,0.9346529096364975 l-1.5495528280735016,3.3342891931533813 0.2738556079566479,1.3524967432022095 l-0.16654659062623978,-0.16798071563243866 2.837248742580414,0.9048639237880707 l4.403420090675354,1.1400004476308823 -1.2751078605651855,3.9278951287269592 l0.860157385468483,0.3695068880915642 4.344407618045807,1.2890397012233734 l-2.3965230584144592,3.8982588052749634 2.7101677656173706,0.6445872038602829 l-0.12467591091990471,0.0243828515522182 -0.062068309634923935,-1.13894522190094 l-2.375456988811493,4.408156871795654 -1.821698546409607,3.610994517803192 l0.7467091083526611,0.41444890201091766 3.274407684803009,1.2565849721431732 l1.4123882353305817,0.8799512684345245 3.4055769443511963,1.1967717856168747 m2.690766453742981,0.5787474289536476 l0.576028972864151,0.45518267899751663 -1.584441363811493,3.699837625026703 l0.0250015570782125,-0.49264874309301376 m-1.3685856759548187,2.812238931655884 l4.740502834320068,0.4489016532897949 m-1.3888739049434662,3.104398548603058 l3.498949110507965,0.42888130992650986 -0.48608366400003433,3.8473477959632874 l2.7426207065582275,2.376590073108673 0.26290807873010635,-0.9994809329509735 l1.8665054440498352,1.199355274438858 2.150651216506958,0.8890315890312195 l-0.322294645011425,3.10371071100235 2.125871777534485,0.7843984663486481 l3.8710245490074158,0.7611571997404099 -3.1373408436775208,0.2759834937751293 l-1.3995851576328278,3.9382490515708923 -0.2867107093334198,3.8073569536209106 l-0.2340829186141491,3.66135835647583 -1.051674708724022,2.2035083174705505 m-0.7048327475786209,0.057919276878237724 l3.1641629338264465,1.0124541074037552 3.776983618736267,0.7673270255327225 l2.741096317768097,2.8496721386909485 5.188342332839966,1.4928358793258667 l2.7201491594314575,1.7250551283359528 m-186.99578665555237,-465.38477394758957 l3.9686319231987,1.1496270447969437 6.212220788002014,1.9704389572143555 m3.699887692928314,1.9076305627822876 m-1.765734851360321,0.448119081556797 l-0.4700298234820366,4.904562830924988 m3.3116817474365234,1.7825959622859955 m-1.3201904296875,0.05910322070121765 l-0.7968748360872269,4.0911900997161865 m-2.0768211781978607,0.17349941655993462 m-2.8605446219444275,0.43357860296964645 l6.120149493217468,3.079279661178589 m-2.2360414266586304,0.48041168600320816 m-0.9718072414398193,-3.523223400115967 l-0.20959915593266487,3.7019142508506775 -2.410944402217865,1.1436068266630173 l-2.6824718713760376,0.6584305316209793 4.134954214096069,2.516945004463196 l-3.7168270349502563,0.8381353318691254 -1.490081548690796,1.0109610110521317 l3.386375308036804,1.9001396000385284 3.994739353656769,2.6647478342056274 l3.739435076713562,2.2954748570919037 2.9756972193717957,2.9520389437675476 l3.03489089012146,1.6566629707813263 3.1610241532325745,1.3818186521530151 l2.5627970695495605,1.814091056585312 -1.5838457643985748,3.0739644169807434 l2.7456170320510864,2.1307142078876495 3.8876965641975403,2.235175222158432 l-0.9128733724355698,2.7942171692848206 -0.5237970501184464,0.935630202293396 l2.5898543000221252,1.9815486669540405 3.0220091342926025,1.94630965590477 m2.985699772834778,1.9327276945114136 l2.904806435108185,1.9732071459293365 3.2736369967460632,1.5031492710113525 l2.6406165957450867,1.2346535176038742 2.7295252680778503,1.9125847518444061 m2.992917001247406,1.6339904069900513 l-1.6839393973350525,2.989194691181183 2.481297552585602,1.8826483190059662 l2.2725918889045715,1.2023292481899261 1.9529321789741516,1.316324770450592 l-1.5244308114051819,2.9434412717819214 -1.2742304801940918,2.4257268011569977 m2.443014234304428,1.6185835003852844 l5.1677268743515015,1.9053147733211517 3.1469550728797913,1.7277134954929352 m3.346172869205475,2.1328146755695343 l3.629387617111206,1.7011582851409912 1.6788679361343384,1.4548233151435852 m-0.15580558218061924,2.9511892795562744 m1.9386444985866547,1.697097271680832 l2.55501925945282,1.52328759431839 2.7727755904197693,1.4947344362735748 l2.558537721633911,1.6630928218364716 2.0496660470962524,2.295018434524536 l2.0501670241355896,1.607835441827774 3.2364478707313538,1.983989179134369 l3.230743408203125,1.9742077589035034 m3.163127899169922,1.5965159237384796 l-1.2246038019657135,2.9639381170272827 3.078494966030121,2.237676978111267 l2.7334263920783997,1.2169592827558517 -1.4067748188972473,3.235490322113037 l-1.1793861538171768,3.6157891154289246 2.066285163164139,1.971253752708435 l-0.4146970808506012,3.4557515382766724 3.3940646052360535,1.6616065800189972 l3.7429916858673096,1.5362352132797241 3.5205918550491333,2.213641256093979 l2.673359513282776,1.9112518429756165 -2.0040786266326904,4.027067422866821 l-1.2762536108493805,2.9405823349952698 -0.8082302659749985,3.38940292596817 l1.9357743859291077,0.5789866298437119 4.307659268379211,1.6910333931446075 l-1.5265512466430664,3.847770094871521 2.9024508595466614,1.8219052255153656 l3.0402913689613342,1.9456873834133148 3.074125051498413,1.6196747124195099 l3.1655648350715637,1.5007048845291138 4.3258970975875854,1.248856857419014 l3.0542773008346558,1.3754241168498993 3.2732778787612915,2.1561670303344727 l2.7545854449272156,2.117246985435486 -2.0567817986011505,3.475283980369568 l3.152364492416382,2.013031244277954 -1.3635148108005524,2.857280671596527 l3.862546980381012,1.8538329005241394 2.222060114145279,1.2524279952049255 l2.7581262588500977,1.6219620406627655 2.0662540197372437,1.6788414120674133 l4.95597243309021,1.266869604587555 m3.2503652572631836,1.3397777080535889 l-1.7733727395534515,2.8707537055015564 0.3069417364895344,0.8386380225419998 l-0.7888457924127579,2.765059173107147 2.035309672355652,0.7334571331739426 l2.3012076318264008,2.2813482582569122 2.2485068440437317,2.3987185955047607 l-0.6384646147489548,3.7438255548477173 3.9588189125061035,1.2237559258937836 m-1.865983009338379,3.9036238193511963 l2.4992549419403076,2.054649740457535 1.997123807668686,2.1490633487701416 l-2.476925402879715,3.6667755246162415 3.2942619919776917,2.100590020418167 l-1.0440968722105026,-2.1930450201034546 -0.9920016676187515,3.2470205426216125 l2.7084866166114807,0.8901846408843994 2.950272858142853,1.2725725769996643 l2.5562885403633118,1.7384424805641174 m3.5037407279014587,0.8356743305921555 l1.6404440999031067,0.7010754942893982 2.7307063341140747,2.5027701258659363 l3.2890400290489197,1.5608707070350647 -1.6617366671562195,3.290998935699463 l3.274518847465515,1.8807099759578705 0.7251491397619247,-0.14422021806240082 l-0.972321480512619,2.9646140336990356 3.996504545211792,0.984143391251564 l-1.231885850429535,3.1679782271385193 2.8846970200538635,2.056834101676941 l-2.100539356470108,0.5441079661250114 4.311409294605255,1.1739882826805115 l2.8375226259231567,2.1740691363811493 -1.1094703525304794,3.2555553317070007 l2.5240758061408997,1.7786595225334167 3.4879955649375916,2.1866849064826965 l3.349544107913971,1.7464739084243774 -0.7872097194194794,3.1704318523406982 l4.123232960700989,0.7060064375400543 -1.846228688955307,3.251650631427765 l2.271488606929779,2.6213836669921875 4.049254655838013,1.264987289905548 l-0.0341609725728631,3.540773391723633 3.0368858575820923,1.9518764317035675 l5.269814729690552,1.4221285283565521 2.453676015138626,1.769593209028244 l0.20532924681901932,0.5573222041130066 -0.5425376072525978,3.0094316601753235 l3.3830440044403076,2.5090160965919495 -0.9307346493005753,3.2641324400901794 l-1.4649444818496704,2.8175172209739685 3.684348464012146,0.9954675287008286 l-0.9262200444936752,2.3249953985214233 -0.31320739537477493,3.031521439552307 l-0.2634144015610218,2.713317573070526 -1.3153138756752014,3.6644548177719116 l-0.9762926399707794,2.9147034883499146 2.293374240398407,1.6920651495456696 m3.026363253593445,2.5041717290878296 l0.8341721445322037,0.012294158805161715 -1.4947158098220825,3.476930856704712 l1.9013696908950806,1.3031987845897675 -1.9074167311191559,3.465419113636017 l-0.3307176008820534,3.0981314182281494 0.8515315502882004,1.1398760229349136 l-1.4605362713336945,3.4606996178627014 -1.8087247014045715,3.726857602596283 l3.1620168685913086,1.02040134370327 -0.6727390736341476,3.6890563368797302 l2.432558238506317,2.4143731594085693 -0.9177544713020325,2.9845091700553894 l2.4969932436943054,0.7049050182104111 0.7980656623840332,0.10435753501951694 l0.9102444350719452,0.772167518734932 1.72359898686409,2.0979222655296326 l-1.254725456237793,2.8793004155158997 1.0417182743549347,0.31447820365428925 l2.554415464401245,1.8260985612869263 -0.12335188686847687,2.507920563220978 l-2.472134232521057,3.866802155971527 5.173270106315613,1.6707782447338104 l-0.06755913607776165,2.703233063220978 3.519906997680664,1.1289110034704208 l1.7180226743221283,1.7334987223148346 0.6955795735120773,-0.2458236925303936 l3.601459264755249,0.6653892248868942 0.8328049629926682,-0.5701654404401779 m-0.5408158525824547,2.2334258258342743 l1.996103674173355,1.9181621074676514 -1.7381082475185394,3.098513185977936 l-0.23470893502235413,2.530321180820465 -0.18315890803933144,0.5163474380970001 l-1.6432744264602661,3.1929197907447815 2.4036595225334167,2.089122384786606 l4.292981922626495,0.5912623554468155 0.8324658870697021,-0.10773692280054092 l-2.6054471731185913,3.8031229376792908 -0.21726036444306374,0.39115652441978455 l-1.4541836082935333,3.2739394903182983 1.8879212439060211,2.1288906037807465 l2.518252730369568,2.041754871606827 1.6471657156944275,0.6931014358997345 l2.6197651028633118,0.9269432723522186 -1.4543025195598602,3.936728835105896 l-1.0409578680992126,3.7109604477882385 -1.855546236038208,3.6460161209106445 l-0.8660661429166794,2.5042587518692017 -1.6618002951145172,3.154698610305786 l2.559988796710968,1.9692258536815643 2.190260738134384,1.511775553226471 l-1.380126029253006,3.2954609394073486 -1.1407467722892761,-1.094505861401558 m-1.6776010394096375,3.1818947196006775 l0.01254292787052691,0.07432669401168823 -0.07608612067997456,0.10510561987757683 m3.2093259692192078,1.8811854720115662 l-1.4117012917995453,3.4691256284713745 -1.3727453351020813,2.861398756504059 l-0.9882407635450363,2.8752467036247253 -0.24919167160987854,0.20227035507559776 l2.562858462333679,1.8246492743492126 -1.3369184732437134,3.2928451895713806 l1.1707746982574463,2.17494934797287 0.8936165273189545,1.20010606944561 l-0.34220412373542786,2.5256964564323425 2.292458862066269,2.3672449588775635 l1.0190795361995697,0.16761744394898415 -2.020152062177658,3.1195759773254395 l-1.6401758790016174,2.7850916981697083 -0.0041436750325374305,0.05792289040982723 l2.748909592628479,2.313922196626663 -1.6054311394691467,3.594057559967041 l-0.9453412145376205,2.8232407569885254 -1.2372711300849915,2.9241594672203064 l1.009104996919632,-0.5585372447967529 -1.4504064619541168,3.4100928902626038 m-1.5232041478157043,2.788011133670807 l-1.792639046907425,2.7003297209739685 3.926675319671631,1.2746702134609222 l0.0690235709771514,0.9671875834465027 -1.544615924358368,1.9660557806491852 l-1.4227542281150818,3.1684711575508118 1.8452709913253784,1.7215056717395782 l3.235633373260498,1.6810238361358643 2.713462710380554,0.6509948521852493 l0.7452380657196045,1.5703943371772766 0.928671583533287,0.06955828052014112 l-1.129145473241806,3.314269185066223 -1.5793262422084808,4.0545907616615295 l-2.059524804353714,2.909266948699951 -1.5348218381404877,-1.8772542476654053 l-0.5976972728967667,3.082696497440338 -0.5893407389521599,2.407277077436447 l0.6798981875181198,0.1990365982055664 -1.5262319147586823,1.3628660142421722 l1.9085502624511719,1.8091146647930145 m-212.92734553528135,-471.48364552893327 l5.186929702758789,0.39240479469299316 0.5376088619232178,4.915058612823486 m0.26793649420142174,1.1067643761634827 m-2.015765756368637,0.8560945838689804 l-1.2874455749988556,0.7662142068147659 4.765577912330627,1.6333186626434326 l0.16433876007795334,4.687540829181671 2.2568318247795105,3.02178293466568 l-0.47857798635959625,3.855067491531372 -0.20566659048199654,3.649095296859741 l-0.6486234813928604,3.6072540283203125 -0.35464681684970856,3.3057239651679993 l-1.6133902966976166,0.8594201505184174 -0.33802367746829987,3.1304267048835754 l-1.8803387880325317,1.0033906251192093 2.80703067779541,2.612520158290863 l2.7311521768569946,1.000898852944374 m-0.11538159102201462,3.5669896006584167 l1.9872874021530151,1.8694792687892914 1.7935088276863098,1.2527714669704437 l2.9408463835716248,1.7991594970226288 -0.6599608808755875,3.376821279525757 l2.6403316855430603,1.4996236562728882 -2.783055603504181,3.893546760082245 m3.2517939805984497,1.2650327384471893 l1.8944762647151947,1.7919495701789856 2.499826103448868,1.344081163406372 l2.830384075641632,1.384304016828537 m2.1982739865779877,1.0509656369686127 l2.58482962846756,1.3080701231956482 m1.9968166947364807,2.135128825902939 m2.4433568120002747,1.3246190547943115 m2.773873805999756,1.8577517569065094 m1.8840514123439789,1.8336890637874603 m2.3553763329982758,1.273244172334671 m3.1271573901176453,1.316390335559845 m2.497512847185135,1.6609078645706177 m2.187991291284561,1.9475895166397095 m2.0588742196559906,1.701272577047348 l2.1118751168251038,2.0117253065109253 m2.788267731666565,1.394265592098236 m2.2155864536762238,2.0380331575870514 m1.9643060863018036,0.8350083231925964 m2.8386348485946655,1.839621365070343 m2.2147679328918457,1.5828090906143188 l2.4385102093219757,1.85651496052742 3.531477451324463,1.60430446267128 l1.9614897668361664,0.928117111325264 -1.2536042928695679,3.1068938970565796 l2.630397081375122,2.0884212851524353 -0.8348044753074646,2.7355769276618958 l1.9444377720355988,1.7077936232089996 -1.6228963434696198,2.7444377541542053 l2.6727890968322754,1.456088125705719 1.7741136252880096,1.1980913579463959 l1.531265527009964,1.610429733991623 m2.6149728894233704,1.3049188256263733 l2.4911919236183167,1.3976399600505829 m2.44611456990242,1.199067011475563 m3.3865341544151306,1.8479204177856445 m1.9710229337215424,1.7468783259391785 l-1.3244947791099548,2.619236707687378 1.8957042694091797,1.7470990121364594 m2.897847592830658,1.546013206243515 l-1.055908426642418,2.879149913787842 2.014962136745453,1.7166483402252197 l1.9171053171157837,2.1772554516792297 3.007577657699585,1.8531610071659088 m1.9050857424736023,1.2827904522418976 m2.6473695039749146,2.0102939009666443 m-1.7195655405521393,3.914337456226349 m-2.6620247960090637,2.9237258434295654 l3.9194726943969727,1.8708933889865875 m1.8872426450252533,1.2335456162691116 l2.359815537929535,1.429486721754074 1.723313331604004,1.383122056722641 l1.4079518616199493,1.288554072380066 -1.0053964704275131,2.8112956881523132 m2.2898797690868378,1.7699338495731354 l3.307252824306488,0.9623239189386368 m2.3013919591903687,2.176593244075775 l2.3542284965515137,2.0496395230293274 2.2932954132556915,1.3494259119033813 l0.6342484056949615,0.03744473680853844 4.6630629897117615,1.2637056410312653 m2.410147935152054,1.2430334836244583 l2.6924628019332886,1.6978241503238678 2.082560956478119,1.1987008154392242 l2.8108561038970947,1.2046732753515244 -0.6828892976045609,2.4093201756477356 l2.469061017036438,1.622280776500702 2.7338075637817383,1.9595211744308472 l2.061038464307785,1.749948114156723 m-1.708379089832306,-2.617393434047699 m1.5125076472759247,1.6795286536216736 m5.854976773262024,2.030956447124481 m-1.3000349700450897,-1.6803950071334839 m2.3574595153331757,1.1731376498937607 m1.1342571675777435,0.16008231788873672 l1.4156782627105713,1.6868069767951965 2.361753135919571,1.299707442522049 l2.051458954811096,1.231236383318901 2.5782155990600586,1.8371114134788513 m2.0476485788822174,1.272343248128891 m1.5740816295146942,1.0000917315483093 l2.3258186876773834,1.7843170464038849 1.5796248614788055,1.703401505947113 l2.262285202741623,1.3439638912677765 2.540070116519928,1.8950948119163513 l2.2526828944683075,1.4331714808940887 m2.871260643005371,1.4255964756011963 m3.1099659204483032,1.3260462880134583 l2.042553573846817,1.186736598610878 m-1.1597873270511627,2.950616180896759 m1.3475984334945679,0.7695363461971283 l5.380576848983765,2.0459499955177307 2.1358005702495575,1.0976789891719818 l1.2466463446617126,1.8139618635177612 2.1730388700962067,1.564868837594986 l1.6150006651878357,1.4092007279396057 -0.7078998535871506,2.796632945537567 l-1.655157208442688,3.2405826449394226 2.296057790517807,1.8173576891422272 l1.88106968998909,1.876457929611206 2.67220139503479,1.6822539269924164 l1.1492469906806946,1.4077924191951752 2.96192467212677,1.192239373922348 l1.9353526830673218,1.8650627136230469 2.33828142285347,1.436743140220642 l3.3315327763557434,1.1845239996910095 -1.8281057476997375,-0.7028791308403015 m-2.1493972837924957,2.4176597595214844 l2.308669537305832,2.1336619555950165 1.4758855104446411,1.1427351832389832 m1.8791787326335907,1.4739514887332916 l2.122592180967331,1.4747200906276703 -0.9349303692579269,2.722594738006592 l1.7315712571144104,2.1611565351486206 2.0220641791820526,2.071688026189804 l1.5447448194026947,1.2715280055999756 1.9262994825839996,1.9587495923042297 l-0.8150011301040649,2.6279261708259583 m2.4160629510879517,1.742880791425705 l1.8394827842712402,0.36490943282842636 2.9334113001823425,2.058369964361191 l3.220437169075012,2.172408849000931 m-0.684778094291687,3.226824998855591 l2.250075340270996,1.8426728248596191 3.417350947856903,1.3484443724155426 l-1.7582924664020538,2.8276661038398743 0.7324276864528656,0.668049082159996 l-0.6510761380195618,2.8892266750335693 -1.1036022007465363,2.551020085811615 l2.292402535676956,2.0071423053741455 -0.9868016839027405,2.2194989025592804 l2.7987703680992126,1.8212974071502686 m-0.7754568755626678,2.899123728275299 l2.743062376976013,1.7418405413627625 2.453165054321289,1.7565561830997467 l0.7065095752477646,0.7889089733362198 -1.596408635377884,0.9408458322286606 l3.232664167881012,2.06496000289917 2.067188322544098,1.416005939245224 l2.0296861231327057,2.038324475288391 1.7878220975399017,1.5163716673851013 l0.05465217400342226,2.5293204188346863 3.106061816215515,2.1729303896427155 l0.7886543124914169,0.24437196552753448 0.5378475785255432,0.4662676900625229 l1.5139777958393097,0.43472588062286377 -0.1903950236737728,3.0123016238212585 l-0.3244002163410187,2.071288228034973 -0.2664223127067089,2.8544193506240845 l2.2710302472114563,2.2047170996665955 2.492024153470993,1.901097446680069 l1.9441752135753632,2.1164557337760925 0.04601622465997934,2.930237054824829 l-1.3536320626735687,3.057968318462372 m2.860327959060669,1.7675383388996124 l-1.3079150021076202,2.3232944309711456 2.4716590344905853,1.6978858411312103 l2.3442289233207703,2.0464062690734863 -2.041609287261963,3.120999038219452 l1.1576507240533829,0.7127092033624649 2.63590931892395,2.2428593039512634 l-2.2892212867736816,3.0057406425476074 2.7595937252044678,2.071865499019623 l-1.2352967262268066,2.965446412563324 1.4418581128120422,0.1379772275686264 l-0.9750200062990189,2.8346917033195496 1.8238480389118195,1.6980929672718048 l1.7762677371501923,1.8247036635875702 2.1705083549022675,1.8984448909759521 l0.28694236651062965,2.259737253189087 -1.6561031341552734,3.1875503063201904 l-0.359160453081131,2.4661417305469513 -0.9151247143745422,2.2613562643527985 l1.3439351320266724,0.5730487033724785 -0.7378470152616501,2.696923613548279 l1.5713132917881012,1.9325190782546997 2.0916390419006348,1.9385556876659393 l0.6717755645513535,0.0033207520027644932 0.7782737910747528,0.3323923796415329 l-1.662609875202179,3.8105708360671997 -1.2868313491344452,2.842496335506439 l2.180463820695877,2.327158749103546 m2.642768621444702,2.334313839673996 l2.504453957080841,2.0943522453308105 2.1850647032260895,2.370600402355194 l2.9114022850990295,1.6927435994148254 1.2030504643917084,0.6037209555506706 l2.224898189306259,1.9874966144561768 1.5395896136760712,2.526167631149292 l2.3314309120178223,2.8941962122917175 2.0058228075504303,1.861235499382019 l2.720302641391754,1.7986184358596802 -0.6992772966623306,-0.7983365654945374 l1.7985035479068756,1.1639828234910965 -0.8507650345563889,-1.8626420199871063 l1.6245676577091217,2.3751717805862427 1.1094339191913605,0.24948520585894585 l-0.8682965487241745,2.3906059563159943 m2.3769186437129974,1.341261863708496 m1.6345545649528503,2.4229227006435394 l-1.6991589963436127,2.910076677799225 -1.6649433970451355,2.7819982171058655 l-0.10528041981160641,2.9493674635887146 -0.7582362741231918,2.976950705051422 l-0.8399613201618195,-1.3167531788349152 1.7749536037445068,1.667676717042923 l-0.7066013664007187,3.625369369983673 1.0791953653097153,0.5821757018566132 m2.7507176995277405,1.771824061870575 l-1.7959240078926086,3.307260572910309 2.1061792969703674,1.7459732294082642 l3.237946629524231,2.029930502176285 -0.36676667630672455,2.384410947561264 l3.03627610206604,2.194400280714035 1.5264153480529785,0.034447493962943554 l-1.0785084962844849,2.588687241077423 2.169297933578491,1.5976157784461975 l1.2450816482305527,1.2451203167438507 3.268681764602661,1.2367676943540573 l-1.353311538696289,2.5594478845596313 2.1385377645492554,2.035251408815384 l3.6822301149368286,1.8614687025547028 2.1158500015735626,1.5590111911296844 l2.3125451803207397,2.3129022121429443 2.5119516253471375,1.23789481818676 l1.440293937921524,1.5065078437328339 m-239.68585764290765,-418.64198923358344 l0.10672803036868572,4.794510900974274 5.12844979763031,1.8670162558555603 l0.3167334571480751,4.47945237159729 0.01413357793353498,4.459810853004456 l-0.4222530871629715,4.095740616321564 -0.8520910888910294,4.393214285373688 l-0.67422054708004,4.206661283969879 -1.1119028180837631,3.8681137561798096 l-0.9929833561182022,3.677726089954376 -1.3264653086662292,3.7363922595977783 l-1.290462613105774,3.306696116924286 -1.3699597120285034,3.139806389808655 l1.3902860879898071,2.6871436834335327 -0.5823599174618721,3.202316164970398 m2.98026442527771,0.9336375445127487 l2.6293423771858215,1.1824721843004227 -0.905185267329216,3.3371272683143616 m-1.4671963453292847,4.145549535751343 l2.063136100769043,1.401471495628357 2.5905203819274902,0.8856308460235596 l2.3073868453502655,1.1948644369840622 m2.3439590632915497,1.2063498795032501 m5.8351731300354,1.1706192046403885 m-1.81426540017128,0.40636688470840454 m1.1798393726348877,1.4655590057373047 m2.1268057823181152,1.611476093530655 l-0.09727904573082924,3.047652840614319 1.7343327403068542,1.310444325208664 l1.2598906457424164,1.5870893001556396 2.2211627662181854,1.7279306054115295 l1.8175369501113892,2.0798400044441223 m1.3382306694984436,1.5056625008583069 m1.7951582372188568,1.911926418542862 l2.4388250708580017,1.544051319360733 m-2.383907735347748,2.184019088745117 m1.7844656109809875,1.668953150510788 m2.648613154888153,1.761866807937622 m2.132198065519333,1.8476366996765137 l-0.13955430127680302,3.44728946685791 m2.153330147266388,1.6067780554294586 l1.2666571140289307,1.6080322861671448 1.6831038892269135,1.0151226073503494 m2.749420702457428,1.2000808119773865 m1.685207188129425,1.0142705589532852 l2.956279218196869,1.8178793787956238 m2.3270806670188904,1.6505832970142365 m2.0217010378837585,1.0784095525741577 l1.978568583726883,1.0627205669879913 2.5856029987335205,1.5302205085754395 m1.2106138467788696,0.6214763224124908 m2.048487961292267,0.9595482796430588 l1.7396384477615356,1.7062841355800629 m2.8217169642448425,2.0485180616378784 m1.8393456935882568,1.3574591279029846 m1.3489507138729095,1.4199970662593842 m2.0190976560115814,1.0813690721988678 m1.736617535352707,1.1370402574539185 m1.1918071657419205,1.4322225749492645 l1.663854569196701,1.112767681479454 1.930011659860611,0.7572679221630096 m2.246072441339493,1.3110098242759705 l1.4747090637683868,1.1904540657997131 1.9322800636291504,0.90658999979496 m1.3781540095806122,0.98490871489048 m1.1916723847389221,1.1202222853899002 m1.5749254822731018,1.6649632155895233 m1.511569619178772,1.084137111902237 m1.8689614534378052,0.7249847799539566 l2.6503124833106995,1.2929925322532654 2.334669381380081,1.2352310121059418 m1.7025867104530334,0.9353038668632507 l1.8897731602191925,1.2708142399787903 1.6784411668777466,1.0666225105524063 l1.7195461690425873,0.5619841814041138 2.726491689682007,1.2982317805290222 m1.650160700082779,0.8284381777048111 l-1.6408447921276093,2.4528200924396515 m0.9416687488555908,1.5431967377662659 l2.0453208684921265,0.6844314932823181 m-0.8558167517185211,2.1858102083206177 l2.267560064792633,1.4606863260269165 2.7256745100021362,1.1616956442594528 l-1.3455531001091003,-1.4468428492546082 1.199071928858757,1.4821228384971619 l-0.41127026081085205,2.1561896800994873 m1.922355443239212,1.4938361942768097 l1.2351182103157043,1.3618047535419464 -0.6167754158377647,2.072366774082184 m1.5560130774974823,0.85792176425457 m1.5459281206130981,0.9638073295354843 l1.9505329430103302,0.8518186211585999 2.094515711069107,1.320081651210785 l2.1337413787841797,1.0112369060516357 1.2536199390888214,1.1038164049386978 l2.1106845140457153,1.2162049114704132 1.24636210501194,1.0974869132041931 m2.1275456249713898,1.8185105919837952 m1.7464859783649445,1.2326157093048096 l2.1833401918411255,0.9324032813310623 m-0.6210481002926826,1.5412867069244385 l2.1957457065582275,2.0591484010219574 1.5097340941429138,1.5731169283390045 l-0.07769447285681963,2.5833916664123535 2.823951840400696,1.4054466784000397 l2.155880481004715,1.310468465089798 -1.0413269698619843,2.7838200330734253 m2.7956676483154297,1.7009830474853516 l2.778986096382141,1.0265900194644928 m2.217296212911606,1.3008244335651398 l1.9787120819091797,1.1354227364063263 m1.996261328458786,1.1719166487455368 l1.9416147470474243,1.2897948920726776 2.346135824918747,1.569705456495285 l2.2893263399600983,1.6711769998073578 m0.03265647450461984,0.5159537121653557 m1.9347134232521057,1.0285837203264236 l-0.4577992483973503,2.4611519277095795 m-0.47477610409259796,2.3041321337223053 l2.1880249679088593,1.5289713442325592 m1.9469980895519257,1.7597374320030212 l-0.755876824259758,2.306254208087921 m2.3288972675800323,1.978497952222824 l1.9262146949768066,0.9556575864553452 1.5537118911743164,0.9732446819543839 l-1.2891213595867157,2.270396500825882 m1.4822660386562347,1.6002331674098969 l1.6532306373119354,1.3638029992580414 m2.2336727380752563,1.1828843504190445 l0.9474949538707733,1.148744374513626 1.0814186930656433,0.8960768580436707 l2.154519557952881,1.3978338241577148 m1.7318660020828247,0.8142486959695816 m-0.18468432128429413,0.8460500836372375 l1.6717174649238586,1.0431095957756042 m3.8959136605262756,0.928703099489212 m1.2778539955615997,0.8586038649082184 m1.380973756313324,1.3928328454494476 m1.4877530932426453,0.8984141796827316 m1.6222631931304932,1.6767454147338867 l1.5897256135940552,1.405676007270813 1.6219860315322876,1.1352528631687164 l1.0282783210277557,0.7762306928634644 1.4112275838851929,1.2829816341400146 l0.7025238126516342,1.2804874777793884 4.554398953914642,2.050812542438507 l1.997525691986084,1.467098891735077 1.7134015262126923,1.4021223783493042 l-0.802360326051712,2.4415309727191925 -0.9269034117460251,2.527305781841278 l1.9572155177593231,1.1342838406562805 -0.043174177408218384,2.673318386077881 l1.2849107384681702,1.0696107149124146 1.3127855956554413,1.5254858136177063 l-1.1714674532413483,-0.5111956223845482 1.162928268313408,1.025054082274437 m0.9948102384805679,1.0318948328495026 m2.0813806354999542,0.8165482431650162 l1.8869806826114655,1.1655495315790176 1.912342756986618,2.024395763874054 l1.961071938276291,1.5499821305274963 m2.2522760927677155,0.5844618007540703 l1.963421255350113,0.8774154633283615 1.4233727753162384,0.8667700737714767 l1.8887150287628174,2.215360552072525 m1.318707913160324,0.8766548335552216 m0.9065747261047363,1.6008417308330536 l0.9187386184930801,0.9920040518045425 -0.24372097104787827,2.230353057384491 l-0.9793099761009216,1.9656206667423248 m1.3047151267528534,0.46951569616794586 l1.408378928899765,0.4639206826686859 1.8745698034763336,1.3772155344486237 m1.562846302986145,1.788201928138733 l5.394781827926636,0.4648832231760025 2.1036942303180695,1.587689071893692 l2.146148383617401,1.3303831219673157 1.5982930362224579,1.545426845550537 l1.6699881851673126,1.5582375228404999 2.065567970275879,1.1966877430677414 l1.391293704509735,1.5673500299453735 -0.45516837388277054,2.2257085144519806 l0.8472991734743118,0.5462651699781418 1.7113909125328064,0.37674177438020706 l2.0653311908245087,1.30433589220047 1.1166733503341675,0.712508037686348 m-0.8550367504358292,3.2880300283432007 l1.4944930374622345,1.7876850068569183 1.954081952571869,0.9367331862449646 l-0.9828381985425949,2.1574725210666656 -1.1411453038454056,3.275705575942993 m1.741834282875061,1.7434979975223541 m-1.0782967507839203,2.8746607899665833 m0.9446582943201065,1.8265911936759949 l1.6041402518749237,1.1902380734682083 m1.307045966386795,1.645924150943756 l1.0870061814785004,1.3290771842002869 1.1056063324213028,1.4331528544425964 m0.2711663022637367,0.31165212392807007 l-0.5228185281157494,2.5348344445228577 0.9946762025356293,1.6814427077770233 l-0.534517914056778,-0.22263841703534126 2.159009873867035,1.5704070031642914 l2.534601390361786,1.1952628940343857 m0.9119410812854767,0.7523351907730103 l1.5494005382061005,1.1967620998620987 -0.14054077677428722,0.1954977959394455 l2.89235919713974,1.0468678176403046 0.928887277841568,0.5384083092212677 m-1.6560754179954529,2.7225661277770996 l4.142391383647919,1.1943243443965912 m-0.5939681082963943,2.671196460723877 l1.7655004560947418,1.7531703412532806 m-1.4398269355297089,3.227955400943756 l-0.7696732133626938,2.2634364664554596 -0.22578315809369087,2.382088154554367 m0.7840371131896973,1.8251119554042816 l1.241055354475975,1.0226742923259735 1.2888939678668976,1.3772384822368622 l1.3284337520599365,1.6260938346385956 2.1652044355869293,1.0621735453605652 l1.061839908361435,0.7263163477182388 1.6779398918151855,1.4802336692810059 l1.2382673472166061,0.7354847341775894 1.4776770770549774,1.5354809165000916 l-0.5772866681218147,2.353147119283676 -1.803666204214096,-1.7679496109485626 m1.7251454293727875,1.2474912405014038 m-1.542849987745285,2.2151273488998413 l1.9755570590496063,1.1914654821157455 1.848410815000534,1.3664714992046356 m0.9831710159778595,1.1212804913520813 l1.8541160225868225,1.2726888060569763 0.9780199825763702,1.129424199461937 l-0.27225224301218987,2.5823652744293213 -0.22081971168518066,2.0205658674240112 l-0.49793586134910583,2.727596163749695 m1.3815203309059143,1.8309570848941803 l1.1381075531244278,1.1623670905828476 0.9702819585800171,1.441514790058136 l-0.142710842192173,2.6856303215026855 -0.44505245983600616,2.213844507932663 l2.2078008949756622,1.6302941739559174 1.8033835291862488,1.7735543847084045 l-0.9411032497882843,2.593543827533722 -1.2830008566379547,-2.85156786441803 l2.367144227027893,1.4725413918495178 1.916622519493103,1.3154476881027222 l-0.9825581312179565,3.4208983182907104 1.5685336291790009,1.4890332520008087 l0.12557771056890488,2.451271116733551 m-113.39015753692365,-339.2798554985711 l1.5509022772312164,3.690389394760132 1.6720941662788391,3.06051105260849 l0.4269919916987419,3.775075674057007 -0.9365130215883255,3.4957048296928406 l-0.8557410538196564,3.648589551448822 -0.7034936547279358,3.853612244129181 l-0.8564641326665878,3.3454954624176025 -0.4312621057033539,3.7380805611610413 l-1.3692665100097656,3.090801239013672 -0.5345282703638077,3.6263540387153625 l0.42346660047769547,2.662336826324463 -0.949447900056839,3.2234054803848267 l0.43217848986387253,3.28428715467453 -0.5393411591649055,3.5278552770614624 l-1.0590705275535583,3.8608211278915405 -0.5279636383056641,3.3145728707313538 l-0.6271430104970932,3.1431663036346436 -0.06525584962219,3.794582486152649 l-0.2741524577140808,3.3762577176094055 -0.8393494784832001,3.1924620270729065 l-0.15280494466423988,3.0392837524414062 0.756598636507988,0.4231312498450279 l0.4310760647058487,0.9484472870826721 0.06281350273638964,3.4198802709579468 l-0.919329896569252,3.665739893913269 m1.0512258857488632,0.5915982276201248 m-0.7066512852907181,3.2863152027130127 m-0.7619643956422806,3.158664107322693 l0.2713811956346035,2.9161781072616577 m0.5803699791431427,1.7618556320667267 m1.5045194327831268,0.7168186455965042 l-0.2029987797141075,2.2902877628803253 1.341635137796402,0.8041512221097946 m1.9947364926338196,0.3883063420653343 m1.7034071683883667,1.6448290646076202 m1.2297657132148743,1.4461450278759003 l-1.4755865931510925,2.875370979309082 0.5053089559078217,1.3231530785560608 m1.7710274457931519,0.7613802701234818 l1.9786253571510315,0.6235811859369278 m1.440211832523346,0.4396219179034233 m2.0251891016960144,1.1369136720895767 l-0.3332231193780899,3.035391867160797 1.4911144971847534,1.716931015253067 m1.085859015583992,0.41837990283966064 m1.5532298386096954,0.23096850141882896 m1.7541037499904633,0.5591843649744987 m-0.6422416120767593,2.6863133907318115 m1.385539472103119,1.0411912202835083 l1.3266177475452423,1.3592036068439484 m0.461428202688694,0.8568171411752701 m4.466131925582886,1.1443514376878738 m1.4922411739826202,0.7035519927740097 m0.8890107274055481,0.7737778872251511 m1.4985603094100952,1.1295391619205475 m1.028226613998413,1.4571769535541534 l1.2160682678222656,0.7510818541049957 0.6991493701934814,0.5460108816623688 l1.2404541671276093,0.46158626675605774 m1.3822385668754578,0.3778427839279175 m0.3319305181503296,0.5388762801885605 l0.9660913795232773,1.0610049962997437 -0.8942161500453949,2.648042142391205 l0.6377197057008743,0.1768854819238186 1.3603556156158447,1.0805939137935638 l0.4818481579422951,0.9899904578924179 m1.2982513010501862,0.4342365637421608 m1.8545874953269958,0.29432570561766624 l1.3253068923950195,0.6234734505414963 0.39335131645202637,1.0379674285650253 m1.3903962075710297,0.389658659696579 m1.031922623515129,0.48788875341415405 m1.560932844877243,0.11016753502190113 m-0.8444879204034805,2.5465798377990723 l0.06151950918138027,0.4648245871067047 m0.8156919479370117,-0.010132219176739454 l0.754847452044487,0.47979164868593216 1.7337225377559662,0.5283618345856667 m-1.5248788893222809,2.4938538670539856 m1.3620534539222717,1.2272115796804428 m0.43674901127815247,0.27137961238622665 l1.0062582790851593,0.4301166906952858 1.0471200197935104,0.44810105115175247 m1.3561174273490906,0.976836308836937 m0.8205527812242508,0.7515940815210342 m1.3084299862384796,0.10541184805333614 l-1.3445943593978882,-2.6180705428123474 m0.9385613352060318,0.6755281239748001 l-1.59505233168602,2.45258629322052 -0.9550747275352478,0.12076770886778831 l1.304267793893814,0.721132904291153 -1.593676507472992,2.3346851766109467 l1.559966504573822,1.0351672023534775 m-1.6068357229232788,1.8887729942798615 l0.24435820057988167,0.6723441928625107 1.554812639951706,0.6301232427358627 l-0.2839144505560398,0.46929962933063507 0.7894570380449295,0.3396478295326233 l1.1066550761461258,0.743168368935585 1.9086293876171112,0.6267115473747253 l1.4566847681999207,1.1497273296117783 m0.5745005235075951,0.26064516976475716 m0.28785914182662964,0.14031375758349895 l1.0441826283931732,0.2990780957043171 -0.6125825643539429,2.9892146587371826 l-1.0150019824504852,1.6925139725208282 m1.2020295858383179,0.31020594760775566 l-0.5977623537182808,2.6872140169143677 1.1512406170368195,0.7138857990503311 l-0.9397013485431671,2.6607751846313477 0.23844987154006958,0.19946519285440445 l0.7105788588523865,0.28608474880456924 m0.5330346524715424,0.08439796976745129 l-1.229184940457344,2.8462830185890198 m0.33432096242904663,0.623435452580452 l1.2278798967599869,0.8905769884586334 0.500219315290451,0.7257657498121262 m-0.5593855306506157,2.378464788198471 m-0.44588882476091385,-2.858557403087616 l1.0707302391529083,0.20320819690823555 0.5635502561926842,0.24860601872205734 l-0.33508557826280594,1.557656079530716 m-0.9051766246557236,1.8778856098651886 l-0.6135588139295578,2.2076930105686188 -1.0485057532787323,2.7834051847457886 l1.0423122346401215,0.5691361799836159 m0.7871866226196289,-0.13117526657879353 m0.39076201617717743,0.07963880896568298 l1.6831769049167633,0.4711568355560303 0.29053574427962303,0.4927726835012436 m-1.2298662960529327,2.413787990808487 l-0.8854037523269653,2.1036286652088165 0.829852819442749,0.34446801990270615 l-0.4462798312306404,-0.06674611009657383 1.0774274915456772,0.6350773572921753 l-0.7120911777019501,2.4736689031124115 0.4215136915445328,0.5439672619104385 m-0.8249863982200623,1.8520963191986084 m-0.9286071360111237,1.8790112435817719 l1.1694849282503128,0.44316239655017853 1.168907806277275,-0.24716565385460854 m0.48523660749197006,0.9023591130971909 m-0.09042421355843544,-0.05534089170396328 l0.5548238009214401,0.06051208358258009 1.3149872422218323,0.4492758959531784 l0.5391208082437515,0.7313130795955658 0.6837956607341766,0.4493720829486847 l0.9881054610013962,0.16599874943494797 -1.0139818489551544,1.9642436504364014 l0.3496236726641655,-0.017370838904753327 m0.45991234481334686,-0.059378999285399914 l4.5542311668396,1.5364691615104675 -0.9188215434551239,1.711982637643814 l0.9197511523962021,0.05281583406031132 m0.9171661734580994,0.5862464755773544 l3.0691269040107727,1.5694975852966309 0.7168177515268326,0.5237078294157982 l1.2999175488948822,0.6512778252363205 0.606391504406929,0.3599676862359047 l0.24399267509579659,0.3220246359705925 m1.0446606576442719,0.5550702288746834 l2.859223783016205,1.6617320477962494 1.0047013312578201,-0.1567397452890873 l-0.8286277949810028,2.0243269205093384 3.642278015613556,1.4454874396324158 l0.128024248406291,0.37851452827453613 0.42983468621969223,0.5917391926050186 l0.1810123771429062,0.7230690866708755 -0.5879500135779381,1.821112334728241 l-1.0926725715398788,1.8403829634189606 1.0727371275424957,0.6961789727210999 l-0.08984306827187538,1.422271579504013 m-0.21372543647885323,0.17821645364165306 l0.6667125970125198,0.7293060421943665 -0.7386449724435806,2.449786365032196 l0.0035390022094361484,2.600773870944977 1.7055459320545197,-0.08666901849210262 l-1.574070155620575,3.198283314704895 -0.8875241130590439,1.5958848595619202 l-1.0145649313926697,3.031880557537079 0.8805449306964874,0.4506530240178108 m0.42988527566194534,0.5291114747524261 l-0.8642358332872391,2.2696878015995026 -0.09952506050467491,1.9305242598056793 l0.6191890686750412,0.03632778534665704 0.8961209654808044,0.12217765673995018 l0.026781135238707066,0.6525056809186935 m0.9035978466272354,0.4304468631744385 l0.4482245072722435,0.4952207952737808 -1.2176769971847534,1.2868677079677582 l0.10187364183366299,0.4627920687198639 1.212167963385582,0.6172891706228256 m-1.2987419962882996,1.4152699708938599 l0.18121857196092606,0.19978785887360573 0.5530176311731339,0.5470709130167961 l0.1485909428447485,0.7507959008216858 -0.7930133491754532,2.273598164319992 l0.7681670039892197,0.44626384973526 1.1088348180055618,0.869259387254715 l0.3606231138110161,0.7460560649633408 0.5315154418349266,0.20005309954285622 l-0.6350542604923248,1.9822399318218231 -1.2328921258449554,2.2723205387592316 l0.49240611493587494,0.2619114890694618 1.4275424182415009,0.47809556126594543 l-0.1623757742345333,0.4660976678133011 1.5038962662220001,0.23713845759630203 l-0.4125913977622986,1.5969327092170715 0.2666528895497322,0.36843691021203995 l0.5419154837727547,0.5580338090658188 0.9562157839536667,0.47741301357746124 l0.39297938346862793,0.1794937066733837 0.2785869315266609,-0.045135593973100185 l0.9963617473840714,0.26160841807723045 0.2517600543797016,0.36796003580093384 l1.056959182024002,0.4675494134426117 -1.0670128464698792,2.0215989649295807 l-0.3676113858819008,1.4042043685913086 1.194111853837967,0.43941937386989594 l0.6627228111028671,0.711468979716301 0.8568362146615982,-0.0019439154129941016 l-0.02557955915108323,0.42108144611120224 0.9351632744073868,0.8428815007209778 l1.285741925239563,0.5208200588822365 0.18732765689492226,-2.194991558790207 l0.29344983398914337,-0.18070006743073463 -1.180029809474945,2.4352090060710907 m-0.39064202457666397,-1.2423433363437653 l0.24995246902108192,0.3092997334897518 0.41759245097637177,-0.41600335389375687 l-1.6127082705497742,2.376568019390106 0.5503864958882332,0.15685047954320908 l-0.8517565578222275,1.887805312871933 0.8901121467351913,0.0011989390623057261 l0.7921623438596725,0.9222769737243652 -1.070750430226326,1.8152442574501038 l-1.3409309089183807,2.4329406023025513 0.33086638897657394,0.6051593273878098 m-0.9325455129146576,-2.0914654433727264 l-1.3957016170024872,2.646850049495697 0.9022720903158188,1.1389757692813873 m-1.1052127182483673,1.8173748254776 l0.7267054915428162,0.3413398563861847 0.9901310503482819,0.031989195849746466 l-0.983167365193367,1.6093139350414276 -0.21303635090589523,0.19436180591583252 m0.9775590151548386,0.17225652933120728 l1.1124277114868164,0.1983451470732689 -1.661912202835083,2.378568649291992 l0.7765092700719833,0.9474119544029236 m54.76308939410956,-210.01754456850904 l1.4251747727394104,3.0897313356399536 1.417790800333023,0.79207643866539 l-0.8894827961921692,2.2725488245487213 -0.22210871800780296,2.0474252104759216 l0.7970020174980164,2.4218516051769257 -0.24662544950842857,1.7435085773468018 l1.4235638082027435,2.255258411169052 -0.444040484726429,2.333722561597824 l-1.0775190591812134,3.0353865027427673 -0.08209091611206532,2.3640625178813934 l-0.1269227359443903,2.359352558851242 -0.22183571010828018,1.6057954728603363 l-1.1301515996456146,2.4420641362667084 -0.9906698018312454,1.8379876017570496 l-0.4036611318588257,1.5500147640705109 -0.7078473269939423,1.5808157622814178 l0.8670175820589066,1.9892141222953796 -0.21815218031406403,1.3543038070201874 l-1.3816261291503906,1.7824161052703857 -0.7560884207487106,1.9095221161842346 l-0.5304313078522682,1.4289020001888275 -0.22511592134833336,1.4533834159374237 l-0.5770384892821312,1.2988242506980896 -0.46479482203722,1.929265707731247 l0.21040184423327446,1.9558598101139069 -0.5638900399208069,1.134759560227394 l-0.760076567530632,1.158147156238556 -1.4607132971286774,1.5409494936466217 l-2.550303041934967,1.2788550555706024 -0.7592320442199707,1.2823303043842316 l-0.6194925680756569,1.6880039870738983 -1.2221269309520721,1.5054716169834137 l1.0425519943237305,-0.6651104241609573 -1.6263212263584137,1.2659718096256256 l-1.5852558612823486,1.6129978001117706 0.19800057634711266,-0.6388082355260849 l0.8571239560842514,0.00819966197013855 -0.8255830407142639,1.5941385924816132 l1.1770324409008026,-0.8034173399209976 m-0.045632882975041866,-0.3411438688635826 m-0.899171456694603,1.3849413394927979 l-1.2915118038654327,1.363292783498764 -1.8707969784736633,2.1158263087272644 m-0.6344734877347946,1.2696970999240875 m-1.0921680927276611,1.7230905592441559 m-0.9962090104818344,1.3765861093997955 l-0.36015357822179794,0.9293042123317719 0.4428020864725113,-0.29951436445116997 l-0.6898348033428192,0.8408400416374207 -0.4182971641421318,1.7676784098148346 l0.7764358073472977,0.3304753452539444 -0.8195532858371735,0.8691415935754776 m-1.4705882966518402,1.1767470836639404 l-0.9867022186517715,0.8045361936092377 0.3026367537677288,-0.046663130633533 l-0.9567593038082123,1.9565881788730621 0.79499751329422,0.8655262738466263 l-0.6499067693948746,1.0091090202331543 -0.7547421753406525,1.4762543141841888 l-0.7527145743370056,1.2342225015163422 -1.3317909836769104,1.1702898889780045 l-1.061684861779213,1.473390907049179 -0.21265676245093346,-0.6331346929073334 l0.7345953583717346,0.3718077391386032 -0.06719301920384169,1.1624376475811005 l1.5152950584888458,0.08472898043692112 m-1.9557896256446838,1.4061963558197021 l-0.719558596611023,1.4281709492206573 m-1.096794232726097,1.3894852995872498 m-0.5826842412352562,1.140713393688202 l1.1866597086191177,-0.5746310949325562 0.8952146768569946,-0.4858497902750969 l-0.1969088613986969,-0.6071118265390396 0.04769694525748491,-0.768168717622757 l-0.8094404637813568,1.23221255838871 -1.3691149652004242,1.513306051492691 l-1.6576559841632843,1.586269736289978 -0.04959349986165762,-0.8598995953798294 l0.22153420373797417,0.18023816868662834 0.887751504778862,0.23726914077997208 m0.6489256024360657,-0.6118928268551826 l0.7155876606702805,-0.5002651363611221 -1.1464371532201767,1.433081179857254 l-0.888216644525528,0.9327593445777893 -1.3109230995178223,0.8250267803668976 l-1.949247270822525,1.511911004781723 -0.8491247892379761,0.6820383667945862 l-0.7136218249797821,1.1940820515155792 -0.7500244677066803,0.8484553545713425 m-1.600227802991867,1.1709032952785492 l-1.423218697309494,0.9311313182115555 m2.5979414582252502,1.2207959592342377 l0.6616221368312836,-0.7912832498550415 -0.18914835527539253,-3.7793919444084167 l0.2406904101371765,-0.2586574852466583 -1.074337437748909,1.322660744190216 l-0.05888356827199459,0.8656161278486252 -0.8395901322364807,-2.1720601618289948 l0.7138214260339737,0.27974775061011314 m0.3469371423125267,0.6199540570378304 l0.630195215344429,0.9331971406936646 m1.0886255651712418,0.6428195536136627 l0.8995523303747177,0.447281152009964 -0.6142611801624298,1.726405769586563 m-1.0839779675006866,1.107720360159874 l-0.9902527183294296,1.446411907672882 1.0123110562562943,0.5563025921583176 l-0.08493046276271343,-0.37585530430078506 -1.3889986276626587,1.4140722155570984 l-0.17091995105147362,0.8118639141321182 0.9750695526599884,-0.6622730940580368 m-0.24175649508833885,1.0359041392803192 l-1.666913479566574,1.2027619779109955 0.8937818557024002,-0.7767834514379501 l0.13911637477576733,-0.430496521294117 3.9312022924423218,1.3222071528434753 l0.37538763135671616,-1.789984256029129 0.715634822845459,0.5246293544769287 l0.37498295307159424,-0.9333549439907074 0.8543510735034943,-0.2900869585573673 l-0.03678530687466264,-0.5447506159543991 -0.953855961561203,0.6941544264554977 l-0.7031718641519547,0.914786159992218 m-0.08742486126720905,-0.8408519625663757 m0.7611896097660065,-0.24294637143611908 l0.05320564843714237,0.5606548488140106 0.694870725274086,0.8530376106500626 l-1.0420624166727066,1.476491093635559 -1.065531075000763,0.3840397298336029 l0.8379229158163071,0.11650891974568367 -0.6532885879278183,1.1132297664880753 l0.28952183201909065,-1.1110488325357437 0.16405200585722923,-0.4173077642917633 l0.48274148255586624,-0.3575030341744423 0.24562707170844078,-0.7606348395347595 l0.4821646958589554,-0.38586053997278214 -0.2990752086043358,1.1571992188692093 l0.6395195424556732,-0.35576261579990387 -0.9546459466218948,1.0086945444345474 l0.7280755043029785,-2.401425540447235 -0.3914109617471695,1.3000202178955078 l0.9615404158830643,-0.5683989822864532 0.11570585891604424,-0.1900259219110012 l-0.04757590591907501,-1.6333633661270142 -0.8270411938428879,1.1074315011501312 l0.13998533599078655,0.16524853184819221 0.1642211526632309,-0.11108508333563805 l-0.45018207281827927,-2.5108543038368225 0.8336801081895828,-0.27812572196125984 l-1.1469608545303345,0.524628758430481 0.2534494176506996,-0.24495942518115044 l-1.6836194694042206,1.0920501500368118 -1.1567099392414093,-2.4296480417251587 l-1.7416712641716003,1.602722555398941 m-0.09659946896135807,-0.40626920759677887 l1.0887375473976135,-0.5004067346453667 -0.32393086701631546,-0.0715359253808856 l0.7715148478746414,-0.19414523616433144 -1.1152628809213638,2.375250607728958 l0.6821297109127045,-0.20960679277777672 0.4747803509235382,-0.500716008245945 l0.9353496879339218,-0.9373972564935684 0.46773970127105713,-0.4297827184200287 l0.6025250256061554,-0.7202741503715515 -1.6196748614311218,1.360812485218048 l0.4387441650032997,-0.6431110948324203 0.6644722074270248,-0.6135864555835724 l0.5342984944581985,0.9052516520023346 0.89521124958992,-1.0636813938617706 l-1.4152663946151733,1.5532897412776947 -0.9220872074365616,1.1425520479679108 l-0.16099032014608383,-0.6665139645338058 0.7493964582681656,0.5082362145185471 l0.05307256244122982,-0.31035564839839935 0.8920704573392868,0.5539761483669281 l-1.2841060757637024,1.127864345908165 0.31440120190382004,-0.3300037607550621 m-0.6116234883666039,1.9693301618099213 l0.04184898920357227,-0.9529399126768112 -1.1828019469976425,1.5088705718517303 l-0.987485721707344,1.1225492507219315 m0.8306460827589035,-0.36829981952905655 l0.9676620364189148,0.7532328367233276 -1.2401967495679855,1.0377296060323715 l-0.5151952430605888,-0.31456056982278824 -0.05725397262722254,-0.7429593801498413 l0.143045699223876,-0.3153734654188156 -1.1574836075305939,1.7473964393138885 l-0.2335149049758911,-0.33875733613967896 -0.05064935889095068,-0.0476167444139719 l-0.025652009062469006,-0.35854101181030273 0.6433123350143433,-0.23100858554244041 m-0.4596509411931038,1.0928232967853546 l0.3414905443787575,-0.5071031302213669 -0.43560631573200226,-0.4317125678062439 l0.7572903484106064,-0.25865767151117325 0.10504885576665401,-0.7642599940299988 l-0.02501882379874587,-0.8606521785259247 -0.29617276042699814,-0.9855477511882782 m-1.3591502606868744,1.6311705112457275 l-1.0888845473527908,1.3639934360980988 -1.5077516436576843,1.6320450603961945 l-1.1276348680257797,1.6582418978214264 0.12383299879729748,-0.6139341369271278 l0.12447676621377468,-0.3175020217895508 -1.2557119131088257,1.5053389966487885 l-0.42816974222660065,1.1778832972049713 -1.3925497233867645,2.002706080675125 m3.6981040239334106,1.466553807258606 l0.5240634083747864,0.4690994322299957 -0.14557091519236565,-0.3536274656653404 l0.18009036779403687,0.599120557308197 0.28465636074543,-1.0691329836845398 l0.7882801443338394,-0.20890889689326286 -1.6473037004470825,1.011875867843628 l-0.9852178394794464,1.2552382051944733 0.16134027391672134,-0.4002872481942177 l0.5702343955636024,-0.29393816366791725 m-0.8112883567810059,1.4136506617069244 l-1.0360151529312134,1.8631337583065033 -0.7621961086988449,1.6677933931350708 l0.3453192487359047,0.5573689565062523 0.30485305935144424,0.4455834999680519 l0.537508949637413,1.0062161087989807 -1.0875437408685684,1.600298285484314 l0.9728612005710602,0.5156056955456734 0.33820878714323044,-0.2450491115450859 l-0.0262255291454494,-0.35486940294504166 1.2429529428482056,0.05401764530688524 m0.8430050313472748,-0.3048272244632244 l0.6783749163150787,0.24062830954790115 -1.2911783158779144,1.2940001487731934 l0.9115046262741089,-0.10056260973215103 0.8158218115568161,-0.20179158076643944 l0.12149452231824398,-0.4314938932657242 -0.5883083492517471,1.6458459198474884 l-0.06601017899811268,-0.6120337173342705 -1.6032575070858002,0.7779950648546219 l-0.07857139222323895,-1.1757662892341614 0.6904763728380203,-0.4177946597337723 l0.30619943514466286,-0.20670386031270027 m0.030936195980757475,-0.4271376132965088 l0.6798902153968811,0.6966408342123032 0.42264916002750397,-0.39779573678970337 l0.6747689843177795,-0.6715965270996094 -1.319616436958313,1.629014015197754 l0.7758273184299469,-0.16730774194002151 0.32691486179828644,-0.5469269305467606 l-1.1158967018127441,1.2955661118030548 -0.16374213621020317,-3.0175969004631042 m97.86332432413474,-66.22607529861853 l1.3078513741493225,3.092908263206482 m2.725321352481842,-0.07960871793329716 l-0.3100743144750595,0.6073249131441116 -0.49012597650289536,1.4858505129814148 l-0.5850398167967796,0.9423220902681351 0.07680934853851795,0.8959746360778809 m4.309819084301125,-62.27849724702537 l1.0465670377016068,2.2953279316425323 -1.6394856572151184,-3.2461580634117126 l0.026030929293483496,-0.7192020118236542 0.5866226926445961,0.2396039292216301 l0.19455434754490852,0.07557814475148916 0.4985254257917404,-0.02612711861729622 l0.6822387129068375,0.4942558705806732 0.43243464082479477,0.7438505440950394 l1.6131435334682465,0.10620635934174061 1.360601931810379,0.5457766726613045 l0.6394186615943909,0.6858896464109421 1.6895142197608948,1.5319374203681946 l2.1626053750514984,0.5071855708956718 0.9890073537826538,-0.1292877271771431 l1.2313845753669739,0.6823647767305374 1.1592615395784378,0.09572681970894337 l1.1877434700727463,0.42660314589738846 1.5949390828609467,-0.34157857298851013 l0.49019981175661087,-0.3256569057703018 0.28102587908506393,0.304409209638834 l0.6988153606653214,-0.2794436179101467 0.8804372698068619,-0.6190105155110359 l0.0630762055516243,-0.24562187492847443 0.44750768691301346,-0.903712585568428 l0.46813584864139557,-0.6599339842796326 0.40560364723205566,1.7996186017990112 l0.4198926314711571,1.4452332258224487 0.01681403024122119,-1.8368376791477203 l0.32968372106552124,-1.2988469004631042 0.20489703863859177,-1.749013364315033 l0.980188250541687,1.0302084684371948 0.5510842800140381,-1.418486088514328 l0.5746519565582275,0.5800475552678108 0.20846359431743622,0.26606548577547073 l0.08604506030678749,0.5130817741155624 0.8486463129520416,0.3313576802611351 l0.008223004988394678,-1.7934420704841614 0.3540860489010811,0.9389033913612366 l-0.1505827996879816,-1.7864181101322174 0.6198271736502647,-0.9698617458343506 l0.11282761581242085,-1.5960152447223663 -1.023407056927681,-1.6324932873249054 l-0.1704835705459118,-0.7984884828329086 0.08154666982591152,1.3475722074508667 l0.9832050651311874,-1.293567568063736 0.8745105564594269,1.9229871034622192 l-0.5525625124573708,-1.681457757949829 -0.37613485008478165,1.3267338275909424 l1.1869914829730988,1.3909263908863068 1.2138403952121735,-1.5014909207820892 l0.5270033702254295,0.6193168461322784 0.9795590490102768,2.5643733143806458 l-0.47363415360450745,1.0512985289096832 0.0815311074256897,-1.5950383245944977 l0.1279319915920496,-1.6530105471611023 0.21892162039875984,0.7050363719463348 l-0.21019570529460907,-2.094755172729492 1.106853187084198,1.5262672305107117 l0.48712950199842453,1.2814049422740936 0.5552036315202713,-1.6326819360256195 l-0.4194384068250656,1.3841156661510468 0.16235709190368652,0.6433673202991486 l0.7218290120363235,-1.6634805500507355 0.14857239089906216,-1.5721578896045685 l1.5243786573410034,1.6463319957256317 1.103479191660881,1.0281582176685333 l0.11222962290048599,-1.454363465309143 -0.3445114940404892,-1.1794984340667725 l1.4419490098953247,0.5728171765804291 1.5295462310314178,2.10819810628891 l2.5974974036216736,-0.6891096383333206 1.0650556534528732,1.7829178273677826 l-0.7192566990852356,-1.9518786668777466 0.5160346999764442,1.5442201495170593 l0.09638194926083088,-1.3161414861679077 0.9344851225614548,1.1968602985143661 l0.6463215500116348,-1.4701803028583527 0.05856131203472614,1.4704036712646484 l0.4622248560190201,1.6290386021137238 -0.34058790653944016,0.697212740778923 l-0.1525857113301754,-1.580340713262558 0.43528251349925995,-1.5258775651454926 l0.15756413340568542,1.1650101840496063 0.5742628127336502,1.1975827068090439 l1.4704270660877228,1.3855929672718048 1.3024744391441345,1.696360856294632 l0.4374225065112114,1.3746264576911926 0.6929032504558563,1.5034431219100952 l-0.06601694505661726,-1.8430957198143005 -0.37960369139909744,-1.349719762802124 l1.22795470058918,0.7007213681936264 -0.07070663385093212,0.9508621692657471 l0.6977180391550064,1.3786110281944275 -1.3285624980926514,-1.4072613418102264 l-0.2582286298274994,-1.5492093563079834 0.5294828861951828,0.9163177758455276 l-0.495707169175148,-1.542697548866272 1.8121212720870972,1.4329412579536438 l-0.16540592536330223,-1.6078051924705505 1.3136596977710724,1.1295338720083237 l1.0061490535736084,0.2386234700679779 1.087975725531578,2.033141255378723 l1.63434237241745,1.3774046301841736 1.4123214781284332,1.031533032655716 l0.4137466475367546,1.3429926335811615 0.1531545352190733,0.7528790086507797 l1.407766044139862,2.4364176392555237 1.4032132923603058,0.5069208145141602 l0.8669483661651611,1.0923152416944504 1.004069373011589,1.9323354959487915 l0.8636019378900528,0.924261137843132 2.0464105904102325,3.031286597251892 l0.583188384771347,1.5754635632038116 0.5050379782915115,0.9331594407558441 l1.8375743925571442,1.7113475501537323 0.1891779899597168,-1.3712280988693237 l0.892154723405838,1.06218121945858 1.206725612282753,0.715150386095047 l0.43721918016672134,0.9316213428974152 0.9583941847085953,1.043752133846283 l-1.115553379058838,-1.111733466386795 0.7577136904001236,1.3813981413841248 l0.4517411068081856,1.3064445555210114 2.0128923654556274,-0.33412232995033264 l0.22307045757770538,1.7655779421329498 -0.47619231045246124,-0.30764877796173096 l0.18843883648514748,1.543748527765274 2.7597635984420776,1.6774410009384155 l-0.4281352832913399,-1.8355369567871094 0.9338023513555527,1.9453208148479462 l-0.005001507233828306,1.2033496052026749 0.9851181507110596,0.39336640387773514 l0.9305858612060547,0.9632537513971329 -0.36008212715387344,-1.2123221158981323 l1.235055848956108,0.7970242202281952 1.493702083826065,1.5158770978450775 l0.6223797425627708,0.7752245664596558 -0.5071566253900528,-0.9648933261632919 l0.942833200097084,1.7806562781333923 -0.027811136096715927,1.2293678522109985 l0.46103231608867645,2.180994749069214 0.9152095764875412,1.6925184428691864 l0.8189800381660461,1.100550964474678 -1.0210354626178741,-0.7675687968730927 l0.706138089299202,1.8278808891773224 1.3324584066867828,1.252681165933609 l0.3251754865050316,1.2413151562213898 1.4351680874824524,1.136932373046875 l0.5238066241145134,0.8118213713169098 0.9071886539459229,1.623140424489975 l0.8350177854299545,0.40431227535009384 2.4236196279525757,0.8443688601255417 l1.9336967170238495,1.4800724387168884 0.23508358746767044,1.602741926908493 l0.272054485976696,1.7405429482460022 0.2668576128780842,0.9332040697336197 l0.6194711104035378,0.6562834233045578 1.290014386177063,2.3638036847114563 l0.18408643081784248,-0.784042701125145 0.3034663200378418,1.6747261583805084 l-0.17551438882946968,-1.3112515211105347 0.4444146528840065,1.4374437928199768 l1.7111316323280334,2.8098177909851074 -0.3463919088244438,-1.3887736201286316 l0.9517531096935272,0.4500521719455719 0.2458832785487175,0.8988376706838608 l0.844041183590889,0.7844042778015137 0.30058959499001503,1.4505836367607117 l0.5154810100793839,1.265399158000946 1.6253893077373505,1.679711937904358 l1.120133399963379,1.1085031181573868 -0.008743931539356709,-1.602187603712082 l1.379469484090805,1.6635951399803162 0.9656895697116852,0.08501318283379078 l-0.0727596040815115,1.4199765026569366 0.409952849149704,1.0006402432918549 l1.3349860906600952,0.8483495563268661 0.2666758559644222,-2.2632011771202087 l1.2339214980602264,2.0776958763599396 1.504913717508316,1.4735788106918335 l-0.3977295756340027,-0.5033506453037262 1.6275736689567566,1.3135597109794617 l-0.10572497732937336,-1.2897659838199615 0.3942977637052536,2.5567984580993652 l1.6954442858695984,1.9699664413928986 1.088908538222313,0.7747717201709747 l0.8364420384168625,1.232420951128006 0.7701095938682556,1.7512308061122894 l1.2101756036281586,0.3389575704932213 1.2248758971691132,2.2638286650180817 l-0.28815096244215965,1.9107544422149658 0.24393608793616295,0.8793286234140396 l1.753571331501007,0.9115219116210938 0.902155265212059,-0.19501792266964912 l1.053394228219986,1.5753911435604095 0.3190169855952263,0.7381555438041687 l0.7115356624126434,-0.2136789634823799 0.3066753037273884,1.9046907126903534 l0.638766884803772,1.5536117553710938 1.313074380159378,1.3219192624092102 l0.01066858065314591,1.2485960870981216 0.20998528227210045,-0.7684536278247833 l1.494305580854416,1.8449985980987549 2.2899794578552246,1.0862508416175842 l0.7299862056970596,1.660105288028717 0.9176798164844513,-1.8362946808338165 l0.507228709757328,0.761212557554245 0.32146845012903214,1.032761037349701 l-0.32724861055612564,-1.2669974565505981 1.741558164358139,0.20821934565901756 l-0.053380709141492844,0.6752114742994308 -0.054053240455687046,-1.2697365880012512 l1.0114028304815292,1.4480358362197876 1.0775932669639587,1.1395751684904099 l-0.6449232250452042,-1.1077547073364258 1.0506051778793335,1.4234387874603271 l0.3528936207294464,0.671820193529129 0.47357227653265,0.9502051770687103 l-1.2114493548870087,-0.9216150641441345 -0.09365158155560493,1.8443402647972107 l-0.1680055633187294,-1.5563802421092987 0.3900223970413208,1.7082610726356506 l1.1862217634916306,0.34740183502435684 1.4967375993728638,1.8691404163837433 l1.8143893778324127,-0.26060907170176506 0.9267249703407288,1.6148629784584045 l-0.6316430121660233,-1.3480262458324432 0.07532001007348299,0.8184348791837692 l-0.020515464711934328,-1.5825679898262024 1.7799928784370422,0.4537142440676689 l0.6052190437912941,-0.46208571642637253 0.3283403441309929,1.5488901734352112 l0.4319445788860321,1.7073772847652435 0.4767375811934471,1.7094601690769196 l-0.5264632031321526,-1.416831612586975 0.8297412097454071,0.6544183194637299 l-0.22733788937330246,-1.512681394815445 -0.5383452028036118,-1.2620112299919128 l0.3818225860595703,1.8344604969024658 0.7197255641222,1.6801239550113678 l-0.13500443659722805,1.4860853552818298 1.686737835407257,1.9962424039840698 l0.8661936968564987,1.9618955254554749 1.5597395598888397,0.6159388273954391 l0.8843335509300232,2.283492535352707 0.7767637819051743,1.5293484926223755 l0.4532260075211525,1.4698933064937592 0.949014350771904,1.867116242647171 l1.1179466545581818,-0.1372319832444191 0.20122695714235306,1.4318598806858063 m-5.8689037201111205,-75.39600446354598 l2.68027663230896,3.3916452527046204 0.5630184337496758,-1.0298216342926025 l0.2957000397145748,-0.9186512231826782 0.5375160276889801,-0.5210325866937637 l0.925876721739769,-0.12456835247576237 2.0655544102191925,-0.3189586475491524 l0.4452413320541382,-1.0792671889066696 1.4921456575393677,-0.7101412862539291 l1.763405054807663,-0.2641309052705765 0.8576113730669022,-0.2609522081911564 l0.8398275822401047,-0.5844668298959732 0.8678646385669708,-0.5229565128684044 l-0.7643421739339828,2.574772834777832 1.065462976694107,-0.16693390905857086 l1.2792757153511047,-0.5338855087757111 0.9886571019887924,0.06466896273195744 l0.8457943052053452,-1.2058688700199127 0.04131118766963482,-0.20611772313714027 l1.3921970129013062,-0.2634678967297077 1.9322042167186737,-0.6140489876270294 l-1.8932551145553589,3.244265913963318 -2.2481325268745422,-0.7336427271366119 l1.6365818679332733,-0.8612313866615295 -2.574221193790436,1.76340252161026 l0.8358597755432129,-1.0593289881944656 -0.21648500114679337,2.8558069467544556 l0.3049015440046787,3.0134811997413635 -0.1960858516395092,2.562408149242401 l-0.1295460481196642,3.3667120337486267 1.8024653196334839,-0.47542598098516464 l1.293817162513733,-1.519216150045395 1.6592812538146973,-0.7701819390058517 l-1.8937607109546661,3.8525140285491943 0.818040668964386,-1.1188530176877975 l-1.5607693791389465,4.597160816192627 -2.380754202604294,3.577090799808502 l0.073280930519104,-1.1282316595315933 1.410086750984192,-0.9396113455295563 l0.7609360665082932,-0.9147488325834274 -1.7380382120609283,2.2493311762809753 l-0.9111479669809341,2.299199551343918 1.2541595101356506,-1.0456445813179016 l-1.1640935391187668,1.8370594084262848 0.3784997761249542,-1.2523356080055237 l0.8130957186222076,-0.20522397011518478 -0.25034060701727867,1.8215452134609222 l-0.7775065302848816,2.0535393059253693 1.3960619270801544,-0.7247436046600342 l0.4181532561779022,-1.3586726784706116 -1.2521570920944214,0.469319224357605 l1.3784746825695038,-1.717274934053421 \" fill=\"none\" stroke=\"black\" stroke-width=\"1\"/></svg>"
          },
          "metadata": {
            "tags": []
          }
        }
      ]
    },
    {
      "cell_type": "markdown",
      "metadata": {
        "id": "vFwPna6uFQvS",
        "colab_type": "text"
      },
      "source": [
        "Let's load the Flamingo Model, and try Unconditional (Decoder-Only) Generation"
      ]
    },
    {
      "cell_type": "code",
      "metadata": {
        "id": "HH-YclgNFQvT",
        "colab_type": "code",
        "colab": {}
      },
      "source": [
        "model_dir = '/tmp/sketch_rnn/models/flamingo/lstm_uncond'"
      ],
      "execution_count": 0,
      "outputs": []
    },
    {
      "cell_type": "code",
      "metadata": {
        "id": "-Znvy3KxFQvU",
        "colab_type": "code",
        "colab": {}
      },
      "source": [
        "[hps_model, eval_hps_model, sample_hps_model] = load_model_compatible(model_dir)"
      ],
      "execution_count": 0,
      "outputs": []
    },
    {
      "cell_type": "code",
      "metadata": {
        "id": "cqDNK1cYFQvZ",
        "colab_type": "code",
        "colab": {}
      },
      "source": [
        "# construct the sketch-rnn model here:\n",
        "reset_graph()\n",
        "model = Model(hps_model)\n",
        "eval_model = Model(eval_hps_model, reuse=True)\n",
        "sample_model = Model(sample_hps_model, reuse=True)"
      ],
      "execution_count": 0,
      "outputs": []
    },
    {
      "cell_type": "code",
      "metadata": {
        "id": "7wzerSI6FQvd",
        "colab_type": "code",
        "colab": {}
      },
      "source": [
        "sess = tf.InteractiveSession()\n",
        "sess.run(tf.global_variables_initializer())"
      ],
      "execution_count": 0,
      "outputs": []
    },
    {
      "cell_type": "code",
      "metadata": {
        "id": "6mzk8KjOFQvf",
        "colab_type": "code",
        "colab": {}
      },
      "source": [
        "# loads the weights from checkpoint into our model\n",
        "load_checkpoint(sess, model_dir)"
      ],
      "execution_count": 0,
      "outputs": []
    },
    {
      "cell_type": "code",
      "metadata": {
        "id": "X88CgcyuFQvh",
        "colab_type": "code",
        "colab": {}
      },
      "source": [
        "# randomly unconditionally generate 10 examples\n",
        "N = 10\n",
        "reconstructions = []\n",
        "for i in range(N):\n",
        "  reconstructions.append([decode(temperature=0.5, draw_mode=False), [0, i]])"
      ],
      "execution_count": 0,
      "outputs": []
    },
    {
      "cell_type": "code",
      "metadata": {
        "id": "k57REtd_FQvj",
        "colab_type": "code",
        "colab": {}
      },
      "source": [
        "stroke_grid = make_grid_svg(reconstructions)\n",
        "draw_strokes(stroke_grid)"
      ],
      "execution_count": 0,
      "outputs": []
    },
    {
      "cell_type": "markdown",
      "metadata": {
        "id": "L-rJ0iUQFQvl",
        "colab_type": "text"
      },
      "source": [
        "Let's load the owl model, and generate two sketches using two random IID gaussian latent vectors"
      ]
    },
    {
      "cell_type": "code",
      "metadata": {
        "id": "of4SWwGdFQvm",
        "colab_type": "code",
        "colab": {}
      },
      "source": [
        "model_dir = '/tmp/sketch_rnn/models/owl/lstm'"
      ],
      "execution_count": 0,
      "outputs": []
    },
    {
      "cell_type": "code",
      "metadata": {
        "id": "jJiSZFQeFQvp",
        "colab_type": "code",
        "colab": {}
      },
      "source": [
        "[hps_model, eval_hps_model, sample_hps_model] = load_model_compatible(model_dir)\n",
        "# construct the sketch-rnn model here:\n",
        "reset_graph()\n",
        "model = Model(hps_model)\n",
        "eval_model = Model(eval_hps_model, reuse=True)\n",
        "sample_model = Model(sample_hps_model, reuse=True)\n",
        "sess = tf.InteractiveSession()\n",
        "sess.run(tf.global_variables_initializer())\n",
        "# loads the weights from checkpoint into our model\n",
        "load_checkpoint(sess, model_dir)"
      ],
      "execution_count": 0,
      "outputs": []
    },
    {
      "cell_type": "code",
      "metadata": {
        "id": "vR4TDoi5FQvr",
        "colab_type": "code",
        "colab": {}
      },
      "source": [
        "z_0 = np.random.randn(eval_model.hps.z_size)\n",
        "_ = decode(z_0)"
      ],
      "execution_count": 0,
      "outputs": []
    },
    {
      "cell_type": "code",
      "metadata": {
        "id": "ZX23lTnpFQvt",
        "colab_type": "code",
        "colab": {}
      },
      "source": [
        "z_1 = np.random.randn(eval_model.hps.z_size)\n",
        "_ = decode(z_1)"
      ],
      "execution_count": 0,
      "outputs": []
    },
    {
      "cell_type": "markdown",
      "metadata": {
        "id": "7FjQsF_2FQvv",
        "colab_type": "text"
      },
      "source": [
        "Let's interpolate between the two owls $z_0$ and $z_1$"
      ]
    },
    {
      "cell_type": "code",
      "metadata": {
        "id": "u6G37E8_FQvw",
        "colab_type": "code",
        "colab": {}
      },
      "source": [
        "z_list = [] # interpolate spherically between z_0 and z_1\n",
        "N = 10\n",
        "for t in np.linspace(0, 1, N):\n",
        "  z_list.append(slerp(z_0, z_1, t))\n",
        "# for every latent vector in z_list, sample a vector image\n",
        "reconstructions = []\n",
        "for i in range(N):\n",
        "  reconstructions.append([decode(z_list[i], draw_mode=False, temperature=0.1), [0, i]])"
      ],
      "execution_count": 0,
      "outputs": []
    },
    {
      "cell_type": "code",
      "metadata": {
        "id": "OULjMktmFQvx",
        "colab_type": "code",
        "colab": {}
      },
      "source": [
        "stroke_grid = make_grid_svg(reconstructions)\n",
        "draw_strokes(stroke_grid)"
      ],
      "execution_count": 0,
      "outputs": []
    },
    {
      "cell_type": "markdown",
      "metadata": {
        "id": "OiXNC-YsFQv0",
        "colab_type": "text"
      },
      "source": [
        "Let's load the model trained on both cats and buses!  catbus!"
      ]
    },
    {
      "cell_type": "code",
      "metadata": {
        "id": "SL7WpDDQFQv0",
        "colab_type": "code",
        "colab": {}
      },
      "source": [
        "model_dir = '/tmp/sketch_rnn/models/catbus/lstm'"
      ],
      "execution_count": 0,
      "outputs": []
    },
    {
      "cell_type": "code",
      "metadata": {
        "id": "Cvk5WOqHFQv2",
        "colab_type": "code",
        "colab": {}
      },
      "source": [
        "[hps_model, eval_hps_model, sample_hps_model] = load_model_compatible(model_dir)\n",
        "# construct the sketch-rnn model here:\n",
        "reset_graph()\n",
        "model = Model(hps_model)\n",
        "eval_model = Model(eval_hps_model, reuse=True)\n",
        "sample_model = Model(sample_hps_model, reuse=True)\n",
        "sess = tf.InteractiveSession()\n",
        "sess.run(tf.global_variables_initializer())\n",
        "# loads the weights from checkpoint into our model\n",
        "load_checkpoint(sess, model_dir)"
      ],
      "execution_count": 0,
      "outputs": []
    },
    {
      "cell_type": "code",
      "metadata": {
        "id": "icvlBPVkFQv5",
        "colab_type": "code",
        "colab": {}
      },
      "source": [
        "z_1 = np.random.randn(eval_model.hps.z_size)\n",
        "_ = decode(z_1)"
      ],
      "execution_count": 0,
      "outputs": []
    },
    {
      "cell_type": "code",
      "metadata": {
        "id": "uaNxd0LuFQv-",
        "colab_type": "code",
        "colab": {}
      },
      "source": [
        "z_0 = np.random.randn(eval_model.hps.z_size)\n",
        "_ = decode(z_0)"
      ],
      "execution_count": 0,
      "outputs": []
    },
    {
      "cell_type": "markdown",
      "metadata": {
        "id": "VtSYkS6mFQwC",
        "colab_type": "text"
      },
      "source": [
        "Let's interpolate between a cat and a bus!!!"
      ]
    },
    {
      "cell_type": "code",
      "metadata": {
        "id": "qIDYUxBEFQwD",
        "colab_type": "code",
        "colab": {}
      },
      "source": [
        "z_list = [] # interpolate spherically between z_1 and z_0\n",
        "N = 10\n",
        "for t in np.linspace(0, 1, N):\n",
        "  z_list.append(slerp(z_1, z_0, t))\n",
        "# for every latent vector in z_list, sample a vector image\n",
        "reconstructions = []\n",
        "for i in range(N):\n",
        "  reconstructions.append([decode(z_list[i], draw_mode=False, temperature=0.15), [0, i]])"
      ],
      "execution_count": 0,
      "outputs": []
    },
    {
      "cell_type": "code",
      "metadata": {
        "id": "ZHmnSjSaFQwH",
        "colab_type": "code",
        "colab": {}
      },
      "source": [
        "stroke_grid = make_grid_svg(reconstructions)\n",
        "draw_strokes(stroke_grid)"
      ],
      "execution_count": 0,
      "outputs": []
    },
    {
      "cell_type": "markdown",
      "metadata": {
        "id": "flZ_OgzCFQwJ",
        "colab_type": "text"
      },
      "source": [
        "Why stop here? Let's load the model trained on both elephants and pigs!!!"
      ]
    },
    {
      "cell_type": "code",
      "metadata": {
        "id": "S8WwK8FPFQwK",
        "colab_type": "code",
        "colab": {}
      },
      "source": [
        "model_dir = '/tmp/sketch_rnn/models/elephantpig/lstm'"
      ],
      "execution_count": 0,
      "outputs": []
    },
    {
      "cell_type": "code",
      "metadata": {
        "id": "meOH4AFXFQwM",
        "colab_type": "code",
        "colab": {}
      },
      "source": [
        "[hps_model, eval_hps_model, sample_hps_model] = load_model_compatible(model_dir)\n",
        "# construct the sketch-rnn model here:\n",
        "reset_graph()\n",
        "model = Model(hps_model)\n",
        "eval_model = Model(eval_hps_model, reuse=True)\n",
        "sample_model = Model(sample_hps_model, reuse=True)\n",
        "sess = tf.InteractiveSession()\n",
        "sess.run(tf.global_variables_initializer())\n",
        "# loads the weights from checkpoint into our model\n",
        "load_checkpoint(sess, model_dir)"
      ],
      "execution_count": 0,
      "outputs": []
    },
    {
      "cell_type": "code",
      "metadata": {
        "id": "foZiiYPdFQwO",
        "colab_type": "code",
        "colab": {}
      },
      "source": [
        "z_0 = np.random.randn(eval_model.hps.z_size)\n",
        "_ = decode(z_0)"
      ],
      "execution_count": 0,
      "outputs": []
    },
    {
      "cell_type": "code",
      "metadata": {
        "id": "6Gaz3QG1FQwS",
        "colab_type": "code",
        "colab": {}
      },
      "source": [
        "z_1 = np.random.randn(eval_model.hps.z_size)\n",
        "_ = decode(z_1)"
      ],
      "execution_count": 0,
      "outputs": []
    },
    {
      "cell_type": "markdown",
      "metadata": {
        "id": "oVtr7NnGFQwU",
        "colab_type": "text"
      },
      "source": [
        "Tribute to an episode of [South Park](https://en.wikipedia.org/wiki/An_Elephant_Makes_Love_to_a_Pig): The interpolation between an Elephant and a Pig"
      ]
    },
    {
      "cell_type": "code",
      "metadata": {
        "id": "lJs9JbROFQwU",
        "colab_type": "code",
        "colab": {}
      },
      "source": [
        "z_list = [] # interpolate spherically between z_1 and z_0\n",
        "N = 10\n",
        "for t in np.linspace(0, 1, N):\n",
        "  z_list.append(slerp(z_0, z_1, t))\n",
        "# for every latent vector in z_list, sample a vector image\n",
        "reconstructions = []\n",
        "for i in range(N):\n",
        "  reconstructions.append([decode(z_list[i], draw_mode=False, temperature=0.15), [0, i]])"
      ],
      "execution_count": 0,
      "outputs": []
    },
    {
      "cell_type": "code",
      "metadata": {
        "id": "0FOuNfJMFQwW",
        "colab_type": "code",
        "colab": {}
      },
      "source": [
        "stroke_grid = make_grid_svg(reconstructions, grid_space_x=25.0)"
      ],
      "execution_count": 0,
      "outputs": []
    },
    {
      "cell_type": "code",
      "metadata": {
        "id": "bZ6zpdiMFQwX",
        "colab_type": "code",
        "colab": {}
      },
      "source": [
        "draw_strokes(stroke_grid, factor=0.3)"
      ],
      "execution_count": 0,
      "outputs": []
    }
  ]
}